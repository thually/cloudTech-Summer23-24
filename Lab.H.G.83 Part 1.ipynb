{
 "cells": [
  {
   "cell_type": "code",
   "execution_count": null,
   "metadata": {},
   "outputs": [],
   "source": [
    "!pip install catboost scikit-plot"
   ]
  },
  {
   "cell_type": "markdown",
   "metadata": {},
   "source": [
    "# Original Notebook"
   ]
  },
  {
   "cell_type": "code",
   "execution_count": 1,
   "metadata": {},
   "outputs": [],
   "source": [
    "import pandas as pd\n",
    "import numpy as np\n",
    "\n",
    "import re, math, os\n",
    "\n",
    "\n",
    "\n",
    "from collections import Counter, defaultdict\n",
    "\n",
    "from sklearn.model_selection import cross_val_score, cross_val_predict, StratifiedKFold\n",
    "from sklearn.feature_extraction.text import CountVectorizer, TfidfVectorizer\n",
    "\n",
    "from sklearn.dummy import DummyClassifier\n",
    "from sklearn.linear_model import LogisticRegression\n",
    "from sklearn.svm import SVC\n",
    "from sklearn.naive_bayes import MultinomialNB\n",
    "from sklearn.tree import DecisionTreeClassifier\n",
    "from sklearn.ensemble import RandomForestClassifier\n",
    "import xgboost as xgb\n",
    "import catboost as ctb\n",
    "#import lightgbm as lgb\n",
    "\n",
    "from sklearn.metrics import accuracy_score, f1_score\n",
    "from scikitplot.metrics import plot_confusion_matrix\n",
    "from sklearn.metrics import ConfusionMatrixDisplay\n",
    "\n",
    "import matplotlib.pyplot as plt\n",
    "import seaborn as sns\n",
    "\n",
    "p = lambda x: print(x)\n",
    "\n",
    "%matplotlib inline"
   ]
  },
  {
   "cell_type": "markdown",
   "metadata": {},
   "source": [
    "### Download IMDB from IBM Cloud Object Storage"
   ]
  },
  {
   "cell_type": "markdown",
   "metadata": {},
   "source": [
    "As we did previously e.g. in Lab.I.80, let's collect individual training reviews into a list of chains: one chain per review.\n",
    "We also collect review labels (positive/negative) for the labels list."
   ]
  },
  {
   "cell_type": "code",
   "execution_count": null,
   "metadata": {},
   "outputs": [],
   "source": [
    "import os, types\n",
    "from botocore.client import Config\n",
    "import ibm_boto3\n",
    "\n",
    "def __iter__(self): return 0\n",
    "\n",
    "# @hidden_cell\n",
    "# The following code accesses a file in your IBM Cloud Object Storage. It includes your credentials.\n",
    "# You might want to remove those credentials before you share the notebook.\n",
    "\n",
    "\"\"\" if os.environ.get('RUNTIME_ENV_LOCATION_TYPE') == 'external':\n",
    "    endpoint_a205bd0ef67d4e43a20f54571521aa41 = 'https://s3-api.us-geo.objectstorage.softlayer.net'\n",
    "else:\n",
    "    endpoint_a205bd0ef67d4e43a20f54571521aa41 = 'https://s3-api.us-geo.objectstorage.service.networklayer.com' \"\"\"\n",
    "\n",
    "endpoint_a205bd0ef67d4e43a20f54571521aa41 = 'https://s3-api.us-geo.objectstorage.softlayer.net'\n",
    "\n",
    "client_a205bd0ef67d4e43a20f54571521aa41 = ibm_boto3.client(service_name='s3',\n",
    "    ibm_api_key_id='3oTQ_GU9OAHXSgCgxR06S1CTzFOR44-4KvNuuoVgBqux',\n",
    "    ibm_auth_endpoint=\"https://iam.cloud.ibm.com/oidc/token\",\n",
    "    config=Config(signature_version='oauth'),\n",
    "    endpoint_url=endpoint_a205bd0ef67d4e43a20f54571521aa41)\n",
    "# Your data file was loaded into a botocore.response.StreamingBody object.\n",
    "# Please read the documentation of ibm_boto3 and pandas to learn more about the possibilities to load the data.\n",
    "# ibm_boto3 documentation: https://ibm.github.io/ibm-cos-sdk-python/\n",
    "# pandas documentation: http://pandas.pydata.org/\n",
    "streaming_body_4 = client_a205bd0ef67d4e43a20f54571521aa41.get_object(Bucket='2020l-donotdelete-pr-iya5gjhbhguf6w', Key='aclImdb.zip')['Body']\n",
    "# add missing __iter__ method so pandas accepts body as file-like object\n",
    "if not hasattr(streaming_body_4, \"__iter__\"): streaming_body_4.__iter__ = types.MethodType( __iter__, streaming_body_4 ) \n",
    "    \n",
    "data = streaming_body_4._raw_stream  \n",
    "with open(\"imdb.zip\", \"wb\") as outfile:\n",
    "    # Copy the BytesIO stream to the output file\n",
    "    outfile.write(data.read())\n",
    "    \n",
    "import zipfile\n",
    "with zipfile.ZipFile('imdb.zip', 'r') as zip_ref:\n",
    "    zip_ref.extractall('.')"
   ]
  },
  {
   "cell_type": "markdown",
   "metadata": {},
   "source": [
    "We take the 'train' dataset from the files"
   ]
  },
  {
   "cell_type": "code",
   "execution_count": null,
   "metadata": {},
   "outputs": [],
   "source": [
    "imdb_dir = './aclImdb'\n",
    "train_dir = os.path.join(imdb_dir, 'train')\n",
    "\n",
    "labels = []\n",
    "texts = []\n",
    "\n",
    "for label_type in ['neg', 'pos']:\n",
    "    dir_name = os.path.join(train_dir, label_type)\n",
    "    for fname in os.listdir(dir_name):\n",
    "        if fname[-4:] == '.txt':\n",
    "            f = open(os.path.join(dir_name, fname), encoding='utf-8')\n",
    "            texts.append(f.read())\n",
    "            f.close()\n",
    "            if label_type == 'neg':\n",
    "                labels.append(0)\n",
    "            else:\n",
    "                labels.append(1)\n",
    "                \n",
    "# create and load df from lists 'labels' and 'texts'\n",
    "df = pd.DataFrame(columns=['labels', 'texts'])\n",
    "df['labels']=labels\n",
    "df['texts']=texts\n",
    "\n",
    "df.to_csv('df.csv', index=False)"
   ]
  },
  {
   "cell_type": "code",
   "execution_count": 2,
   "metadata": {},
   "outputs": [
    {
     "data": {
      "text/html": [
       "<div>\n",
       "<style scoped>\n",
       "    .dataframe tbody tr th:only-of-type {\n",
       "        vertical-align: middle;\n",
       "    }\n",
       "\n",
       "    .dataframe tbody tr th {\n",
       "        vertical-align: top;\n",
       "    }\n",
       "\n",
       "    .dataframe thead th {\n",
       "        text-align: right;\n",
       "    }\n",
       "</style>\n",
       "<table border=\"1\" class=\"dataframe\">\n",
       "  <thead>\n",
       "    <tr style=\"text-align: right;\">\n",
       "      <th></th>\n",
       "      <th>labels</th>\n",
       "      <th>texts</th>\n",
       "    </tr>\n",
       "  </thead>\n",
       "  <tbody>\n",
       "    <tr>\n",
       "      <th>0</th>\n",
       "      <td>0</td>\n",
       "      <td>Story of a man who has unnatural feelings for ...</td>\n",
       "    </tr>\n",
       "    <tr>\n",
       "      <th>1</th>\n",
       "      <td>0</td>\n",
       "      <td>Airport '77 starts as a brand new luxury 747 p...</td>\n",
       "    </tr>\n",
       "    <tr>\n",
       "      <th>2</th>\n",
       "      <td>0</td>\n",
       "      <td>This film lacked something I couldn't put my f...</td>\n",
       "    </tr>\n",
       "    <tr>\n",
       "      <th>3</th>\n",
       "      <td>0</td>\n",
       "      <td>Sorry everyone,,, I know this is supposed to b...</td>\n",
       "    </tr>\n",
       "    <tr>\n",
       "      <th>4</th>\n",
       "      <td>0</td>\n",
       "      <td>When I was little my parents took me along to ...</td>\n",
       "    </tr>\n",
       "    <tr>\n",
       "      <th>...</th>\n",
       "      <td>...</td>\n",
       "      <td>...</td>\n",
       "    </tr>\n",
       "    <tr>\n",
       "      <th>24995</th>\n",
       "      <td>1</td>\n",
       "      <td>Seeing as the vote average was pretty low, and...</td>\n",
       "    </tr>\n",
       "    <tr>\n",
       "      <th>24996</th>\n",
       "      <td>1</td>\n",
       "      <td>The plot had some wretched, unbelievable twist...</td>\n",
       "    </tr>\n",
       "    <tr>\n",
       "      <th>24997</th>\n",
       "      <td>1</td>\n",
       "      <td>I am amazed at how this movie(and most others ...</td>\n",
       "    </tr>\n",
       "    <tr>\n",
       "      <th>24998</th>\n",
       "      <td>1</td>\n",
       "      <td>A Christmas Together actually came before my t...</td>\n",
       "    </tr>\n",
       "    <tr>\n",
       "      <th>24999</th>\n",
       "      <td>1</td>\n",
       "      <td>Working-class romantic drama from director Mar...</td>\n",
       "    </tr>\n",
       "  </tbody>\n",
       "</table>\n",
       "<p>25000 rows × 2 columns</p>\n",
       "</div>"
      ],
      "text/plain": [
       "       labels                                              texts\n",
       "0           0  Story of a man who has unnatural feelings for ...\n",
       "1           0  Airport '77 starts as a brand new luxury 747 p...\n",
       "2           0  This film lacked something I couldn't put my f...\n",
       "3           0  Sorry everyone,,, I know this is supposed to b...\n",
       "4           0  When I was little my parents took me along to ...\n",
       "...       ...                                                ...\n",
       "24995       1  Seeing as the vote average was pretty low, and...\n",
       "24996       1  The plot had some wretched, unbelievable twist...\n",
       "24997       1  I am amazed at how this movie(and most others ...\n",
       "24998       1  A Christmas Together actually came before my t...\n",
       "24999       1  Working-class romantic drama from director Mar...\n",
       "\n",
       "[25000 rows x 2 columns]"
      ]
     },
     "execution_count": 2,
     "metadata": {},
     "output_type": "execute_result"
    }
   ],
   "source": [
    "df = pd.read_csv('df.csv')\n",
    "df"
   ]
  },
  {
   "cell_type": "code",
   "execution_count": 3,
   "metadata": {},
   "outputs": [],
   "source": [
    "# mixing\n",
    "df = df.sample(frac = 1.0, random_state=33)"
   ]
  },
  {
   "cell_type": "code",
   "execution_count": 4,
   "metadata": {},
   "outputs": [
    {
     "data": {
      "image/png": "[encoded data removed]",
      "text/plain": [
       "<Figure size 640x480 with 1 Axes>"
      ]
     },
     "metadata": {},
     "output_type": "display_data"
    }
   ],
   "source": [
    "# distribution of labels in the training set\n",
    "df['labels'].value_counts(normalize=True).plot(kind='bar');"
   ]
  },
  {
   "cell_type": "code",
   "execution_count": 5,
   "metadata": {},
   "outputs": [
    {
     "data": {
      "text/html": [
       "<div>\n",
       "<style scoped>\n",
       "    .dataframe tbody tr th:only-of-type {\n",
       "        vertical-align: middle;\n",
       "    }\n",
       "\n",
       "    .dataframe tbody tr th {\n",
       "        vertical-align: top;\n",
       "    }\n",
       "\n",
       "    .dataframe thead th {\n",
       "        text-align: right;\n",
       "    }\n",
       "</style>\n",
       "<table border=\"1\" class=\"dataframe\">\n",
       "  <thead>\n",
       "    <tr style=\"text-align: right;\">\n",
       "      <th></th>\n",
       "      <th>labels</th>\n",
       "      <th>texts</th>\n",
       "      <th>texts_norm</th>\n",
       "    </tr>\n",
       "  </thead>\n",
       "  <tbody>\n",
       "    <tr>\n",
       "      <th>17797</th>\n",
       "      <td>1</td>\n",
       "      <td>Drum scene is wild! Cook, Jr. is unsung hero o...</td>\n",
       "      <td>drum scene is wild! cook, jr. is unsung hero o...</td>\n",
       "    </tr>\n",
       "    <tr>\n",
       "      <th>6458</th>\n",
       "      <td>0</td>\n",
       "      <td>This movie is possibly the cheapest, cheesiest...</td>\n",
       "      <td>this movie is possibly the cheapest, cheesiest...</td>\n",
       "    </tr>\n",
       "    <tr>\n",
       "      <th>14478</th>\n",
       "      <td>1</td>\n",
       "      <td>The documentary presents an original theory ab...</td>\n",
       "      <td>the documentary presents an original theory ab...</td>\n",
       "    </tr>\n",
       "    <tr>\n",
       "      <th>14825</th>\n",
       "      <td>1</td>\n",
       "      <td>Italy produced a lot of really great and origi...</td>\n",
       "      <td>italy produced a lot of really great and origi...</td>\n",
       "    </tr>\n",
       "    <tr>\n",
       "      <th>7523</th>\n",
       "      <td>0</td>\n",
       "      <td>I just came from seeing this movie and decided...</td>\n",
       "      <td>i just came from seeing this movie and decided...</td>\n",
       "    </tr>\n",
       "    <tr>\n",
       "      <th>...</th>\n",
       "      <td>...</td>\n",
       "      <td>...</td>\n",
       "      <td>...</td>\n",
       "    </tr>\n",
       "    <tr>\n",
       "      <th>57</th>\n",
       "      <td>0</td>\n",
       "      <td>I gave this 4 stars because it has a lot of in...</td>\n",
       "      <td>i gave this 4 stars because it has a lot of in...</td>\n",
       "    </tr>\n",
       "    <tr>\n",
       "      <th>578</th>\n",
       "      <td>0</td>\n",
       "      <td>Angels who got a little icky were banned from ...</td>\n",
       "      <td>angels who got a little icky were banned from ...</td>\n",
       "    </tr>\n",
       "    <tr>\n",
       "      <th>5848</th>\n",
       "      <td>0</td>\n",
       "      <td>After watching some of HBO's great stuff - Ban...</td>\n",
       "      <td>after watching some of hbo's great stuff - ban...</td>\n",
       "    </tr>\n",
       "    <tr>\n",
       "      <th>2439</th>\n",
       "      <td>0</td>\n",
       "      <td>The actors did a really good job playing their...</td>\n",
       "      <td>the actors did a really good job playing their...</td>\n",
       "    </tr>\n",
       "    <tr>\n",
       "      <th>23572</th>\n",
       "      <td>1</td>\n",
       "      <td>I thought this was a quiet good movie. It was ...</td>\n",
       "      <td>i thought this was a quiet good movie. it was ...</td>\n",
       "    </tr>\n",
       "  </tbody>\n",
       "</table>\n",
       "<p>25000 rows × 3 columns</p>\n",
       "</div>"
      ],
      "text/plain": [
       "       labels                                              texts  \\\n",
       "17797       1  Drum scene is wild! Cook, Jr. is unsung hero o...   \n",
       "6458        0  This movie is possibly the cheapest, cheesiest...   \n",
       "14478       1  The documentary presents an original theory ab...   \n",
       "14825       1  Italy produced a lot of really great and origi...   \n",
       "7523        0  I just came from seeing this movie and decided...   \n",
       "...       ...                                                ...   \n",
       "57          0  I gave this 4 stars because it has a lot of in...   \n",
       "578         0  Angels who got a little icky were banned from ...   \n",
       "5848        0  After watching some of HBO's great stuff - Ban...   \n",
       "2439        0  The actors did a really good job playing their...   \n",
       "23572       1  I thought this was a quiet good movie. It was ...   \n",
       "\n",
       "                                              texts_norm  \n",
       "17797  drum scene is wild! cook, jr. is unsung hero o...  \n",
       "6458   this movie is possibly the cheapest, cheesiest...  \n",
       "14478  the documentary presents an original theory ab...  \n",
       "14825  italy produced a lot of really great and origi...  \n",
       "7523   i just came from seeing this movie and decided...  \n",
       "...                                                  ...  \n",
       "57     i gave this 4 stars because it has a lot of in...  \n",
       "578    angels who got a little icky were banned from ...  \n",
       "5848   after watching some of hbo's great stuff - ban...  \n",
       "2439   the actors did a really good job playing their...  \n",
       "23572  i thought this was a quiet good movie. it was ...  \n",
       "\n",
       "[25000 rows x 3 columns]"
      ]
     },
     "execution_count": 5,
     "metadata": {},
     "output_type": "execute_result"
    }
   ],
   "source": [
    "# light normalization\n",
    "df['texts_norm'] = df['texts'].str.lower()\n",
    "df"
   ]
  },
  {
   "cell_type": "code",
   "execution_count": 6,
   "metadata": {},
   "outputs": [
    {
     "data": {
      "text/plain": [
       "'drum scene is wild! cook, jr. is unsung hero of this and many movies. fantastic actor, great flick. a few twists that keep you moving. a must-see.'"
      ]
     },
     "execution_count": 6,
     "metadata": {},
     "output_type": "execute_result"
    }
   ],
   "source": [
    "test_initial_1 = df.iloc[0]['texts_norm']\n",
    "test_initial_1"
   ]
  },
  {
   "cell_type": "code",
   "execution_count": 7,
   "metadata": {},
   "outputs": [
    {
     "data": {
      "text/plain": [
       "252192"
      ]
     },
     "execution_count": 7,
     "metadata": {},
     "output_type": "execute_result"
    }
   ],
   "source": [
    "# tokenization\n",
    "tokens_set = set()\n",
    "df['texts_norm'].str.split(\" \").map(tokens_set.update)\n",
    "\n",
    "len(tokens_set)"
   ]
  },
  {
   "cell_type": "code",
   "execution_count": 8,
   "metadata": {},
   "outputs": [
    {
     "data": {
      "text/plain": [
       "[('the', 322174),\n",
       " ('a', 159949),\n",
       " ('and', 158556),\n",
       " ('of', 144459),\n",
       " ('to', 133965)]"
      ]
     },
     "execution_count": 8,
     "metadata": {},
     "output_type": "execute_result"
    }
   ],
   "source": [
    "# what are the most frequent tokens? -> Counter(tokens_set).most_common()\n",
    "cntr = Counter()\n",
    "df[\"texts_norm\"].str.split(\" \").map(cntr.update)\n",
    "cntr.most_common(n=5)"
   ]
  },
  {
   "cell_type": "code",
   "execution_count": 9,
   "metadata": {},
   "outputs": [],
   "source": [
    "def get_df_topn(text: pd.Series, topn: int, counter_tokens: Counter):\n",
    "\n",
    "    top_tokens = [x[0] for x in counter_tokens.most_common(n=topn)]\n",
    "\n",
    "    def check_top_n(sent_tokens):\n",
    "        return [int(token in sent_tokens) for token in top_tokens]\n",
    "\n",
    "    df_topn = text.str.split(\" \").map(set).map(check_top_n).apply(pd.Series) # .apply: If func returns a Series object the result will be a DataFrame.\n",
    "    df_topn.columns = top_tokens\n",
    "\n",
    "    return df_topn"
   ]
  },
  {
   "cell_type": "code",
   "execution_count": 10,
   "metadata": {},
   "outputs": [
    {
     "data": {
      "text/html": [
       "<div>\n",
       "<style scoped>\n",
       "    .dataframe tbody tr th:only-of-type {\n",
       "        vertical-align: middle;\n",
       "    }\n",
       "\n",
       "    .dataframe tbody tr th {\n",
       "        vertical-align: top;\n",
       "    }\n",
       "\n",
       "    .dataframe thead th {\n",
       "        text-align: right;\n",
       "    }\n",
       "</style>\n",
       "<table border=\"1\" class=\"dataframe\">\n",
       "  <thead>\n",
       "    <tr style=\"text-align: right;\">\n",
       "      <th></th>\n",
       "      <th>the</th>\n",
       "      <th>a</th>\n",
       "      <th>and</th>\n",
       "      <th>of</th>\n",
       "      <th>to</th>\n",
       "      <th>is</th>\n",
       "      <th>in</th>\n",
       "      <th>i</th>\n",
       "      <th>this</th>\n",
       "      <th>that</th>\n",
       "      <th>...</th>\n",
       "      <th>her</th>\n",
       "      <th>about</th>\n",
       "      <th>it's</th>\n",
       "      <th>some</th>\n",
       "      <th>if</th>\n",
       "      <th>out</th>\n",
       "      <th>what</th>\n",
       "      <th>very</th>\n",
       "      <th>when</th>\n",
       "      <th>more</th>\n",
       "    </tr>\n",
       "  </thead>\n",
       "  <tbody>\n",
       "    <tr>\n",
       "      <th>17797</th>\n",
       "      <td>0</td>\n",
       "      <td>1</td>\n",
       "      <td>1</td>\n",
       "      <td>1</td>\n",
       "      <td>0</td>\n",
       "      <td>1</td>\n",
       "      <td>0</td>\n",
       "      <td>0</td>\n",
       "      <td>1</td>\n",
       "      <td>1</td>\n",
       "      <td>...</td>\n",
       "      <td>0</td>\n",
       "      <td>0</td>\n",
       "      <td>0</td>\n",
       "      <td>0</td>\n",
       "      <td>0</td>\n",
       "      <td>0</td>\n",
       "      <td>0</td>\n",
       "      <td>0</td>\n",
       "      <td>0</td>\n",
       "      <td>0</td>\n",
       "    </tr>\n",
       "    <tr>\n",
       "      <th>6458</th>\n",
       "      <td>1</td>\n",
       "      <td>1</td>\n",
       "      <td>1</td>\n",
       "      <td>1</td>\n",
       "      <td>1</td>\n",
       "      <td>1</td>\n",
       "      <td>1</td>\n",
       "      <td>1</td>\n",
       "      <td>1</td>\n",
       "      <td>1</td>\n",
       "      <td>...</td>\n",
       "      <td>0</td>\n",
       "      <td>1</td>\n",
       "      <td>0</td>\n",
       "      <td>0</td>\n",
       "      <td>0</td>\n",
       "      <td>0</td>\n",
       "      <td>1</td>\n",
       "      <td>1</td>\n",
       "      <td>1</td>\n",
       "      <td>1</td>\n",
       "    </tr>\n",
       "    <tr>\n",
       "      <th>14478</th>\n",
       "      <td>1</td>\n",
       "      <td>1</td>\n",
       "      <td>1</td>\n",
       "      <td>1</td>\n",
       "      <td>1</td>\n",
       "      <td>1</td>\n",
       "      <td>1</td>\n",
       "      <td>1</td>\n",
       "      <td>1</td>\n",
       "      <td>0</td>\n",
       "      <td>...</td>\n",
       "      <td>0</td>\n",
       "      <td>1</td>\n",
       "      <td>0</td>\n",
       "      <td>0</td>\n",
       "      <td>1</td>\n",
       "      <td>0</td>\n",
       "      <td>0</td>\n",
       "      <td>0</td>\n",
       "      <td>0</td>\n",
       "      <td>0</td>\n",
       "    </tr>\n",
       "    <tr>\n",
       "      <th>14825</th>\n",
       "      <td>1</td>\n",
       "      <td>1</td>\n",
       "      <td>1</td>\n",
       "      <td>1</td>\n",
       "      <td>1</td>\n",
       "      <td>1</td>\n",
       "      <td>1</td>\n",
       "      <td>0</td>\n",
       "      <td>1</td>\n",
       "      <td>1</td>\n",
       "      <td>...</td>\n",
       "      <td>1</td>\n",
       "      <td>1</td>\n",
       "      <td>1</td>\n",
       "      <td>0</td>\n",
       "      <td>0</td>\n",
       "      <td>0</td>\n",
       "      <td>0</td>\n",
       "      <td>1</td>\n",
       "      <td>1</td>\n",
       "      <td>1</td>\n",
       "    </tr>\n",
       "    <tr>\n",
       "      <th>7523</th>\n",
       "      <td>1</td>\n",
       "      <td>1</td>\n",
       "      <td>1</td>\n",
       "      <td>1</td>\n",
       "      <td>1</td>\n",
       "      <td>1</td>\n",
       "      <td>0</td>\n",
       "      <td>1</td>\n",
       "      <td>1</td>\n",
       "      <td>1</td>\n",
       "      <td>...</td>\n",
       "      <td>0</td>\n",
       "      <td>0</td>\n",
       "      <td>0</td>\n",
       "      <td>0</td>\n",
       "      <td>1</td>\n",
       "      <td>0</td>\n",
       "      <td>1</td>\n",
       "      <td>1</td>\n",
       "      <td>0</td>\n",
       "      <td>0</td>\n",
       "    </tr>\n",
       "    <tr>\n",
       "      <th>...</th>\n",
       "      <td>...</td>\n",
       "      <td>...</td>\n",
       "      <td>...</td>\n",
       "      <td>...</td>\n",
       "      <td>...</td>\n",
       "      <td>...</td>\n",
       "      <td>...</td>\n",
       "      <td>...</td>\n",
       "      <td>...</td>\n",
       "      <td>...</td>\n",
       "      <td>...</td>\n",
       "      <td>...</td>\n",
       "      <td>...</td>\n",
       "      <td>...</td>\n",
       "      <td>...</td>\n",
       "      <td>...</td>\n",
       "      <td>...</td>\n",
       "      <td>...</td>\n",
       "      <td>...</td>\n",
       "      <td>...</td>\n",
       "      <td>...</td>\n",
       "    </tr>\n",
       "    <tr>\n",
       "      <th>57</th>\n",
       "      <td>1</td>\n",
       "      <td>1</td>\n",
       "      <td>1</td>\n",
       "      <td>1</td>\n",
       "      <td>1</td>\n",
       "      <td>0</td>\n",
       "      <td>1</td>\n",
       "      <td>1</td>\n",
       "      <td>1</td>\n",
       "      <td>1</td>\n",
       "      <td>...</td>\n",
       "      <td>0</td>\n",
       "      <td>0</td>\n",
       "      <td>1</td>\n",
       "      <td>0</td>\n",
       "      <td>1</td>\n",
       "      <td>0</td>\n",
       "      <td>0</td>\n",
       "      <td>1</td>\n",
       "      <td>0</td>\n",
       "      <td>0</td>\n",
       "    </tr>\n",
       "    <tr>\n",
       "      <th>578</th>\n",
       "      <td>1</td>\n",
       "      <td>1</td>\n",
       "      <td>1</td>\n",
       "      <td>1</td>\n",
       "      <td>1</td>\n",
       "      <td>1</td>\n",
       "      <td>1</td>\n",
       "      <td>0</td>\n",
       "      <td>1</td>\n",
       "      <td>1</td>\n",
       "      <td>...</td>\n",
       "      <td>0</td>\n",
       "      <td>1</td>\n",
       "      <td>0</td>\n",
       "      <td>0</td>\n",
       "      <td>0</td>\n",
       "      <td>0</td>\n",
       "      <td>0</td>\n",
       "      <td>0</td>\n",
       "      <td>0</td>\n",
       "      <td>0</td>\n",
       "    </tr>\n",
       "    <tr>\n",
       "      <th>5848</th>\n",
       "      <td>1</td>\n",
       "      <td>1</td>\n",
       "      <td>1</td>\n",
       "      <td>1</td>\n",
       "      <td>1</td>\n",
       "      <td>1</td>\n",
       "      <td>1</td>\n",
       "      <td>1</td>\n",
       "      <td>1</td>\n",
       "      <td>1</td>\n",
       "      <td>...</td>\n",
       "      <td>1</td>\n",
       "      <td>0</td>\n",
       "      <td>1</td>\n",
       "      <td>1</td>\n",
       "      <td>1</td>\n",
       "      <td>1</td>\n",
       "      <td>1</td>\n",
       "      <td>1</td>\n",
       "      <td>1</td>\n",
       "      <td>1</td>\n",
       "    </tr>\n",
       "    <tr>\n",
       "      <th>2439</th>\n",
       "      <td>1</td>\n",
       "      <td>1</td>\n",
       "      <td>1</td>\n",
       "      <td>1</td>\n",
       "      <td>1</td>\n",
       "      <td>1</td>\n",
       "      <td>1</td>\n",
       "      <td>1</td>\n",
       "      <td>0</td>\n",
       "      <td>1</td>\n",
       "      <td>...</td>\n",
       "      <td>0</td>\n",
       "      <td>0</td>\n",
       "      <td>0</td>\n",
       "      <td>0</td>\n",
       "      <td>0</td>\n",
       "      <td>1</td>\n",
       "      <td>0</td>\n",
       "      <td>1</td>\n",
       "      <td>0</td>\n",
       "      <td>1</td>\n",
       "    </tr>\n",
       "    <tr>\n",
       "      <th>23572</th>\n",
       "      <td>1</td>\n",
       "      <td>1</td>\n",
       "      <td>0</td>\n",
       "      <td>1</td>\n",
       "      <td>1</td>\n",
       "      <td>0</td>\n",
       "      <td>0</td>\n",
       "      <td>1</td>\n",
       "      <td>1</td>\n",
       "      <td>0</td>\n",
       "      <td>...</td>\n",
       "      <td>0</td>\n",
       "      <td>0</td>\n",
       "      <td>0</td>\n",
       "      <td>0</td>\n",
       "      <td>0</td>\n",
       "      <td>0</td>\n",
       "      <td>1</td>\n",
       "      <td>0</td>\n",
       "      <td>0</td>\n",
       "      <td>0</td>\n",
       "    </tr>\n",
       "  </tbody>\n",
       "</table>\n",
       "<p>25000 rows × 50 columns</p>\n",
       "</div>"
      ],
      "text/plain": [
       "       the  a  and  of  to  is  in  i  this  that  ...  her  about  it's  \\\n",
       "17797    0  1    1   1   0   1   0  0     1     1  ...    0      0     0   \n",
       "6458     1  1    1   1   1   1   1  1     1     1  ...    0      1     0   \n",
       "14478    1  1    1   1   1   1   1  1     1     0  ...    0      1     0   \n",
       "14825    1  1    1   1   1   1   1  0     1     1  ...    1      1     1   \n",
       "7523     1  1    1   1   1   1   0  1     1     1  ...    0      0     0   \n",
       "...    ... ..  ...  ..  ..  ..  .. ..   ...   ...  ...  ...    ...   ...   \n",
       "57       1  1    1   1   1   0   1  1     1     1  ...    0      0     1   \n",
       "578      1  1    1   1   1   1   1  0     1     1  ...    0      1     0   \n",
       "5848     1  1    1   1   1   1   1  1     1     1  ...    1      0     1   \n",
       "2439     1  1    1   1   1   1   1  1     0     1  ...    0      0     0   \n",
       "23572    1  1    0   1   1   0   0  1     1     0  ...    0      0     0   \n",
       "\n",
       "       some  if  out  what  very  when  more  \n",
       "17797     0   0    0     0     0     0     0  \n",
       "6458      0   0    0     1     1     1     1  \n",
       "14478     0   1    0     0     0     0     0  \n",
       "14825     0   0    0     0     1     1     1  \n",
       "7523      0   1    0     1     1     0     0  \n",
       "...     ...  ..  ...   ...   ...   ...   ...  \n",
       "57        0   1    0     0     1     0     0  \n",
       "578       0   0    0     0     0     0     0  \n",
       "5848      1   1    1     1     1     1     1  \n",
       "2439      0   0    1     0     1     0     1  \n",
       "23572     0   0    0     1     0     0     0  \n",
       "\n",
       "[25000 rows x 50 columns]"
      ]
     },
     "execution_count": 10,
     "metadata": {},
     "output_type": "execute_result"
    }
   ],
   "source": [
    "df_top50 = get_df_topn(df[\"texts_norm\"], topn=50, counter_tokens=cntr)\n",
    "\n",
    "df_top50"
   ]
  },
  {
   "cell_type": "code",
   "execution_count": 11,
   "metadata": {},
   "outputs": [
    {
     "name": "stdout",
     "output_type": "stream",
     "text": [
      "n=1, missing=(229, 1)\n",
      "n=5, missing=(8, 5)\n",
      "n=10, missing=(4, 10)\n",
      "n=20, missing=(2, 20)\n",
      "n=50, missing=(0, 50)\n",
      "n=100, missing=(0, 100)\n"
     ]
    }
   ],
   "source": [
    "# For how many opinions the category cannot be determined based on the selected number of tokens? \n",
    "result = []\n",
    "for topn in [1, 5, 10, 20, 50, 100]:\n",
    "    df_topn = get_df_topn( df['texts_norm'], topn=topn, counter_tokens=cntr)\n",
    "    missing = df_topn[ df_topn.sum(axis=1) == 0 ].shape\n",
    "    \n",
    "    result.append((topn, missing))\n",
    "    print('n={}, missing={}'.format(topn, missing))"
   ]
  },
  {
   "cell_type": "code",
   "execution_count": 12,
   "metadata": {},
   "outputs": [
    {
     "data": {
      "image/png": "[encoded data removed]",
      "text/plain": [
       "<Figure size 1500x500 with 1 Axes>"
      ]
     },
     "metadata": {},
     "output_type": "display_data"
    }
   ],
   "source": [
    "x = [i[0] for i in result]\n",
    "y = [i[1][0] for i in result]\n",
    "\n",
    "plt.figure(figsize=(15, 5))\n",
    "plt.plot( x, y, 'o-' );"
   ]
  },
  {
   "cell_type": "markdown",
   "metadata": {},
   "source": [
    "## <span style=\"color:yellow\">Introduction to modelling: *bag of words*</span>"
   ]
  },
  {
   "cell_type": "markdown",
   "metadata": {},
   "source": [
    "### <span style=\"color:yellow\">Approach based on manual tokenization</span>"
   ]
  },
  {
   "cell_type": "markdown",
   "metadata": {},
   "source": [
    "<span style=\"color:#ffff00\">Check on the test data</span>"
   ]
  },
  {
   "cell_type": "code",
   "execution_count": null,
   "metadata": {},
   "outputs": [],
   "source": [
    "imdb_dir = './aclImdb'\n",
    "test_dir = os.path.join(imdb_dir, 'test')\n",
    "\n",
    "labels_test = []\n",
    "texts_test = []\n",
    "\n",
    "for label_type in ['neg', 'pos']:\n",
    "    dir_name = os.path.join(test_dir, label_type)\n",
    "    for fname in os.listdir(dir_name):\n",
    "        if fname[-4:] == '.txt':\n",
    "            f = open(os.path.join(dir_name, fname), encoding='utf-8')\n",
    "            texts_test.append(f.read())\n",
    "            f.close()\n",
    "            if label_type == 'neg':\n",
    "                labels_test.append(0)\n",
    "            else:\n",
    "                labels_test.append(1)\n",
    "\n",
    "df_test = pd.DataFrame(columns=['labels', 'texts'])\n",
    "df_test['labels']=labels_test\n",
    "df_test['texts']=texts_test\n",
    "df_test.to_csv('df_test.csv', index=False)"
   ]
  },
  {
   "cell_type": "code",
   "execution_count": 13,
   "metadata": {},
   "outputs": [
    {
     "data": {
      "text/html": [
       "<div>\n",
       "<style scoped>\n",
       "    .dataframe tbody tr th:only-of-type {\n",
       "        vertical-align: middle;\n",
       "    }\n",
       "\n",
       "    .dataframe tbody tr th {\n",
       "        vertical-align: top;\n",
       "    }\n",
       "\n",
       "    .dataframe thead th {\n",
       "        text-align: right;\n",
       "    }\n",
       "</style>\n",
       "<table border=\"1\" class=\"dataframe\">\n",
       "  <thead>\n",
       "    <tr style=\"text-align: right;\">\n",
       "      <th></th>\n",
       "      <th>labels</th>\n",
       "      <th>texts</th>\n",
       "    </tr>\n",
       "  </thead>\n",
       "  <tbody>\n",
       "    <tr>\n",
       "      <th>0</th>\n",
       "      <td>0</td>\n",
       "      <td>Once again Mr. Costner has dragged out a movie...</td>\n",
       "    </tr>\n",
       "    <tr>\n",
       "      <th>1</th>\n",
       "      <td>0</td>\n",
       "      <td>This is an example of why the majority of acti...</td>\n",
       "    </tr>\n",
       "    <tr>\n",
       "      <th>2</th>\n",
       "      <td>0</td>\n",
       "      <td>First of all I hate those moronic rappers, who...</td>\n",
       "    </tr>\n",
       "    <tr>\n",
       "      <th>3</th>\n",
       "      <td>0</td>\n",
       "      <td>Not even the Beatles could write songs everyon...</td>\n",
       "    </tr>\n",
       "    <tr>\n",
       "      <th>4</th>\n",
       "      <td>0</td>\n",
       "      <td>Brass pictures (movies is not a fitting word f...</td>\n",
       "    </tr>\n",
       "    <tr>\n",
       "      <th>...</th>\n",
       "      <td>...</td>\n",
       "      <td>...</td>\n",
       "    </tr>\n",
       "    <tr>\n",
       "      <th>24995</th>\n",
       "      <td>1</td>\n",
       "      <td>I was extraordinarily impressed by this film. ...</td>\n",
       "    </tr>\n",
       "    <tr>\n",
       "      <th>24996</th>\n",
       "      <td>1</td>\n",
       "      <td>Although I'm not a golf fan, I attended a snea...</td>\n",
       "    </tr>\n",
       "    <tr>\n",
       "      <th>24997</th>\n",
       "      <td>1</td>\n",
       "      <td>From the start of \"The Edge Of Love\", the view...</td>\n",
       "    </tr>\n",
       "    <tr>\n",
       "      <th>24998</th>\n",
       "      <td>1</td>\n",
       "      <td>This movie, with all its complexity and subtle...</td>\n",
       "    </tr>\n",
       "    <tr>\n",
       "      <th>24999</th>\n",
       "      <td>1</td>\n",
       "      <td>I've seen this story before but my kids haven'...</td>\n",
       "    </tr>\n",
       "  </tbody>\n",
       "</table>\n",
       "<p>25000 rows × 2 columns</p>\n",
       "</div>"
      ],
      "text/plain": [
       "       labels                                              texts\n",
       "0           0  Once again Mr. Costner has dragged out a movie...\n",
       "1           0  This is an example of why the majority of acti...\n",
       "2           0  First of all I hate those moronic rappers, who...\n",
       "3           0  Not even the Beatles could write songs everyon...\n",
       "4           0  Brass pictures (movies is not a fitting word f...\n",
       "...       ...                                                ...\n",
       "24995       1  I was extraordinarily impressed by this film. ...\n",
       "24996       1  Although I'm not a golf fan, I attended a snea...\n",
       "24997       1  From the start of \"The Edge Of Love\", the view...\n",
       "24998       1  This movie, with all its complexity and subtle...\n",
       "24999       1  I've seen this story before but my kids haven'...\n",
       "\n",
       "[25000 rows x 2 columns]"
      ]
     },
     "execution_count": 13,
     "metadata": {},
     "output_type": "execute_result"
    }
   ],
   "source": [
    "df_test = pd.read_csv('df_test.csv')\n",
    "df_test"
   ]
  },
  {
   "cell_type": "code",
   "execution_count": 14,
   "metadata": {},
   "outputs": [],
   "source": [
    "df_test = df_test.sample(frac = 1.0, random_state=33)\n",
    "df_test['texts_norm'] = df_test['texts'].str.lower()"
   ]
  },
  {
   "cell_type": "code",
   "execution_count": 15,
   "metadata": {},
   "outputs": [
    {
     "data": {
      "text/html": [
       "<div>\n",
       "<style scoped>\n",
       "    .dataframe tbody tr th:only-of-type {\n",
       "        vertical-align: middle;\n",
       "    }\n",
       "\n",
       "    .dataframe tbody tr th {\n",
       "        vertical-align: top;\n",
       "    }\n",
       "\n",
       "    .dataframe thead th {\n",
       "        text-align: right;\n",
       "    }\n",
       "</style>\n",
       "<table border=\"1\" class=\"dataframe\">\n",
       "  <thead>\n",
       "    <tr style=\"text-align: right;\">\n",
       "      <th></th>\n",
       "      <th>labels</th>\n",
       "      <th>texts</th>\n",
       "      <th>texts_norm</th>\n",
       "    </tr>\n",
       "  </thead>\n",
       "  <tbody>\n",
       "    <tr>\n",
       "      <th>17797</th>\n",
       "      <td>1</td>\n",
       "      <td>for a movie like this little hidden gem to com...</td>\n",
       "      <td>for a movie like this little hidden gem to com...</td>\n",
       "    </tr>\n",
       "    <tr>\n",
       "      <th>6458</th>\n",
       "      <td>0</td>\n",
       "      <td>This is an old-dark-house movie. A young coupl...</td>\n",
       "      <td>this is an old-dark-house movie. a young coupl...</td>\n",
       "    </tr>\n",
       "    <tr>\n",
       "      <th>14478</th>\n",
       "      <td>1</td>\n",
       "      <td>The hysterical Hardware Wars is finally out on...</td>\n",
       "      <td>the hysterical hardware wars is finally out on...</td>\n",
       "    </tr>\n",
       "    <tr>\n",
       "      <th>14825</th>\n",
       "      <td>1</td>\n",
       "      <td>Turkish-German director Faith Akın (\"Head-On\" ...</td>\n",
       "      <td>turkish-german director faith akın (\"head-on\" ...</td>\n",
       "    </tr>\n",
       "    <tr>\n",
       "      <th>7523</th>\n",
       "      <td>0</td>\n",
       "      <td>HAPPY DAYS was one of my favorite shows when i...</td>\n",
       "      <td>happy days was one of my favorite shows when i...</td>\n",
       "    </tr>\n",
       "    <tr>\n",
       "      <th>...</th>\n",
       "      <td>...</td>\n",
       "      <td>...</td>\n",
       "      <td>...</td>\n",
       "    </tr>\n",
       "    <tr>\n",
       "      <th>57</th>\n",
       "      <td>0</td>\n",
       "      <td>I had to see this on the British Airways plane...</td>\n",
       "      <td>i had to see this on the british airways plane...</td>\n",
       "    </tr>\n",
       "    <tr>\n",
       "      <th>578</th>\n",
       "      <td>0</td>\n",
       "      <td>A blatant rip-off of \"Air Bud\", this movie is ...</td>\n",
       "      <td>a blatant rip-off of \"air bud\", this movie is ...</td>\n",
       "    </tr>\n",
       "    <tr>\n",
       "      <th>5848</th>\n",
       "      <td>0</td>\n",
       "      <td>This video has audio that is meant for someone...</td>\n",
       "      <td>this video has audio that is meant for someone...</td>\n",
       "    </tr>\n",
       "    <tr>\n",
       "      <th>2439</th>\n",
       "      <td>0</td>\n",
       "      <td>I watched this movie with no idea what it was ...</td>\n",
       "      <td>i watched this movie with no idea what it was ...</td>\n",
       "    </tr>\n",
       "    <tr>\n",
       "      <th>23572</th>\n",
       "      <td>1</td>\n",
       "      <td>I have to agree with all the previous commente...</td>\n",
       "      <td>i have to agree with all the previous commente...</td>\n",
       "    </tr>\n",
       "  </tbody>\n",
       "</table>\n",
       "<p>25000 rows × 3 columns</p>\n",
       "</div>"
      ],
      "text/plain": [
       "       labels                                              texts  \\\n",
       "17797       1  for a movie like this little hidden gem to com...   \n",
       "6458        0  This is an old-dark-house movie. A young coupl...   \n",
       "14478       1  The hysterical Hardware Wars is finally out on...   \n",
       "14825       1  Turkish-German director Faith Akın (\"Head-On\" ...   \n",
       "7523        0  HAPPY DAYS was one of my favorite shows when i...   \n",
       "...       ...                                                ...   \n",
       "57          0  I had to see this on the British Airways plane...   \n",
       "578         0  A blatant rip-off of \"Air Bud\", this movie is ...   \n",
       "5848        0  This video has audio that is meant for someone...   \n",
       "2439        0  I watched this movie with no idea what it was ...   \n",
       "23572       1  I have to agree with all the previous commente...   \n",
       "\n",
       "                                              texts_norm  \n",
       "17797  for a movie like this little hidden gem to com...  \n",
       "6458   this is an old-dark-house movie. a young coupl...  \n",
       "14478  the hysterical hardware wars is finally out on...  \n",
       "14825  turkish-german director faith akın (\"head-on\" ...  \n",
       "7523   happy days was one of my favorite shows when i...  \n",
       "...                                                  ...  \n",
       "57     i had to see this on the british airways plane...  \n",
       "578    a blatant rip-off of \"air bud\", this movie is ...  \n",
       "5848   this video has audio that is meant for someone...  \n",
       "2439   i watched this movie with no idea what it was ...  \n",
       "23572  i have to agree with all the previous commente...  \n",
       "\n",
       "[25000 rows x 3 columns]"
      ]
     },
     "execution_count": 15,
     "metadata": {},
     "output_type": "execute_result"
    }
   ],
   "source": [
    "df_test.iloc[:25000]"
   ]
  },
  {
   "cell_type": "code",
   "execution_count": 16,
   "metadata": {},
   "outputs": [
    {
     "data": {
      "text/plain": [
       "'happy days was one of my favorite shows when it aired in 1974. but the critics were quick to show their ignorance combined with a total lack of a sense of humor by slamming this show because they thought it was a cheap attempt to cash-in on the success of american graffitti.<br /><br />there were some similarities between american graffitti and happy days.<br /><br />both opened with \"rock around the clock\" by bill haley & the comets. both took place in a bygone era and both featured ron howard as one of the leading roles. but there were also some major differences. while american graffitti took place in 1962 california and centered around a group of newly graduated high school students about to take that big step into adulthood, happy days took place in milwaulkee, wisconson and centered around a group of teenagers in high school, dealing with the joys and tribulations of adolescence.<br /><br />happy days originally opened with the juke box playing the original version of bill haley & the comets\\' rock around the clock. but when oldies became hot, thanks to the success of american graffitti, , and the original 1954 version of rock around the clock, entered the billboard hot 100 and became a hit again in 1974, royalty payments went through the roof. so a \"remake\" of the song (the correct term is now \"new stereo recording\") was quickly substituted.<br /><br />the current theme song for happy days was then introduced for the second season if memory serves me right.<br /><br />fans and foes alike agree that this show is escapist. liberties were taken and details overlooked, making this show less than completely authentic.<br /><br />this is perfectly fine. happy days is supposed to be a comedy, not a history lesson. but occasionally the writers did sometimes stick their necks out by hitting on controversial topics. one episode centered around the cunninghams building of a fall out shelter. another episode was about a divorced woman moving into the neighborhood with a dream of starting a new life. the topic of prejudice was addressed when howard was invited to the wedding of an old army buddy who just happened to be black (in an era when prejudice and discrimination was sadly an acceptable part of the american way of life). the issue of the draft even came up on a later episode!<br /><br />the show as originally set in 1955. one problem that was dealt wisely was with the cast. most of them were teenagers and as each year passed, it was obvious that they grew older so the series aged with the cast, moving the series out of the safe waters of the eisenhower years into the age of camelot, all the way with jfk and then into the turbulent later half of the 1960s. that, along with the writers running out of ideas, and later, cast members like ron howard leaving the series, wisely quitting while they were ahead, left me wishing that they had all done the right thing by pulling the plug on this show and quitting while they were ahead. that, along with the idol worshiping studio audience who just couldn\\'t control themselves every time the great fonzie entered the scene, began to wear very thin very fast.<br /><br />this show originally portrayed the fabulous fifties as we like to remember that era. time heals wounds, you know. everything has its place and though i would prefer hearing the \"original hit versions\" over those \"new stereo recordings\", those \"new stereo recordings\" worked very well on happy days. and this is where i find myself regretting my buying the dvd! unlike the complete first season dvd, the original music on the complete second season, has been replaced with different music. while it is great that the original episodes were digitally restored to digital perfection, the removal of the original music destroyed what it was that made this show so much fun to watch!'"
      ]
     },
     "execution_count": 16,
     "metadata": {},
     "output_type": "execute_result"
    }
   ],
   "source": [
    "#let's take an example\n",
    "df_test.iloc[4]['texts_norm']"
   ]
  },
  {
   "cell_type": "code",
   "execution_count": 17,
   "metadata": {},
   "outputs": [
    {
     "data": {
      "image/png": "[encoded data removed]",
      "text/plain": [
       "<Figure size 640x480 with 1 Axes>"
      ]
     },
     "metadata": {},
     "output_type": "display_data"
    }
   ],
   "source": [
    "df_test.iloc[:25000]['labels'].value_counts(normalize=True).plot(kind='bar');"
   ]
  },
  {
   "cell_type": "code",
   "execution_count": 18,
   "metadata": {},
   "outputs": [],
   "source": [
    "y = df_test.iloc[:25000]['labels']\n",
    "y1 = df_test.iloc[:25000]['labels'].values.tolist()\n",
    "\n",
    "### NOTE!!! df and df_test both had the same sample seed = 33, so the same samples are in the same order in both dataframes"
   ]
  },
  {
   "cell_type": "code",
   "execution_count": 19,
   "metadata": {},
   "outputs": [],
   "source": [
    "import pandas as pd\n",
    "# We choose a priori 50 as the number of dimensions we will use for classification\n",
    "# X = get_df_topn( df['texts_norm'], 50, counter_tokens=cntr).values\n",
    "\n",
    "max_features = 50\n",
    "\n",
    "X = get_df_topn( df['texts_norm'], max_features, counter_tokens=cntr)\n",
    "# Replace the special characters in the column names\n",
    "new_columns = [col.replace('[', '').replace(']', '').replace('<', '') for col in X.columns]\n",
    "\n",
    "# Rename the columns in the DataFrame\n",
    "X.rename(columns=dict(zip(X.columns, new_columns)), inplace=True)\n",
    "\n",
    "\n",
    "\n",
    "#y = (df['target'] == 'spam').astype(np.int8).values\n",
    "#y = df['labels'].factorize()[0]"
   ]
  },
  {
   "cell_type": "code",
   "execution_count": 21,
   "metadata": {},
   "outputs": [],
   "source": [
    "def get_models2(use_dummy):\n",
    "    \n",
    "    models = [('dummy', DummyClassifier(strategy='stratified'))] if use_dummy else []\n",
    "    \n",
    "    models += [\n",
    "        ('catboost', ctb.CatBoostClassifier(n_estimators=50, max_depth=5, random_state=0, verbose=0)),\n",
    "        ('xgboost', xgb.XGBClassifier(n_estimators=50, max_depth=5, random_state=0)),\n",
    "        ('LogisticRegression', LogisticRegression(random_state=0))\n",
    "    ] \n",
    "    return models"
   ]
  },
  {
   "cell_type": "code",
   "execution_count": 22,
   "metadata": {},
   "outputs": [],
   "source": [
    "def run_models2(X, y, use_dummy=True, scoring='accuracy', plot_result=False, show_confusion_matrix=True):\n",
    "    result = []\n",
    "    #cv = StratifiedKFold(n_splits=cv, shuffle=True, random_state=0)\n",
    "    \n",
    "    num_cols = 4\n",
    "    if show_confusion_matrix:\n",
    "        fig, axes = plt.subplots(nrows=1, ncols=num_cols, figsize=(15,10))\n",
    "\n",
    "\n",
    "    for it, (model_name, model) in enumerate(get_models2(use_dummy)):\n",
    "        clf = model\n",
    "        clf.fit(X,y)\n",
    "        y_pred = clf.predict(X)\n",
    "        score = accuracy_score(y, y_pred)\n",
    "        print(\"model={}, accuracy={}\".format(model_name, score))\n",
    "\n",
    "        if show_confusion_matrix:\n",
    "            ax = axes[it]\n",
    "            disp = ConfusionMatrixDisplay.from_predictions(y,y_pred,ax=ax,colorbar=None)\n",
    "            disp.ax_.set_title('model: {}'.format(model_name))"
   ]
  },
  {
   "cell_type": "code",
   "execution_count": 23,
   "metadata": {},
   "outputs": [
    {
     "name": "stdout",
     "output_type": "stream",
     "text": [
      "model=dummy, accuracy=0.49996\n",
      "model=catboost, accuracy=0.66564\n",
      "model=xgboost, accuracy=0.69864\n",
      "model=LogisticRegression, accuracy=0.61912\n"
     ]
    },
    {
     "data": {
      "image/png": "[encoded data removed]",
      "text/plain": [
       "<Figure size 1500x1000 with 4 Axes>"
      ]
     },
     "metadata": {},
     "output_type": "display_data"
    }
   ],
   "source": [
    "run_models2(X,y1)"
   ]
  },
  {
   "cell_type": "code",
   "execution_count": 24,
   "metadata": {},
   "outputs": [
    {
     "data": {
      "text/plain": [
       "0.69864"
      ]
     },
     "execution_count": 24,
     "metadata": {},
     "output_type": "execute_result"
    }
   ],
   "source": [
    "# Let's take a classifier giving the best results\n",
    "xgboost_clf = xgb.XGBClassifier(n_estimators=50, max_depth=5, random_state=0)\n",
    "xgboost_clf.fit(X,y1)\n",
    "\n",
    "y_pred = xgboost_clf.predict(X)\n",
    "accuracy_score(y1, y_pred)"
   ]
  },
  {
   "cell_type": "code",
   "execution_count": 25,
   "metadata": {},
   "outputs": [
    {
     "data": {
      "text/plain": [
       "25000"
      ]
     },
     "execution_count": 25,
     "metadata": {},
     "output_type": "execute_result"
    }
   ],
   "source": [
    "len(y_pred)"
   ]
  },
  {
   "cell_type": "code",
   "execution_count": 26,
   "metadata": {},
   "outputs": [],
   "source": [
    "def predicta(text):\n",
    "    # del dft\n",
    "    # text = purify(text)\n",
    "    dft = pd.DataFrame({'texts':[text]})\n",
    "    dft['texts_norm'] = dft['texts'].str.lower()\n",
    "    return xgboost_clf.predict(get_df_topn(dft[\"texts_norm\"], max_features, counter_tokens=cntr).values)[0]\n",
    "    # return dft"
   ]
  },
  {
   "cell_type": "code",
   "execution_count": 27,
   "metadata": {},
   "outputs": [],
   "source": [
    "cat=[\"negative\", \"positive\"]"
   ]
  },
  {
   "cell_type": "code",
   "execution_count": 28,
   "metadata": {},
   "outputs": [
    {
     "data": {
      "text/plain": [
       "'positive'"
      ]
     },
     "execution_count": 28,
     "metadata": {},
     "output_type": "execute_result"
    }
   ],
   "source": [
    "cat[predicta(df_test.iloc[0]['texts_norm'])]"
   ]
  },
  {
   "cell_type": "markdown",
   "metadata": {},
   "source": [
    "### <span style=\"color:yellow\">Scikit-learn built-in tokenization</span>"
   ]
  },
  {
   "cell_type": "code",
   "execution_count": 29,
   "metadata": {},
   "outputs": [
    {
     "data": {
      "text/plain": [
       "array(['about', 'all', 'an', 'and', 'are', 'as', 'at', 'be', 'br', 'but',\n",
       "       'by', 'can', 'film', 'for', 'from', 'good', 'has', 'have', 'he',\n",
       "       'his', 'if', 'in', 'is', 'it', 'just', 'like', 'more', 'movie',\n",
       "       'not', 'of', 'on', 'one', 'or', 'out', 'so', 'some', 'that', 'the',\n",
       "       'there', 'they', 'this', 'time', 'to', 'up', 'was', 'what', 'when',\n",
       "       'who', 'with', 'you'], dtype=object)"
      ]
     },
     "execution_count": 29,
     "metadata": {},
     "output_type": "execute_result"
    }
   ],
   "source": [
    "vectorizer = CountVectorizer(binary=True, max_features=max_features)\n",
    "XV = vectorizer.fit_transform(df['texts'])\n",
    "vectorizer.get_feature_names_out()"
   ]
  },
  {
   "cell_type": "code",
   "execution_count": 30,
   "metadata": {},
   "outputs": [
    {
     "name": "stdout",
     "output_type": "stream",
     "text": [
      "model=dummy, accuracy=0.49452\n",
      "model=catboost, accuracy=0.66112\n",
      "model=xgboost, accuracy=0.69272\n",
      "model=LogisticRegression, accuracy=0.61572\n"
     ]
    },
    {
     "data": {
      "image/png": "[encoded data removed]",
      "text/plain": [
       "<Figure size 1500x1000 with 4 Axes>"
      ]
     },
     "metadata": {},
     "output_type": "display_data"
    }
   ],
   "source": [
    "run_models2(XV.toarray(), y1)"
   ]
  },
  {
   "cell_type": "code",
   "execution_count": 31,
   "metadata": {},
   "outputs": [
    {
     "data": {
      "text/plain": [
       "0.69272"
      ]
     },
     "execution_count": 31,
     "metadata": {},
     "output_type": "execute_result"
    }
   ],
   "source": [
    "# Let's take xgboost once again \n",
    "xgboost_clf_v = xgb.XGBClassifier(n_estimators=50, max_depth=5, random_state=0)\n",
    "xgboost_clf_v.fit(XV.toarray(),y1)\n",
    "y_pred_v = xgboost_clf_v.predict(XV.toarray())\n",
    "accuracy_score(y1, y_pred_v)"
   ]
  },
  {
   "cell_type": "code",
   "execution_count": 32,
   "metadata": {},
   "outputs": [],
   "source": [
    "def predictv(text):\n",
    "    #del dft\n",
    "    return xgboost_clf_v.predict(vectorizer.transform([text]).toarray())[0]"
   ]
  },
  {
   "cell_type": "code",
   "execution_count": 33,
   "metadata": {},
   "outputs": [
    {
     "data": {
      "text/plain": [
       "'positive'"
      ]
     },
     "execution_count": 33,
     "metadata": {},
     "output_type": "execute_result"
    }
   ],
   "source": [
    "cat[predictv(df_test.iloc[0]['texts'])]"
   ]
  },
  {
   "cell_type": "markdown",
   "metadata": {},
   "source": [
    "### <span style=\"color:yellow\">Now: A weighted tokenization with TfidfVectorizer (Scikit-learn)</span>"
   ]
  },
  {
   "cell_type": "code",
   "execution_count": 34,
   "metadata": {},
   "outputs": [],
   "source": [
    "vectorizer = TfidfVectorizer(binary=True, max_features=max_features)\n",
    "XT = vectorizer.fit_transform(df['texts'])"
   ]
  },
  {
   "cell_type": "code",
   "execution_count": 35,
   "metadata": {},
   "outputs": [
    {
     "name": "stdout",
     "output_type": "stream",
     "text": [
      "model=dummy, accuracy=0.49484\n",
      "model=catboost, accuracy=0.66336\n",
      "model=xgboost, accuracy=0.7168\n",
      "model=LogisticRegression, accuracy=0.61468\n"
     ]
    },
    {
     "data": {
      "image/png": "[encoded data removed]",
      "text/plain": [
       "<Figure size 1500x1000 with 4 Axes>"
      ]
     },
     "metadata": {},
     "output_type": "display_data"
    }
   ],
   "source": [
    "run_models2(XT.toarray(), y1)"
   ]
  },
  {
   "cell_type": "code",
   "execution_count": 36,
   "metadata": {},
   "outputs": [
    {
     "data": {
      "text/plain": [
       "0.7168"
      ]
     },
     "execution_count": 36,
     "metadata": {},
     "output_type": "execute_result"
    }
   ],
   "source": [
    "# Who is the winner?\n",
    "xgboost_clf_tfidf = xgb.XGBClassifier(n_estimators=50, max_depth=5, random_state=0)\n",
    "xgboost_clf_tfidf.fit(XT.toarray(),y1)\n",
    "y_pred_tfidf = xgboost_clf_tfidf.predict(XT.toarray())\n",
    "accuracy_score(y1, y_pred_tfidf)"
   ]
  },
  {
   "cell_type": "code",
   "execution_count": 37,
   "metadata": {},
   "outputs": [],
   "source": [
    "def predicttfidf(text):\n",
    "    return xgboost_clf_tfidf.predict(vectorizer.transform([text]).toarray())[0]"
   ]
  },
  {
   "cell_type": "code",
   "execution_count": 38,
   "metadata": {},
   "outputs": [
    {
     "data": {
      "text/plain": [
       "'positive'"
      ]
     },
     "execution_count": 38,
     "metadata": {},
     "output_type": "execute_result"
    }
   ],
   "source": [
    "cat[predicttfidf(df_test.iloc[0]['texts'])]"
   ]
  },
  {
   "cell_type": "markdown",
   "metadata": {},
   "source": [
    "# Our own take"
   ]
  },
  {
   "cell_type": "code",
   "execution_count": 4,
   "metadata": {},
   "outputs": [
    {
     "name": "stderr",
     "output_type": "stream",
     "text": [
      "[nltk_data] Downloading package punkt to\n",
      "[nltk_data]     C:\\Users\\alejo\\AppData\\Roaming\\nltk_data...\n",
      "[nltk_data]   Package punkt is already up-to-date!\n",
      "[nltk_data] Downloading package stopwords to\n",
      "[nltk_data]     C:\\Users\\alejo\\AppData\\Roaming\\nltk_data...\n",
      "[nltk_data]   Package stopwords is already up-to-date!\n"
     ]
    },
    {
     "data": {
      "text/plain": [
       "True"
      ]
     },
     "execution_count": 4,
     "metadata": {},
     "output_type": "execute_result"
    }
   ],
   "source": [
    "import re\n",
    "import nltk\n",
    "import string\n",
    "from nltk.tokenize import word_tokenize\n",
    "from nltk.corpus import stopwords\n",
    "from nltk.stem.porter import PorterStemmer\n",
    "import pandas as pd\n",
    "import matplotlib.pyplot as plt\n",
    "from collections import Counter\n",
    "\n",
    "\n",
    "nltk.download('punkt')\n",
    "nltk.download('stopwords')"
   ]
  },
  {
   "cell_type": "code",
   "execution_count": 5,
   "metadata": {},
   "outputs": [],
   "source": [
    "# FULL DATABASE\n",
    "\n",
    "df1 = pd.read_csv('df.csv')\n",
    "df2 = pd.read_csv('df_test.csv')\n",
    "\n",
    "# combine the dataframes into one\n",
    "df = pd.concat([df1, df2], ignore_index=True)\n",
    "df = df.sample(frac = 1.0, random_state=33)\n",
    "del df1, df2"
   ]
  },
  {
   "cell_type": "code",
   "execution_count": 40,
   "metadata": {},
   "outputs": [],
   "source": [
    "# ONLY TRAINING DATABASE\n",
    "\n",
    "# df = pd.read_csv('df.csv')\n",
    "# df = df.sample(frac = 1.0, random_state=33)"
   ]
  },
  {
   "cell_type": "markdown",
   "metadata": {},
   "source": [
    "### Improvement in the pre-processing of the text"
   ]
  },
  {
   "cell_type": "code",
   "execution_count": 5,
   "metadata": {},
   "outputs": [],
   "source": [
    "lines = df[\"texts\"].values.tolist()\n",
    "\n",
    "# Define a function to purify the lines of text\n",
    "def purify(lines):\n",
    "    all_reviews = list()\n",
    "    for text in lines:\n",
    "        # Convert the text to lowercase\n",
    "        text = text.lower()\n",
    "        \n",
    "        # Remove URLs from the text\n",
    "        pattern = re.compile('http[s]?://(?:[a-zA-Z]|[0-9]|[$-_@.&+]|[!*\\(\\),]|(?:%[0-9a-fA-F][0-9a-fA-F]))+')\n",
    "        text = pattern.sub(' ', text)\n",
    "        \n",
    "        # Replace '<br />' with a space\n",
    "        text = text.replace('<br />', ' ')\n",
    "        \n",
    "        # Remove punctuation marks from the text\n",
    "        text = re.sub(r\"[,.\\\"!@#$%^&*(){}?/;`~:<>+=]\", \" \", text)\n",
    "        \n",
    "        # Tokenize the text into words\n",
    "        tokens = word_tokenize(text)\n",
    "        \n",
    "        # Remove non-alphabetic words\n",
    "        words = [word for word in tokens if word.isalpha()]\n",
    "        \n",
    "        # Remove stop words, excluding the word \"not\"\n",
    "        stop_words = set(stopwords.words(\"english\"))\n",
    "        stop_words.discard(\"not\") ; print(stop_words)\n",
    "        words = [w for w in words if not w in stop_words]\n",
    "        \n",
    "        # Join the words back into a single string\n",
    "        words = ' '.join(words)\n",
    "        \n",
    "        # Append the purified text to the list of all reviews\n",
    "        all_reviews.append(words)\n",
    "    \n",
    "    # Return the list of purified reviews\n",
    "    return all_reviews\n",
    "\n",
    "df[\"texts_norm\"] = purify(lines)"
   ]
  },
  {
   "cell_type": "code",
   "execution_count": 41,
   "metadata": {},
   "outputs": [
    {
     "data": {
      "text/plain": [
       "71897"
      ]
     },
     "execution_count": 41,
     "metadata": {},
     "output_type": "execute_result"
    }
   ],
   "source": [
    "# tokenization\n",
    "tokens_set = set()\n",
    "df['texts_norm'].str.split(\" \").map(tokens_set.update)\n",
    "\n",
    "len(tokens_set)"
   ]
  },
  {
   "cell_type": "code",
   "execution_count": 6,
   "metadata": {},
   "outputs": [
    {
     "data": {
      "text/plain": [
       "[('movie', 86799),\n",
       " ('film', 78503),\n",
       " ('not', 62533),\n",
       " ('one', 52297),\n",
       " ('like', 39257)]"
      ]
     },
     "execution_count": 6,
     "metadata": {},
     "output_type": "execute_result"
    }
   ],
   "source": [
    "# what are the most frequent tokens? -> Counter(tokens_set).most_common()\n",
    "cntr = Counter()\n",
    "df[\"texts_norm\"].str.split(\" \").map(cntr.update)\n",
    "cntr.most_common(n=5)"
   ]
  },
  {
   "cell_type": "code",
   "execution_count": 7,
   "metadata": {},
   "outputs": [],
   "source": [
    "def get_df_topn(text: pd.Series, topn: int, counter_tokens: Counter):\n",
    "\n",
    "    top_tokens = [x[0] for x in counter_tokens.most_common(n=topn)]\n",
    "\n",
    "    def check_top_n(sent_tokens):\n",
    "        return [int(token in sent_tokens) for token in top_tokens]\n",
    "\n",
    "    df_topn = text.str.split(\" \").map(set).map(check_top_n).apply(pd.Series) # .apply: If func returns a Series object the result will be a DataFrame.\n",
    "    df_topn.columns = top_tokens\n",
    "\n",
    "    return df_topn"
   ]
  },
  {
   "cell_type": "code",
   "execution_count": 44,
   "metadata": {},
   "outputs": [
    {
     "data": {
      "text/html": [
       "<div>\n",
       "<style scoped>\n",
       "    .dataframe tbody tr th:only-of-type {\n",
       "        vertical-align: middle;\n",
       "    }\n",
       "\n",
       "    .dataframe tbody tr th {\n",
       "        vertical-align: top;\n",
       "    }\n",
       "\n",
       "    .dataframe thead th {\n",
       "        text-align: right;\n",
       "    }\n",
       "</style>\n",
       "<table border=\"1\" class=\"dataframe\">\n",
       "  <thead>\n",
       "    <tr style=\"text-align: right;\">\n",
       "      <th></th>\n",
       "      <th>movie</th>\n",
       "      <th>film</th>\n",
       "      <th>not</th>\n",
       "      <th>one</th>\n",
       "      <th>like</th>\n",
       "      <th>good</th>\n",
       "      <th>would</th>\n",
       "      <th>even</th>\n",
       "      <th>time</th>\n",
       "      <th>story</th>\n",
       "      <th>...</th>\n",
       "      <th>show</th>\n",
       "      <th>know</th>\n",
       "      <th>ever</th>\n",
       "      <th>better</th>\n",
       "      <th>man</th>\n",
       "      <th>still</th>\n",
       "      <th>end</th>\n",
       "      <th>say</th>\n",
       "      <th>scene</th>\n",
       "      <th>scenes</th>\n",
       "    </tr>\n",
       "  </thead>\n",
       "  <tbody>\n",
       "    <tr>\n",
       "      <th>17797</th>\n",
       "      <td>0</td>\n",
       "      <td>0</td>\n",
       "      <td>0</td>\n",
       "      <td>0</td>\n",
       "      <td>0</td>\n",
       "      <td>0</td>\n",
       "      <td>0</td>\n",
       "      <td>0</td>\n",
       "      <td>0</td>\n",
       "      <td>0</td>\n",
       "      <td>...</td>\n",
       "      <td>0</td>\n",
       "      <td>0</td>\n",
       "      <td>0</td>\n",
       "      <td>0</td>\n",
       "      <td>0</td>\n",
       "      <td>0</td>\n",
       "      <td>0</td>\n",
       "      <td>0</td>\n",
       "      <td>1</td>\n",
       "      <td>0</td>\n",
       "    </tr>\n",
       "    <tr>\n",
       "      <th>6458</th>\n",
       "      <td>1</td>\n",
       "      <td>0</td>\n",
       "      <td>0</td>\n",
       "      <td>1</td>\n",
       "      <td>1</td>\n",
       "      <td>0</td>\n",
       "      <td>0</td>\n",
       "      <td>1</td>\n",
       "      <td>1</td>\n",
       "      <td>0</td>\n",
       "      <td>...</td>\n",
       "      <td>0</td>\n",
       "      <td>1</td>\n",
       "      <td>1</td>\n",
       "      <td>0</td>\n",
       "      <td>1</td>\n",
       "      <td>0</td>\n",
       "      <td>1</td>\n",
       "      <td>0</td>\n",
       "      <td>0</td>\n",
       "      <td>0</td>\n",
       "    </tr>\n",
       "    <tr>\n",
       "      <th>14478</th>\n",
       "      <td>0</td>\n",
       "      <td>0</td>\n",
       "      <td>0</td>\n",
       "      <td>0</td>\n",
       "      <td>1</td>\n",
       "      <td>0</td>\n",
       "      <td>0</td>\n",
       "      <td>0</td>\n",
       "      <td>0</td>\n",
       "      <td>0</td>\n",
       "      <td>...</td>\n",
       "      <td>0</td>\n",
       "      <td>0</td>\n",
       "      <td>0</td>\n",
       "      <td>0</td>\n",
       "      <td>0</td>\n",
       "      <td>0</td>\n",
       "      <td>0</td>\n",
       "      <td>1</td>\n",
       "      <td>0</td>\n",
       "      <td>0</td>\n",
       "    </tr>\n",
       "    <tr>\n",
       "      <th>14825</th>\n",
       "      <td>0</td>\n",
       "      <td>1</td>\n",
       "      <td>1</td>\n",
       "      <td>1</td>\n",
       "      <td>1</td>\n",
       "      <td>1</td>\n",
       "      <td>0</td>\n",
       "      <td>1</td>\n",
       "      <td>1</td>\n",
       "      <td>1</td>\n",
       "      <td>...</td>\n",
       "      <td>0</td>\n",
       "      <td>0</td>\n",
       "      <td>0</td>\n",
       "      <td>0</td>\n",
       "      <td>0</td>\n",
       "      <td>0</td>\n",
       "      <td>0</td>\n",
       "      <td>0</td>\n",
       "      <td>0</td>\n",
       "      <td>0</td>\n",
       "    </tr>\n",
       "    <tr>\n",
       "      <th>7523</th>\n",
       "      <td>1</td>\n",
       "      <td>1</td>\n",
       "      <td>1</td>\n",
       "      <td>0</td>\n",
       "      <td>0</td>\n",
       "      <td>1</td>\n",
       "      <td>1</td>\n",
       "      <td>0</td>\n",
       "      <td>0</td>\n",
       "      <td>1</td>\n",
       "      <td>...</td>\n",
       "      <td>0</td>\n",
       "      <td>0</td>\n",
       "      <td>0</td>\n",
       "      <td>0</td>\n",
       "      <td>0</td>\n",
       "      <td>0</td>\n",
       "      <td>0</td>\n",
       "      <td>0</td>\n",
       "      <td>0</td>\n",
       "      <td>1</td>\n",
       "    </tr>\n",
       "    <tr>\n",
       "      <th>...</th>\n",
       "      <td>...</td>\n",
       "      <td>...</td>\n",
       "      <td>...</td>\n",
       "      <td>...</td>\n",
       "      <td>...</td>\n",
       "      <td>...</td>\n",
       "      <td>...</td>\n",
       "      <td>...</td>\n",
       "      <td>...</td>\n",
       "      <td>...</td>\n",
       "      <td>...</td>\n",
       "      <td>...</td>\n",
       "      <td>...</td>\n",
       "      <td>...</td>\n",
       "      <td>...</td>\n",
       "      <td>...</td>\n",
       "      <td>...</td>\n",
       "      <td>...</td>\n",
       "      <td>...</td>\n",
       "      <td>...</td>\n",
       "      <td>...</td>\n",
       "    </tr>\n",
       "    <tr>\n",
       "      <th>57</th>\n",
       "      <td>1</td>\n",
       "      <td>1</td>\n",
       "      <td>1</td>\n",
       "      <td>0</td>\n",
       "      <td>0</td>\n",
       "      <td>0</td>\n",
       "      <td>1</td>\n",
       "      <td>0</td>\n",
       "      <td>0</td>\n",
       "      <td>0</td>\n",
       "      <td>...</td>\n",
       "      <td>0</td>\n",
       "      <td>1</td>\n",
       "      <td>0</td>\n",
       "      <td>0</td>\n",
       "      <td>0</td>\n",
       "      <td>0</td>\n",
       "      <td>0</td>\n",
       "      <td>0</td>\n",
       "      <td>0</td>\n",
       "      <td>0</td>\n",
       "    </tr>\n",
       "    <tr>\n",
       "      <th>578</th>\n",
       "      <td>1</td>\n",
       "      <td>0</td>\n",
       "      <td>0</td>\n",
       "      <td>0</td>\n",
       "      <td>1</td>\n",
       "      <td>0</td>\n",
       "      <td>0</td>\n",
       "      <td>0</td>\n",
       "      <td>0</td>\n",
       "      <td>0</td>\n",
       "      <td>...</td>\n",
       "      <td>0</td>\n",
       "      <td>0</td>\n",
       "      <td>0</td>\n",
       "      <td>0</td>\n",
       "      <td>0</td>\n",
       "      <td>0</td>\n",
       "      <td>0</td>\n",
       "      <td>0</td>\n",
       "      <td>0</td>\n",
       "      <td>1</td>\n",
       "    </tr>\n",
       "    <tr>\n",
       "      <th>5848</th>\n",
       "      <td>0</td>\n",
       "      <td>0</td>\n",
       "      <td>1</td>\n",
       "      <td>0</td>\n",
       "      <td>1</td>\n",
       "      <td>1</td>\n",
       "      <td>0</td>\n",
       "      <td>0</td>\n",
       "      <td>1</td>\n",
       "      <td>0</td>\n",
       "      <td>...</td>\n",
       "      <td>1</td>\n",
       "      <td>0</td>\n",
       "      <td>0</td>\n",
       "      <td>0</td>\n",
       "      <td>0</td>\n",
       "      <td>0</td>\n",
       "      <td>0</td>\n",
       "      <td>1</td>\n",
       "      <td>1</td>\n",
       "      <td>1</td>\n",
       "    </tr>\n",
       "    <tr>\n",
       "      <th>2439</th>\n",
       "      <td>1</td>\n",
       "      <td>1</td>\n",
       "      <td>1</td>\n",
       "      <td>0</td>\n",
       "      <td>0</td>\n",
       "      <td>1</td>\n",
       "      <td>1</td>\n",
       "      <td>0</td>\n",
       "      <td>1</td>\n",
       "      <td>0</td>\n",
       "      <td>...</td>\n",
       "      <td>0</td>\n",
       "      <td>0</td>\n",
       "      <td>0</td>\n",
       "      <td>0</td>\n",
       "      <td>1</td>\n",
       "      <td>0</td>\n",
       "      <td>0</td>\n",
       "      <td>0</td>\n",
       "      <td>0</td>\n",
       "      <td>0</td>\n",
       "    </tr>\n",
       "    <tr>\n",
       "      <th>23572</th>\n",
       "      <td>1</td>\n",
       "      <td>0</td>\n",
       "      <td>0</td>\n",
       "      <td>0</td>\n",
       "      <td>0</td>\n",
       "      <td>1</td>\n",
       "      <td>0</td>\n",
       "      <td>0</td>\n",
       "      <td>0</td>\n",
       "      <td>0</td>\n",
       "      <td>...</td>\n",
       "      <td>0</td>\n",
       "      <td>0</td>\n",
       "      <td>0</td>\n",
       "      <td>0</td>\n",
       "      <td>0</td>\n",
       "      <td>0</td>\n",
       "      <td>1</td>\n",
       "      <td>0</td>\n",
       "      <td>0</td>\n",
       "      <td>0</td>\n",
       "    </tr>\n",
       "  </tbody>\n",
       "</table>\n",
       "<p>25000 rows × 50 columns</p>\n",
       "</div>"
      ],
      "text/plain": [
       "       movie  film  not  one  like  good  would  even  time  story  ...  show  \\\n",
       "17797      0     0    0    0     0     0      0     0     0      0  ...     0   \n",
       "6458       1     0    0    1     1     0      0     1     1      0  ...     0   \n",
       "14478      0     0    0    0     1     0      0     0     0      0  ...     0   \n",
       "14825      0     1    1    1     1     1      0     1     1      1  ...     0   \n",
       "7523       1     1    1    0     0     1      1     0     0      1  ...     0   \n",
       "...      ...   ...  ...  ...   ...   ...    ...   ...   ...    ...  ...   ...   \n",
       "57         1     1    1    0     0     0      1     0     0      0  ...     0   \n",
       "578        1     0    0    0     1     0      0     0     0      0  ...     0   \n",
       "5848       0     0    1    0     1     1      0     0     1      0  ...     1   \n",
       "2439       1     1    1    0     0     1      1     0     1      0  ...     0   \n",
       "23572      1     0    0    0     0     1      0     0     0      0  ...     0   \n",
       "\n",
       "       know  ever  better  man  still  end  say  scene  scenes  \n",
       "17797     0     0       0    0      0    0    0      1       0  \n",
       "6458      1     1       0    1      0    1    0      0       0  \n",
       "14478     0     0       0    0      0    0    1      0       0  \n",
       "14825     0     0       0    0      0    0    0      0       0  \n",
       "7523      0     0       0    0      0    0    0      0       1  \n",
       "...     ...   ...     ...  ...    ...  ...  ...    ...     ...  \n",
       "57        1     0       0    0      0    0    0      0       0  \n",
       "578       0     0       0    0      0    0    0      0       1  \n",
       "5848      0     0       0    0      0    0    1      1       1  \n",
       "2439      0     0       0    1      0    0    0      0       0  \n",
       "23572     0     0       0    0      0    1    0      0       0  \n",
       "\n",
       "[25000 rows x 50 columns]"
      ]
     },
     "execution_count": 44,
     "metadata": {},
     "output_type": "execute_result"
    }
   ],
   "source": [
    "df_top50 = get_df_topn(df[\"texts_norm\"], topn=50, counter_tokens=cntr)\n",
    "\n",
    "df_top50"
   ]
  },
  {
   "cell_type": "code",
   "execution_count": 8,
   "metadata": {},
   "outputs": [],
   "source": [
    "y = df['labels']\n",
    "y1 = df['labels'].values.tolist()"
   ]
  },
  {
   "cell_type": "code",
   "execution_count": 11,
   "metadata": {},
   "outputs": [],
   "source": [
    "# We choose a priori 50 as the number of dimensions we will use for classification\n",
    "# X = get_df_topn( df['texts_norm'], 50, counter_tokens=cntr).values\n",
    "\n",
    "max_features = 50\n",
    "\n",
    "X = get_df_topn( df['texts_norm'], max_features, counter_tokens=cntr)\n",
    "# Replace the special characters in the column names\n",
    "new_columns = [col.replace('[', '').replace(']', '').replace('<', '') for col in X.columns]\n",
    "\n",
    "# Rename the columns in the DataFrame\n",
    "X.rename(columns=dict(zip(X.columns, new_columns)), inplace=True)\n",
    "\n",
    "# Add the labels to X and save X\n",
    "X['labels'] = y\n",
    "X.to_csv('bag_of_words.csv', index=False)\n",
    "\n",
    "#y = (df['target'] == 'spam').astype(np.int8).values\n",
    "#y = df['labels'].factorize()[0]"
   ]
  },
  {
   "cell_type": "code",
   "execution_count": 47,
   "metadata": {},
   "outputs": [],
   "source": [
    "def get_models2(use_dummy):\n",
    "    \n",
    "    models = [('dummy', DummyClassifier(strategy='stratified'))] if use_dummy else []\n",
    "    \n",
    "    models += [\n",
    "        ('catboost', ctb.CatBoostClassifier(n_estimators=50, max_depth=5, random_state=0, verbose=0)),\n",
    "        ('xgboost', xgb.XGBClassifier(n_estimators=50, max_depth=5, random_state=0)),\n",
    "        ('LogisticRegression', LogisticRegression(random_state=0))\n",
    "    ] \n",
    "    return models"
   ]
  },
  {
   "cell_type": "code",
   "execution_count": 48,
   "metadata": {},
   "outputs": [],
   "source": [
    "def run_models2(X, y, use_dummy=True, scoring='accuracy', plot_result=False, show_confusion_matrix=True):\n",
    "    result = []\n",
    "    #cv = StratifiedKFold(n_splits=cv, shuffle=True, random_state=0)\n",
    "    \n",
    "    num_cols = 4\n",
    "    if show_confusion_matrix:\n",
    "        fig, axes = plt.subplots(nrows=1, ncols=num_cols, figsize=(15,10))\n",
    "\n",
    "\n",
    "    for it, (model_name, model) in enumerate(get_models2(use_dummy)):\n",
    "        clf = model\n",
    "        clf.fit(X,y)\n",
    "        y_pred = clf.predict(X)\n",
    "        score = accuracy_score(y, y_pred)\n",
    "        print(\"model={}, accuracy={}\".format(model_name, score))\n",
    "\n",
    "        if show_confusion_matrix:\n",
    "            ax = axes[it]\n",
    "            disp = ConfusionMatrixDisplay.from_predictions(y,y_pred,ax=ax,colorbar=None)\n",
    "            disp.ax_.set_title('model: {}'.format(model_name))"
   ]
  },
  {
   "cell_type": "code",
   "execution_count": 49,
   "metadata": {},
   "outputs": [
    {
     "name": "stdout",
     "output_type": "stream",
     "text": [
      "model=dummy, accuracy=0.49964\n",
      "model=catboost, accuracy=0.7314\n",
      "model=xgboost, accuracy=0.74976\n",
      "model=LogisticRegression, accuracy=0.70008\n"
     ]
    },
    {
     "data": {
      "image/png": "[encoded data removed]",
      "text/plain": [
       "<Figure size 1500x1000 with 4 Axes>"
      ]
     },
     "metadata": {},
     "output_type": "display_data"
    }
   ],
   "source": [
    "run_models2(X,y1)"
   ]
  },
  {
   "cell_type": "markdown",
   "metadata": {},
   "source": [
    "### Feature importance of XGBoost"
   ]
  },
  {
   "cell_type": "code",
   "execution_count": 67,
   "metadata": {},
   "outputs": [
    {
     "data": {
      "image/png": "[encoded data removed]",
      "text/plain": [
       "<Figure size 1000x600 with 1 Axes>"
      ]
     },
     "metadata": {},
     "output_type": "display_data"
    },
    {
     "name": "stdout",
     "output_type": "stream",
     "text": [
      "Accuracy: 0.74976\n",
      "Precision: 0.7413793103448276\n",
      "Recall: 0.76712\n",
      "F1-score: 0.7540300385311001\n"
     ]
    }
   ],
   "source": [
    "import xgboost as xgb\n",
    "from sklearn.metrics import accuracy_score, precision_score, recall_score, f1_score\n",
    "\n",
    "# Initialize and fit XGBoost classifier\n",
    "xgboost_clf = xgb.XGBClassifier(n_estimators=50, max_depth=5, random_state=0)\n",
    "xgboost_clf.fit(X, y1)\n",
    "\n",
    "# Get feature importances\n",
    "feature_importance = xgboost_clf.feature_importances_\n",
    "\n",
    "# Create a DataFrame with feature names and importances\n",
    "feature_importance_df = pd.DataFrame({'Feature': X.columns,\n",
    "                                      'Importance': feature_importance})\n",
    "\n",
    "# Sort the DataFrame by importance values\n",
    "feature_importance_df = feature_importance_df.sort_values(by='Importance', ascending=False)\n",
    "\n",
    "# Select top N most important features\n",
    "top_n_features = 15  # Change this value to adjust the number of features shown\n",
    "top_n_feature_importance_df = feature_importance_df.head(top_n_features)\n",
    "\n",
    "# Plot feature importances\n",
    "plt.figure(figsize=(10, 6))\n",
    "plt.barh(top_n_feature_importance_df['Feature'], top_n_feature_importance_df['Importance'], color='skyblue')\n",
    "plt.xlabel('Importance')\n",
    "plt.ylabel('Feature')\n",
    "plt.title('Top {} Most Important Features'.format(top_n_features))\n",
    "plt.show()\n",
    "\n",
    "# Calculate and display additional metrics\n",
    "y_pred = xgboost_clf.predict(X)\n",
    "accuracy = accuracy_score(y1, y_pred)\n",
    "precision = precision_score(y1, y_pred)\n",
    "recall = recall_score(y1, y_pred)\n",
    "f1 = f1_score(y1, y_pred)\n",
    "\n",
    "print(\"Accuracy:\", accuracy)\n",
    "print(\"Precision:\", precision)\n",
    "print(\"Recall:\", recall)\n",
    "print(\"F1-score:\", f1)\n"
   ]
  },
  {
   "cell_type": "code",
   "execution_count": 51,
   "metadata": {},
   "outputs": [
    {
     "data": {
      "text/plain": [
       "0.7314"
      ]
     },
     "execution_count": 51,
     "metadata": {},
     "output_type": "execute_result"
    }
   ],
   "source": [
    "catboost_clf = ctb.CatBoostClassifier(n_estimators=50, max_depth=5, random_state=0, verbose=0)\n",
    "catboost_clf.fit(X,y1)\n",
    "\n",
    "y_pred = catboost_clf.predict(X)\n",
    "accuracy_score(y1, y_pred)"
   ]
  },
  {
   "cell_type": "markdown",
   "metadata": {},
   "source": [
    "### Feature importance of CATboost"
   ]
  },
  {
   "cell_type": "code",
   "execution_count": 52,
   "metadata": {},
   "outputs": [
    {
     "data": {
      "image/png": "[encoded data removed]",
      "text/plain": [
       "<Figure size 1000x600 with 1 Axes>"
      ]
     },
     "metadata": {},
     "output_type": "display_data"
    },
    {
     "name": "stdout",
     "output_type": "stream",
     "text": [
      "Accuracy: 0.7314\n",
      "Precision: 0.7236872631660352\n",
      "Recall: 0.74864\n",
      "F1-score: 0.7359521843419449\n"
     ]
    }
   ],
   "source": [
    "import catboost as ctb\n",
    "from catboost import Pool\n",
    "from sklearn.metrics import accuracy_score, precision_score, recall_score, f1_score\n",
    "\n",
    "# Convert DataFrame to Pool object\n",
    "train_pool = Pool(data=X, label=y1)\n",
    "\n",
    "# Initialize and fit CatBoost classifier using the Pool object\n",
    "catboost_clf = ctb.CatBoostClassifier(n_estimators=50, max_depth=5, random_state=0, verbose=0)\n",
    "catboost_clf.fit(train_pool)\n",
    "\n",
    "# Get feature importances\n",
    "feature_importance = catboost_clf.get_feature_importance(data=train_pool,\n",
    "                                                         type='PredictionValuesChange')\n",
    "\n",
    "# Create a DataFrame with feature names and importances\n",
    "feature_importance_df = pd.DataFrame({'Feature': X.columns,\n",
    "                                      'Importance': feature_importance})\n",
    "\n",
    "# Sort the DataFrame by importance values\n",
    "feature_importance_df = feature_importance_df.sort_values(by='Importance', ascending=False)\n",
    "\n",
    "# Select top N most important features\n",
    "top_n_features = 15  # Change this value to adjust the number of features shown\n",
    "top_n_feature_importance_df = feature_importance_df.head(top_n_features)\n",
    "\n",
    "# Plot feature importances\n",
    "plt.figure(figsize=(10, 6))\n",
    "plt.barh(top_n_feature_importance_df['Feature'], top_n_feature_importance_df['Importance'], color='skyblue')\n",
    "plt.xlabel('Importance')\n",
    "plt.ylabel('Feature')\n",
    "plt.title('Top {} Most Important Features'.format(top_n_features))\n",
    "plt.show()\n",
    "\n",
    "# Calculate and display additional metrics\n",
    "y_pred = catboost_clf.predict(train_pool)\n",
    "accuracy = accuracy_score(y1, y_pred)\n",
    "precision = precision_score(y1, y_pred)\n",
    "recall = recall_score(y1, y_pred)\n",
    "f1 = f1_score(y1, y_pred)\n",
    "\n",
    "print(\"Accuracy:\", accuracy)\n",
    "print(\"Precision:\", precision)\n",
    "print(\"Recall:\", recall)\n",
    "print(\"F1-score:\", f1)\n"
   ]
  },
  {
   "cell_type": "code",
   "execution_count": 53,
   "metadata": {},
   "outputs": [
    {
     "data": {
      "text/plain": [
       "25000"
      ]
     },
     "execution_count": 53,
     "metadata": {},
     "output_type": "execute_result"
    }
   ],
   "source": [
    "len(y_pred)"
   ]
  },
  {
   "cell_type": "code",
   "execution_count": 54,
   "metadata": {},
   "outputs": [],
   "source": [
    "def predicta(text):\n",
    "    # del dft\n",
    "    # text = purify(text)\n",
    "    dft = pd.DataFrame({'texts':[text]})\n",
    "    dft['texts_norm'] = dft['texts'].str.lower()\n",
    "    return xgboost_clf.predict(get_df_topn(dft[\"texts_norm\"], max_features, counter_tokens=cntr).values)[0]\n",
    "    # return dft"
   ]
  },
  {
   "cell_type": "code",
   "execution_count": 55,
   "metadata": {},
   "outputs": [],
   "source": [
    "cat=[\"negative\", \"positive\"]"
   ]
  },
  {
   "cell_type": "code",
   "execution_count": 56,
   "metadata": {},
   "outputs": [
    {
     "data": {
      "text/plain": [
       "'positive'"
      ]
     },
     "execution_count": 56,
     "metadata": {},
     "output_type": "execute_result"
    }
   ],
   "source": [
    "cat[predicta(df.iloc[0]['texts_norm'])]"
   ]
  }
 ],
 "metadata": {
  "interpreter": {
   "hash": "89f0d777c4a94be2bf2b804940f2dc095d999567ba7f70c79729be93bbb29d94"
  },
  "kernelspec": {
   "display_name": "Python 3.10",
   "language": "python",
   "name": "python3"
  },
  "language_info": {
   "codemirror_mode": {
    "name": "ipython",
    "version": 3
   },
   "file_extension": ".py",
   "mimetype": "text/x-python",
   "name": "python",
   "nbconvert_exporter": "python",
   "pygments_lexer": "ipython3",
   "version": "3.10.2"
  }
 },
 "nbformat": 4,
 "nbformat_minor": 2
}
