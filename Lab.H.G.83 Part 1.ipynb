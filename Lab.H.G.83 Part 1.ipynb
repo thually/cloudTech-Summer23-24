{
 "cells": [
  {
   "cell_type": "code",
   "execution_count": 1,
   "metadata": {},
   "outputs": [
    {
     "name": "stdout",
     "output_type": "stream",
     "text": [
      "Requirement already satisfied: catboost in /opt/conda/envs/Python-RT23.1/lib/python3.10/site-packages (1.2.5)\n",
      "Requirement already satisfied: scikit-plot in /opt/conda/envs/Python-RT23.1/lib/python3.10/site-packages (0.3.7)\n",
      "Requirement already satisfied: graphviz in /opt/conda/envs/Python-RT23.1/lib/python3.10/site-packages (from catboost) (0.20.1)\n",
      "Requirement already satisfied: matplotlib in /opt/conda/envs/Python-RT23.1/lib/python3.10/site-packages (from catboost) (3.7.1)\n",
      "Requirement already satisfied: numpy>=1.16.0 in /opt/conda/envs/Python-RT23.1/lib/python3.10/site-packages (from catboost) (1.23.5)\n",
      "Requirement already satisfied: pandas>=0.24 in /opt/conda/envs/Python-RT23.1/lib/python3.10/site-packages (from catboost) (1.5.3)\n",
      "Requirement already satisfied: scipy in /opt/conda/envs/Python-RT23.1/lib/python3.10/site-packages (from catboost) (1.10.1)\n",
      "Requirement already satisfied: plotly in /opt/conda/envs/Python-RT23.1/lib/python3.10/site-packages (from catboost) (5.9.0)\n",
      "Requirement already satisfied: six in /opt/conda/envs/Python-RT23.1/lib/python3.10/site-packages (from catboost) (1.16.0)\n",
      "Requirement already satisfied: scikit-learn>=0.18 in /opt/conda/envs/Python-RT23.1/lib/python3.10/site-packages (from scikit-plot) (1.1.1)\n",
      "Requirement already satisfied: joblib>=0.10 in /opt/conda/envs/Python-RT23.1/lib/python3.10/site-packages (from scikit-plot) (1.1.1)\n",
      "Requirement already satisfied: contourpy>=1.0.1 in /opt/conda/envs/Python-RT23.1/lib/python3.10/site-packages (from matplotlib->catboost) (1.0.5)\n",
      "Requirement already satisfied: cycler>=0.10 in /opt/conda/envs/Python-RT23.1/lib/python3.10/site-packages (from matplotlib->catboost) (0.11.0)\n",
      "Requirement already satisfied: fonttools>=4.22.0 in /opt/conda/envs/Python-RT23.1/lib/python3.10/site-packages (from matplotlib->catboost) (4.51.0)\n",
      "Requirement already satisfied: kiwisolver>=1.0.1 in /opt/conda/envs/Python-RT23.1/lib/python3.10/site-packages (from matplotlib->catboost) (1.4.4)\n",
      "Requirement already satisfied: packaging>=20.0 in /opt/conda/envs/Python-RT23.1/lib/python3.10/site-packages (from matplotlib->catboost) (23.0)\n",
      "Requirement already satisfied: pillow>=6.2.0 in /opt/conda/envs/Python-RT23.1/lib/python3.10/site-packages (from matplotlib->catboost) (10.3.0)\n",
      "Requirement already satisfied: pyparsing>=2.3.1 in /opt/conda/envs/Python-RT23.1/lib/python3.10/site-packages (from matplotlib->catboost) (3.0.9)\n",
      "Requirement already satisfied: python-dateutil>=2.7 in /opt/conda/envs/Python-RT23.1/lib/python3.10/site-packages (from matplotlib->catboost) (2.8.2)\n",
      "Requirement already satisfied: pytz>=2020.1 in /opt/conda/envs/Python-RT23.1/lib/python3.10/site-packages (from pandas>=0.24->catboost) (2022.7)\n",
      "Requirement already satisfied: threadpoolctl>=2.0.0 in /opt/conda/envs/Python-RT23.1/lib/python3.10/site-packages (from scikit-learn>=0.18->scikit-plot) (2.2.0)\n",
      "Requirement already satisfied: tenacity>=6.2.0 in /opt/conda/envs/Python-RT23.1/lib/python3.10/site-packages (from plotly->catboost) (8.0.1)\n"
     ]
    }
   ],
   "source": [
    "!pip install catboost scikit-plot"
   ]
  },
  {
   "cell_type": "markdown",
   "metadata": {},
   "source": [
    "# Original Notebook"
   ]
  },
  {
   "cell_type": "code",
   "execution_count": 2,
   "metadata": {},
   "outputs": [],
   "source": [
    "import pandas as pd\n",
    "import numpy as np\n",
    "\n",
    "import re, math, os\n",
    "\n",
    "\n",
    "\n",
    "from collections import Counter, defaultdict\n",
    "\n",
    "from sklearn.model_selection import cross_val_score, cross_val_predict, StratifiedKFold\n",
    "from sklearn.feature_extraction.text import CountVectorizer, TfidfVectorizer\n",
    "\n",
    "from sklearn.dummy import DummyClassifier\n",
    "from sklearn.linear_model import LogisticRegression\n",
    "from sklearn.svm import SVC\n",
    "from sklearn.naive_bayes import MultinomialNB\n",
    "from sklearn.tree import DecisionTreeClassifier\n",
    "from sklearn.ensemble import RandomForestClassifier\n",
    "import xgboost as xgb\n",
    "import catboost as ctb\n",
    "#import lightgbm as lgb\n",
    "\n",
    "from sklearn.metrics import accuracy_score, f1_score\n",
    "from scikitplot.metrics import plot_confusion_matrix\n",
    "from sklearn.metrics import ConfusionMatrixDisplay\n",
    "\n",
    "import matplotlib.pyplot as plt\n",
    "import seaborn as sns\n",
    "\n",
    "p = lambda x: print(x)\n",
    "\n",
    "%matplotlib inline"
   ]
  },
  {
   "cell_type": "markdown",
   "metadata": {},
   "source": [
    "### Download IMDB from IBM Cloud Object Storage"
   ]
  },
  {
   "cell_type": "markdown",
   "metadata": {},
   "source": [
    "As we did previously e.g. in Lab.I.80, let's collect individual training reviews into a list of chains: one chain per review.\n",
    "We also collect review labels (positive/negative) for the labels list."
   ]
  },
  {
   "cell_type": "code",
   "execution_count": 3,
   "metadata": {},
   "outputs": [],
   "source": [
    "import os, types\n",
    "from botocore.client import Config\n",
    "import ibm_boto3\n",
    "\n",
    "def __iter__(self): return 0\n",
    "\n",
    "# @hidden_cell\n",
    "# The following code accesses a file in your IBM Cloud Object Storage. It includes your credentials.\n",
    "# You might want to remove those credentials before you share the notebook.\n",
    "\n",
    "if os.environ.get('RUNTIME_ENV_LOCATION_TYPE') == 'external':\n",
    "    endpoint_a205bd0ef67d4e43a20f54571521aa41 = 'https://s3-api.us-geo.objectstorage.softlayer.net'\n",
    "else:\n",
    "    endpoint_a205bd0ef67d4e43a20f54571521aa41 = 'https://s3-api.us-geo.objectstorage.service.networklayer.com'\n",
    "\n",
    "client_a205bd0ef67d4e43a20f54571521aa41 = ibm_boto3.client(service_name='s3',\n",
    "    ibm_api_key_id='3oTQ_GU9OAHXSgCgxR06S1CTzFOR44-4KvNuuoVgBqux',\n",
    "    ibm_auth_endpoint=\"https://iam.cloud.ibm.com/oidc/token\",\n",
    "    config=Config(signature_version='oauth'),\n",
    "    endpoint_url=endpoint_a205bd0ef67d4e43a20f54571521aa41)\n",
    "# Your data file was loaded into a botocore.response.StreamingBody object.\n",
    "# Please read the documentation of ibm_boto3 and pandas to learn more about the possibilities to load the data.\n",
    "# ibm_boto3 documentation: https://ibm.github.io/ibm-cos-sdk-python/\n",
    "# pandas documentation: http://pandas.pydata.org/\n",
    "streaming_body_4 = client_a205bd0ef67d4e43a20f54571521aa41.get_object(Bucket='2020l-donotdelete-pr-iya5gjhbhguf6w', Key='aclImdb.zip')['Body']\n",
    "# add missing __iter__ method so pandas accepts body as file-like object\n",
    "if not hasattr(streaming_body_4, \"__iter__\"): streaming_body_4.__iter__ = types.MethodType( __iter__, streaming_body_4 ) \n",
    "    \n",
    "data = streaming_body_4._raw_stream  \n",
    "with open(\"imdb.zip\", \"wb\") as outfile:\n",
    "    # Copy the BytesIO stream to the output file\n",
    "    outfile.write(data.read())\n",
    "    \n",
    "import zipfile\n",
    "with zipfile.ZipFile('imdb.zip', 'r') as zip_ref:\n",
    "    zip_ref.extractall('.')"
   ]
  },
  {
   "cell_type": "markdown",
   "metadata": {},
   "source": [
    "We take the 'train' dataset from the files"
   ]
  },
  {
   "cell_type": "code",
   "execution_count": 4,
   "metadata": {},
   "outputs": [],
   "source": [
    "imdb_dir = './aclImdb'\n",
    "train_dir = os.path.join(imdb_dir, 'train')\n",
    "\n",
    "labels = []\n",
    "texts = []\n",
    "\n",
    "for label_type in ['neg', 'pos']:\n",
    "    dir_name = os.path.join(train_dir, label_type)\n",
    "    for fname in os.listdir(dir_name):\n",
    "        if fname[-4:] == '.txt':\n",
    "            f = open(os.path.join(dir_name, fname), encoding='utf-8')\n",
    "            texts.append(f.read())\n",
    "            f.close()\n",
    "            if label_type == 'neg':\n",
    "                labels.append(0)\n",
    "            else:\n",
    "                labels.append(1)\n",
    "                \n",
    "# create and load df from lists 'labels' and 'texts'\n",
    "df = pd.DataFrame(columns=['labels', 'texts'])\n",
    "df['labels']=labels\n",
    "df['texts']=texts\n",
    "\n",
    "df.to_csv('df.csv', index=False)"
   ]
  },
  {
   "cell_type": "code",
   "execution_count": 5,
   "metadata": {},
   "outputs": [
    {
     "data": {
      "text/html": [
       "<div>\n",
       "<style scoped>\n",
       "    .dataframe tbody tr th:only-of-type {\n",
       "        vertical-align: middle;\n",
       "    }\n",
       "\n",
       "    .dataframe tbody tr th {\n",
       "        vertical-align: top;\n",
       "    }\n",
       "\n",
       "    .dataframe thead th {\n",
       "        text-align: right;\n",
       "    }\n",
       "</style>\n",
       "<table border=\"1\" class=\"dataframe\">\n",
       "  <thead>\n",
       "    <tr style=\"text-align: right;\">\n",
       "      <th></th>\n",
       "      <th>labels</th>\n",
       "      <th>texts</th>\n",
       "    </tr>\n",
       "  </thead>\n",
       "  <tbody>\n",
       "    <tr>\n",
       "      <th>0</th>\n",
       "      <td>0</td>\n",
       "      <td>or anyone who was praying for the sight of Al ...</td>\n",
       "    </tr>\n",
       "    <tr>\n",
       "      <th>1</th>\n",
       "      <td>0</td>\n",
       "      <td>I entered the theatre intending to pass a plea...</td>\n",
       "    </tr>\n",
       "    <tr>\n",
       "      <th>2</th>\n",
       "      <td>0</td>\n",
       "      <td>I really looked forward to this program for tw...</td>\n",
       "    </tr>\n",
       "    <tr>\n",
       "      <th>3</th>\n",
       "      <td>0</td>\n",
       "      <td>Such is the dilemma(above) that Debbie must fa...</td>\n",
       "    </tr>\n",
       "    <tr>\n",
       "      <th>4</th>\n",
       "      <td>0</td>\n",
       "      <td>Any movie in which Brooke Shields out-acts a F...</td>\n",
       "    </tr>\n",
       "    <tr>\n",
       "      <th>...</th>\n",
       "      <td>...</td>\n",
       "      <td>...</td>\n",
       "    </tr>\n",
       "    <tr>\n",
       "      <th>24995</th>\n",
       "      <td>1</td>\n",
       "      <td>Riding Giants is a brilliant documentary that ...</td>\n",
       "    </tr>\n",
       "    <tr>\n",
       "      <th>24996</th>\n",
       "      <td>1</td>\n",
       "      <td>This show has a few clichés and a few over the...</td>\n",
       "    </tr>\n",
       "    <tr>\n",
       "      <th>24997</th>\n",
       "      <td>1</td>\n",
       "      <td>As someone who has seen and followed Hartley's...</td>\n",
       "    </tr>\n",
       "    <tr>\n",
       "      <th>24998</th>\n",
       "      <td>1</td>\n",
       "      <td>I heard a few friends one day saying that \"Sca...</td>\n",
       "    </tr>\n",
       "    <tr>\n",
       "      <th>24999</th>\n",
       "      <td>1</td>\n",
       "      <td>Saturday June 3, 6:30pm The Neptune&lt;br /&gt;&lt;br /...</td>\n",
       "    </tr>\n",
       "  </tbody>\n",
       "</table>\n",
       "<p>25000 rows × 2 columns</p>\n",
       "</div>"
      ],
      "text/plain": [
       "       labels                                              texts\n",
       "0           0  or anyone who was praying for the sight of Al ...\n",
       "1           0  I entered the theatre intending to pass a plea...\n",
       "2           0  I really looked forward to this program for tw...\n",
       "3           0  Such is the dilemma(above) that Debbie must fa...\n",
       "4           0  Any movie in which Brooke Shields out-acts a F...\n",
       "...       ...                                                ...\n",
       "24995       1  Riding Giants is a brilliant documentary that ...\n",
       "24996       1  This show has a few clichés and a few over the...\n",
       "24997       1  As someone who has seen and followed Hartley's...\n",
       "24998       1  I heard a few friends one day saying that \"Sca...\n",
       "24999       1  Saturday June 3, 6:30pm The Neptune<br /><br /...\n",
       "\n",
       "[25000 rows x 2 columns]"
      ]
     },
     "execution_count": 5,
     "metadata": {},
     "output_type": "execute_result"
    }
   ],
   "source": [
    "df = pd.read_csv('df.csv')\n",
    "df"
   ]
  },
  {
   "cell_type": "code",
   "execution_count": 6,
   "metadata": {},
   "outputs": [],
   "source": [
    "# mixing\n",
    "df = df.sample(frac = 1.0, random_state=33)"
   ]
  },
  {
   "cell_type": "code",
   "execution_count": 7,
   "metadata": {},
   "outputs": [
    {
     "data": {
      "image/png": "[encoded data removed]",
      "text/plain": [
       "<Figure size 640x480 with 1 Axes>"
      ]
     },
     "metadata": {},
     "output_type": "display_data"
    }
   ],
   "source": [
    "# distribution of labels in the training set\n",
    "df['labels'].value_counts(normalize=True).plot(kind='bar');"
   ]
  },
  {
   "cell_type": "code",
   "execution_count": 8,
   "metadata": {},
   "outputs": [
    {
     "data": {
      "text/html": [
       "<div>\n",
       "<style scoped>\n",
       "    .dataframe tbody tr th:only-of-type {\n",
       "        vertical-align: middle;\n",
       "    }\n",
       "\n",
       "    .dataframe tbody tr th {\n",
       "        vertical-align: top;\n",
       "    }\n",
       "\n",
       "    .dataframe thead th {\n",
       "        text-align: right;\n",
       "    }\n",
       "</style>\n",
       "<table border=\"1\" class=\"dataframe\">\n",
       "  <thead>\n",
       "    <tr style=\"text-align: right;\">\n",
       "      <th></th>\n",
       "      <th>labels</th>\n",
       "      <th>texts</th>\n",
       "      <th>texts_norm</th>\n",
       "    </tr>\n",
       "  </thead>\n",
       "  <tbody>\n",
       "    <tr>\n",
       "      <th>17797</th>\n",
       "      <td>1</td>\n",
       "      <td>Sudden Impact was overall better than The Enfo...</td>\n",
       "      <td>sudden impact was overall better than the enfo...</td>\n",
       "    </tr>\n",
       "    <tr>\n",
       "      <th>6458</th>\n",
       "      <td>0</td>\n",
       "      <td>\"White Noise\" had potential to be one of the m...</td>\n",
       "      <td>\"white noise\" had potential to be one of the m...</td>\n",
       "    </tr>\n",
       "    <tr>\n",
       "      <th>14478</th>\n",
       "      <td>1</td>\n",
       "      <td>The first film ever made. Workers streaming fr...</td>\n",
       "      <td>the first film ever made. workers streaming fr...</td>\n",
       "    </tr>\n",
       "    <tr>\n",
       "      <th>14825</th>\n",
       "      <td>1</td>\n",
       "      <td>Nobody said movies had to be realistic did the...</td>\n",
       "      <td>nobody said movies had to be realistic did the...</td>\n",
       "    </tr>\n",
       "    <tr>\n",
       "      <th>7523</th>\n",
       "      <td>0</td>\n",
       "      <td>This film is very creepy indeed. Unfortunately...</td>\n",
       "      <td>this film is very creepy indeed. unfortunately...</td>\n",
       "    </tr>\n",
       "    <tr>\n",
       "      <th>...</th>\n",
       "      <td>...</td>\n",
       "      <td>...</td>\n",
       "      <td>...</td>\n",
       "    </tr>\n",
       "    <tr>\n",
       "      <th>57</th>\n",
       "      <td>0</td>\n",
       "      <td>I am generally more willing to be open minded ...</td>\n",
       "      <td>i am generally more willing to be open minded ...</td>\n",
       "    </tr>\n",
       "    <tr>\n",
       "      <th>578</th>\n",
       "      <td>0</td>\n",
       "      <td>Let's cut to the chase: this movie is softcore...</td>\n",
       "      <td>let's cut to the chase: this movie is softcore...</td>\n",
       "    </tr>\n",
       "    <tr>\n",
       "      <th>5848</th>\n",
       "      <td>0</td>\n",
       "      <td>Race car drivers say that 100 mph seems fast t...</td>\n",
       "      <td>race car drivers say that 100 mph seems fast t...</td>\n",
       "    </tr>\n",
       "    <tr>\n",
       "      <th>2439</th>\n",
       "      <td>0</td>\n",
       "      <td>All I could think of while watching this movie...</td>\n",
       "      <td>all i could think of while watching this movie...</td>\n",
       "    </tr>\n",
       "    <tr>\n",
       "      <th>23572</th>\n",
       "      <td>1</td>\n",
       "      <td>I saw this in the theater during it's initial ...</td>\n",
       "      <td>i saw this in the theater during it's initial ...</td>\n",
       "    </tr>\n",
       "  </tbody>\n",
       "</table>\n",
       "<p>25000 rows × 3 columns</p>\n",
       "</div>"
      ],
      "text/plain": [
       "       labels                                              texts  \\\n",
       "17797       1  Sudden Impact was overall better than The Enfo...   \n",
       "6458        0  \"White Noise\" had potential to be one of the m...   \n",
       "14478       1  The first film ever made. Workers streaming fr...   \n",
       "14825       1  Nobody said movies had to be realistic did the...   \n",
       "7523        0  This film is very creepy indeed. Unfortunately...   \n",
       "...       ...                                                ...   \n",
       "57          0  I am generally more willing to be open minded ...   \n",
       "578         0  Let's cut to the chase: this movie is softcore...   \n",
       "5848        0  Race car drivers say that 100 mph seems fast t...   \n",
       "2439        0  All I could think of while watching this movie...   \n",
       "23572       1  I saw this in the theater during it's initial ...   \n",
       "\n",
       "                                              texts_norm  \n",
       "17797  sudden impact was overall better than the enfo...  \n",
       "6458   \"white noise\" had potential to be one of the m...  \n",
       "14478  the first film ever made. workers streaming fr...  \n",
       "14825  nobody said movies had to be realistic did the...  \n",
       "7523   this film is very creepy indeed. unfortunately...  \n",
       "...                                                  ...  \n",
       "57     i am generally more willing to be open minded ...  \n",
       "578    let's cut to the chase: this movie is softcore...  \n",
       "5848   race car drivers say that 100 mph seems fast t...  \n",
       "2439   all i could think of while watching this movie...  \n",
       "23572  i saw this in the theater during it's initial ...  \n",
       "\n",
       "[25000 rows x 3 columns]"
      ]
     },
     "execution_count": 8,
     "metadata": {},
     "output_type": "execute_result"
    }
   ],
   "source": [
    "# light normalization\n",
    "df['texts_norm'] = df['texts'].str.lower()\n",
    "df"
   ]
  },
  {
   "cell_type": "code",
   "execution_count": 9,
   "metadata": {},
   "outputs": [
    {
     "data": {
      "text/plain": [
       "\"sudden impact was overall better than the enforcer in my opinion. it was building up to be a great movie, but then i saw the villain(s) and was disappointed.<br /><br />sudden impact was different than the previous installments. the plot went a different direction in this movie, as dirty harry doesn't take as much of a police approach this time around. we also don't see the villain(s) until later, which means less screen time for them, which is better for us all.<br /><br />clint eastwood once again steals the show as dirty harry, enough said. pat hingle was enjoyable as chief jannings, harry's new assigned boss. bradford dillman seemed to change his name to captain briggs here, either way, he wasn't any different. michael currie is decent as lt. donnelly, harry's annoying superior. i personally enjoyed kevyn major howard as hawkins, the young punk who has a vendetta against harry. albert popwell was excellent as horace, harry's buddy. audrie j. neenan was good as ray parkins, a famous lesbian around town. jack thibeau was well cast as kruger, a pervert. now for the really bad part. sandra locke, eastwood's long-time lover was horribly miscast as jennifer spencer, harry's love interest. and paul drake was just horrible as mick.<br /><br />the movie would have been so much better if not for better writing and acting on some parts.<br /><br />8/10.\""
      ]
     },
     "execution_count": 9,
     "metadata": {},
     "output_type": "execute_result"
    }
   ],
   "source": [
    "test_initial_1 = df.iloc[0]['texts_norm']\n",
    "test_initial_1"
   ]
  },
  {
   "cell_type": "code",
   "execution_count": 10,
   "metadata": {},
   "outputs": [
    {
     "data": {
      "text/plain": [
       "252192"
      ]
     },
     "execution_count": 10,
     "metadata": {},
     "output_type": "execute_result"
    }
   ],
   "source": [
    "# tokenization\n",
    "tokens_set = set()\n",
    "df['texts_norm'].str.split(\" \").map(tokens_set.update)\n",
    "\n",
    "len(tokens_set)"
   ]
  },
  {
   "cell_type": "code",
   "execution_count": 11,
   "metadata": {},
   "outputs": [
    {
     "data": {
      "text/plain": [
       "[('the', 322174),\n",
       " ('a', 159949),\n",
       " ('and', 158556),\n",
       " ('of', 144459),\n",
       " ('to', 133965)]"
      ]
     },
     "execution_count": 11,
     "metadata": {},
     "output_type": "execute_result"
    }
   ],
   "source": [
    "# what are the most frequent tokens? -> Counter(tokens_set).most_common()\n",
    "cntr = Counter()\n",
    "df[\"texts_norm\"].str.split(\" \").map(cntr.update)\n",
    "cntr.most_common(n=5)"
   ]
  },
  {
   "cell_type": "code",
   "execution_count": 12,
   "metadata": {},
   "outputs": [],
   "source": [
    "def get_df_topn(text: pd.Series, topn: int, counter_tokens: Counter):\n",
    "\n",
    "    top_tokens = [x[0] for x in counter_tokens.most_common(n=topn)]\n",
    "\n",
    "    def check_top_n(sent_tokens):\n",
    "        return [int(token in sent_tokens) for token in top_tokens]\n",
    "\n",
    "    df_topn = text.str.split(\" \").map(set).map(check_top_n).apply(pd.Series) # .apply: If func returns a Series object the result will be a DataFrame.\n",
    "    df_topn.columns = top_tokens\n",
    "\n",
    "    return df_topn"
   ]
  },
  {
   "cell_type": "code",
   "execution_count": 13,
   "metadata": {},
   "outputs": [
    {
     "data": {
      "text/html": [
       "<div>\n",
       "<style scoped>\n",
       "    .dataframe tbody tr th:only-of-type {\n",
       "        vertical-align: middle;\n",
       "    }\n",
       "\n",
       "    .dataframe tbody tr th {\n",
       "        vertical-align: top;\n",
       "    }\n",
       "\n",
       "    .dataframe thead th {\n",
       "        text-align: right;\n",
       "    }\n",
       "</style>\n",
       "<table border=\"1\" class=\"dataframe\">\n",
       "  <thead>\n",
       "    <tr style=\"text-align: right;\">\n",
       "      <th></th>\n",
       "      <th>the</th>\n",
       "      <th>a</th>\n",
       "      <th>and</th>\n",
       "      <th>of</th>\n",
       "      <th>to</th>\n",
       "      <th>is</th>\n",
       "      <th>in</th>\n",
       "      <th>i</th>\n",
       "      <th>this</th>\n",
       "      <th>that</th>\n",
       "      <th>...</th>\n",
       "      <th>her</th>\n",
       "      <th>about</th>\n",
       "      <th>it's</th>\n",
       "      <th>some</th>\n",
       "      <th>if</th>\n",
       "      <th>out</th>\n",
       "      <th>what</th>\n",
       "      <th>very</th>\n",
       "      <th>when</th>\n",
       "      <th>more</th>\n",
       "    </tr>\n",
       "  </thead>\n",
       "  <tbody>\n",
       "    <tr>\n",
       "      <th>17797</th>\n",
       "      <td>1</td>\n",
       "      <td>1</td>\n",
       "      <td>1</td>\n",
       "      <td>1</td>\n",
       "      <td>1</td>\n",
       "      <td>1</td>\n",
       "      <td>1</td>\n",
       "      <td>1</td>\n",
       "      <td>1</td>\n",
       "      <td>0</td>\n",
       "      <td>...</td>\n",
       "      <td>0</td>\n",
       "      <td>0</td>\n",
       "      <td>0</td>\n",
       "      <td>1</td>\n",
       "      <td>1</td>\n",
       "      <td>0</td>\n",
       "      <td>0</td>\n",
       "      <td>0</td>\n",
       "      <td>0</td>\n",
       "      <td>0</td>\n",
       "    </tr>\n",
       "    <tr>\n",
       "      <th>6458</th>\n",
       "      <td>1</td>\n",
       "      <td>1</td>\n",
       "      <td>1</td>\n",
       "      <td>1</td>\n",
       "      <td>1</td>\n",
       "      <td>1</td>\n",
       "      <td>1</td>\n",
       "      <td>1</td>\n",
       "      <td>1</td>\n",
       "      <td>1</td>\n",
       "      <td>...</td>\n",
       "      <td>0</td>\n",
       "      <td>1</td>\n",
       "      <td>0</td>\n",
       "      <td>0</td>\n",
       "      <td>0</td>\n",
       "      <td>0</td>\n",
       "      <td>0</td>\n",
       "      <td>0</td>\n",
       "      <td>0</td>\n",
       "      <td>0</td>\n",
       "    </tr>\n",
       "    <tr>\n",
       "      <th>14478</th>\n",
       "      <td>1</td>\n",
       "      <td>1</td>\n",
       "      <td>1</td>\n",
       "      <td>1</td>\n",
       "      <td>1</td>\n",
       "      <td>1</td>\n",
       "      <td>1</td>\n",
       "      <td>0</td>\n",
       "      <td>1</td>\n",
       "      <td>0</td>\n",
       "      <td>...</td>\n",
       "      <td>0</td>\n",
       "      <td>1</td>\n",
       "      <td>0</td>\n",
       "      <td>1</td>\n",
       "      <td>0</td>\n",
       "      <td>1</td>\n",
       "      <td>0</td>\n",
       "      <td>0</td>\n",
       "      <td>0</td>\n",
       "      <td>0</td>\n",
       "    </tr>\n",
       "    <tr>\n",
       "      <th>14825</th>\n",
       "      <td>1</td>\n",
       "      <td>1</td>\n",
       "      <td>1</td>\n",
       "      <td>1</td>\n",
       "      <td>1</td>\n",
       "      <td>0</td>\n",
       "      <td>1</td>\n",
       "      <td>1</td>\n",
       "      <td>1</td>\n",
       "      <td>0</td>\n",
       "      <td>...</td>\n",
       "      <td>0</td>\n",
       "      <td>0</td>\n",
       "      <td>1</td>\n",
       "      <td>0</td>\n",
       "      <td>0</td>\n",
       "      <td>0</td>\n",
       "      <td>0</td>\n",
       "      <td>0</td>\n",
       "      <td>1</td>\n",
       "      <td>0</td>\n",
       "    </tr>\n",
       "    <tr>\n",
       "      <th>7523</th>\n",
       "      <td>1</td>\n",
       "      <td>1</td>\n",
       "      <td>1</td>\n",
       "      <td>1</td>\n",
       "      <td>1</td>\n",
       "      <td>1</td>\n",
       "      <td>1</td>\n",
       "      <td>1</td>\n",
       "      <td>1</td>\n",
       "      <td>1</td>\n",
       "      <td>...</td>\n",
       "      <td>1</td>\n",
       "      <td>1</td>\n",
       "      <td>1</td>\n",
       "      <td>1</td>\n",
       "      <td>0</td>\n",
       "      <td>0</td>\n",
       "      <td>1</td>\n",
       "      <td>1</td>\n",
       "      <td>1</td>\n",
       "      <td>1</td>\n",
       "    </tr>\n",
       "    <tr>\n",
       "      <th>...</th>\n",
       "      <td>...</td>\n",
       "      <td>...</td>\n",
       "      <td>...</td>\n",
       "      <td>...</td>\n",
       "      <td>...</td>\n",
       "      <td>...</td>\n",
       "      <td>...</td>\n",
       "      <td>...</td>\n",
       "      <td>...</td>\n",
       "      <td>...</td>\n",
       "      <td>...</td>\n",
       "      <td>...</td>\n",
       "      <td>...</td>\n",
       "      <td>...</td>\n",
       "      <td>...</td>\n",
       "      <td>...</td>\n",
       "      <td>...</td>\n",
       "      <td>...</td>\n",
       "      <td>...</td>\n",
       "      <td>...</td>\n",
       "      <td>...</td>\n",
       "    </tr>\n",
       "    <tr>\n",
       "      <th>57</th>\n",
       "      <td>1</td>\n",
       "      <td>1</td>\n",
       "      <td>1</td>\n",
       "      <td>1</td>\n",
       "      <td>1</td>\n",
       "      <td>1</td>\n",
       "      <td>1</td>\n",
       "      <td>1</td>\n",
       "      <td>1</td>\n",
       "      <td>1</td>\n",
       "      <td>...</td>\n",
       "      <td>1</td>\n",
       "      <td>1</td>\n",
       "      <td>0</td>\n",
       "      <td>0</td>\n",
       "      <td>0</td>\n",
       "      <td>1</td>\n",
       "      <td>1</td>\n",
       "      <td>1</td>\n",
       "      <td>0</td>\n",
       "      <td>1</td>\n",
       "    </tr>\n",
       "    <tr>\n",
       "      <th>578</th>\n",
       "      <td>1</td>\n",
       "      <td>1</td>\n",
       "      <td>1</td>\n",
       "      <td>1</td>\n",
       "      <td>1</td>\n",
       "      <td>1</td>\n",
       "      <td>0</td>\n",
       "      <td>0</td>\n",
       "      <td>1</td>\n",
       "      <td>1</td>\n",
       "      <td>...</td>\n",
       "      <td>0</td>\n",
       "      <td>0</td>\n",
       "      <td>1</td>\n",
       "      <td>0</td>\n",
       "      <td>1</td>\n",
       "      <td>1</td>\n",
       "      <td>1</td>\n",
       "      <td>0</td>\n",
       "      <td>0</td>\n",
       "      <td>1</td>\n",
       "    </tr>\n",
       "    <tr>\n",
       "      <th>5848</th>\n",
       "      <td>1</td>\n",
       "      <td>1</td>\n",
       "      <td>1</td>\n",
       "      <td>1</td>\n",
       "      <td>1</td>\n",
       "      <td>1</td>\n",
       "      <td>1</td>\n",
       "      <td>1</td>\n",
       "      <td>1</td>\n",
       "      <td>1</td>\n",
       "      <td>...</td>\n",
       "      <td>0</td>\n",
       "      <td>1</td>\n",
       "      <td>0</td>\n",
       "      <td>1</td>\n",
       "      <td>0</td>\n",
       "      <td>1</td>\n",
       "      <td>0</td>\n",
       "      <td>0</td>\n",
       "      <td>0</td>\n",
       "      <td>0</td>\n",
       "    </tr>\n",
       "    <tr>\n",
       "      <th>2439</th>\n",
       "      <td>1</td>\n",
       "      <td>1</td>\n",
       "      <td>1</td>\n",
       "      <td>1</td>\n",
       "      <td>1</td>\n",
       "      <td>1</td>\n",
       "      <td>1</td>\n",
       "      <td>1</td>\n",
       "      <td>1</td>\n",
       "      <td>1</td>\n",
       "      <td>...</td>\n",
       "      <td>0</td>\n",
       "      <td>1</td>\n",
       "      <td>1</td>\n",
       "      <td>1</td>\n",
       "      <td>1</td>\n",
       "      <td>1</td>\n",
       "      <td>0</td>\n",
       "      <td>1</td>\n",
       "      <td>1</td>\n",
       "      <td>1</td>\n",
       "    </tr>\n",
       "    <tr>\n",
       "      <th>23572</th>\n",
       "      <td>1</td>\n",
       "      <td>1</td>\n",
       "      <td>1</td>\n",
       "      <td>1</td>\n",
       "      <td>1</td>\n",
       "      <td>1</td>\n",
       "      <td>1</td>\n",
       "      <td>1</td>\n",
       "      <td>1</td>\n",
       "      <td>1</td>\n",
       "      <td>...</td>\n",
       "      <td>0</td>\n",
       "      <td>0</td>\n",
       "      <td>1</td>\n",
       "      <td>0</td>\n",
       "      <td>0</td>\n",
       "      <td>0</td>\n",
       "      <td>0</td>\n",
       "      <td>1</td>\n",
       "      <td>0</td>\n",
       "      <td>0</td>\n",
       "    </tr>\n",
       "  </tbody>\n",
       "</table>\n",
       "<p>25000 rows × 50 columns</p>\n",
       "</div>"
      ],
      "text/plain": [
       "       the  a  and  of  to  is  in  i  this  that  ...  her  about  it's  \\\n",
       "17797    1  1    1   1   1   1   1  1     1     0  ...    0      0     0   \n",
       "6458     1  1    1   1   1   1   1  1     1     1  ...    0      1     0   \n",
       "14478    1  1    1   1   1   1   1  0     1     0  ...    0      1     0   \n",
       "14825    1  1    1   1   1   0   1  1     1     0  ...    0      0     1   \n",
       "7523     1  1    1   1   1   1   1  1     1     1  ...    1      1     1   \n",
       "...    ... ..  ...  ..  ..  ..  .. ..   ...   ...  ...  ...    ...   ...   \n",
       "57       1  1    1   1   1   1   1  1     1     1  ...    1      1     0   \n",
       "578      1  1    1   1   1   1   0  0     1     1  ...    0      0     1   \n",
       "5848     1  1    1   1   1   1   1  1     1     1  ...    0      1     0   \n",
       "2439     1  1    1   1   1   1   1  1     1     1  ...    0      1     1   \n",
       "23572    1  1    1   1   1   1   1  1     1     1  ...    0      0     1   \n",
       "\n",
       "       some  if  out  what  very  when  more  \n",
       "17797     1   1    0     0     0     0     0  \n",
       "6458      0   0    0     0     0     0     0  \n",
       "14478     1   0    1     0     0     0     0  \n",
       "14825     0   0    0     0     0     1     0  \n",
       "7523      1   0    0     1     1     1     1  \n",
       "...     ...  ..  ...   ...   ...   ...   ...  \n",
       "57        0   0    1     1     1     0     1  \n",
       "578       0   1    1     1     0     0     1  \n",
       "5848      1   0    1     0     0     0     0  \n",
       "2439      1   1    1     0     1     1     1  \n",
       "23572     0   0    0     0     1     0     0  \n",
       "\n",
       "[25000 rows x 50 columns]"
      ]
     },
     "execution_count": 13,
     "metadata": {},
     "output_type": "execute_result"
    }
   ],
   "source": [
    "df_top50 = get_df_topn(df[\"texts_norm\"], topn=50, counter_tokens=cntr)\n",
    "\n",
    "df_top50"
   ]
  },
  {
   "cell_type": "code",
   "execution_count": 14,
   "metadata": {},
   "outputs": [
    {
     "name": "stdout",
     "output_type": "stream",
     "text": [
      "n=1, missing=(229, 1)\n",
      "n=5, missing=(8, 5)\n",
      "n=10, missing=(4, 10)\n",
      "n=20, missing=(2, 20)\n",
      "n=50, missing=(0, 50)\n",
      "n=100, missing=(0, 100)\n"
     ]
    }
   ],
   "source": [
    "# For how many opinions the category cannot be determined based on the selected number of tokens? \n",
    "result = []\n",
    "for topn in [1, 5, 10, 20, 50, 100]:\n",
    "    df_topn = get_df_topn( df['texts_norm'], topn=topn, counter_tokens=cntr)\n",
    "    missing = df_topn[ df_topn.sum(axis=1) == 0 ].shape\n",
    "    \n",
    "    result.append((topn, missing))\n",
    "    print('n={}, missing={}'.format(topn, missing))"
   ]
  },
  {
   "cell_type": "code",
   "execution_count": 15,
   "metadata": {},
   "outputs": [
    {
     "data": {
      "image/png": "[encoded data removed]",
      "text/plain": [
       "<Figure size 1500x500 with 1 Axes>"
      ]
     },
     "metadata": {},
     "output_type": "display_data"
    }
   ],
   "source": [
    "x = [i[0] for i in result]\n",
    "y = [i[1][0] for i in result]\n",
    "\n",
    "plt.figure(figsize=(15, 5))\n",
    "plt.plot( x, y, 'o-' );"
   ]
  },
  {
   "cell_type": "markdown",
   "metadata": {},
   "source": [
    "## <span style=\"color:yellow\">Introduction to modelling: *bag of words*</span>"
   ]
  },
  {
   "cell_type": "markdown",
   "metadata": {},
   "source": [
    "### <span style=\"color:yellow\">Approach based on manual tokenization</span>"
   ]
  },
  {
   "cell_type": "markdown",
   "metadata": {},
   "source": [
    "<span style=\"color:#ffff00\">Check on the test data</span>"
   ]
  },
  {
   "cell_type": "code",
   "execution_count": 16,
   "metadata": {},
   "outputs": [],
   "source": [
    "imdb_dir = './aclImdb'\n",
    "test_dir = os.path.join(imdb_dir, 'test')\n",
    "\n",
    "labels_test = []\n",
    "texts_test = []\n",
    "\n",
    "for label_type in ['neg', 'pos']:\n",
    "    dir_name = os.path.join(test_dir, label_type)\n",
    "    for fname in os.listdir(dir_name):\n",
    "        if fname[-4:] == '.txt':\n",
    "            f = open(os.path.join(dir_name, fname), encoding='utf-8')\n",
    "            texts_test.append(f.read())\n",
    "            f.close()\n",
    "            if label_type == 'neg':\n",
    "                labels_test.append(0)\n",
    "            else:\n",
    "                labels_test.append(1)\n",
    "\n",
    "df_test = pd.DataFrame(columns=['labels', 'texts'])\n",
    "df_test['labels']=labels_test\n",
    "df_test['texts']=texts_test\n",
    "df_test.to_csv('df_test.csv', index=False)"
   ]
  },
  {
   "cell_type": "code",
   "execution_count": 17,
   "metadata": {},
   "outputs": [
    {
     "data": {
      "text/html": [
       "<div>\n",
       "<style scoped>\n",
       "    .dataframe tbody tr th:only-of-type {\n",
       "        vertical-align: middle;\n",
       "    }\n",
       "\n",
       "    .dataframe tbody tr th {\n",
       "        vertical-align: top;\n",
       "    }\n",
       "\n",
       "    .dataframe thead th {\n",
       "        text-align: right;\n",
       "    }\n",
       "</style>\n",
       "<table border=\"1\" class=\"dataframe\">\n",
       "  <thead>\n",
       "    <tr style=\"text-align: right;\">\n",
       "      <th></th>\n",
       "      <th>labels</th>\n",
       "      <th>texts</th>\n",
       "    </tr>\n",
       "  </thead>\n",
       "  <tbody>\n",
       "    <tr>\n",
       "      <th>0</th>\n",
       "      <td>0</td>\n",
       "      <td>Oh, how I laughed during those first couple of...</td>\n",
       "    </tr>\n",
       "    <tr>\n",
       "      <th>1</th>\n",
       "      <td>0</td>\n",
       "      <td>Upon renting this, I wasn't expecting to be bl...</td>\n",
       "    </tr>\n",
       "    <tr>\n",
       "      <th>2</th>\n",
       "      <td>0</td>\n",
       "      <td>It's not easy to find Judas Kiss on VHS (it's ...</td>\n",
       "    </tr>\n",
       "    <tr>\n",
       "      <th>3</th>\n",
       "      <td>0</td>\n",
       "      <td>There's nothing to say except I want my time b...</td>\n",
       "    </tr>\n",
       "    <tr>\n",
       "      <th>4</th>\n",
       "      <td>0</td>\n",
       "      <td>I'm amazed that \"The Hospital\" has been so wel...</td>\n",
       "    </tr>\n",
       "    <tr>\n",
       "      <th>...</th>\n",
       "      <td>...</td>\n",
       "      <td>...</td>\n",
       "    </tr>\n",
       "    <tr>\n",
       "      <th>24995</th>\n",
       "      <td>1</td>\n",
       "      <td>A couple of years before SCREAM spoofed the sl...</td>\n",
       "    </tr>\n",
       "    <tr>\n",
       "      <th>24996</th>\n",
       "      <td>1</td>\n",
       "      <td>*BE WARNED OF POSSIBLE SPOILERS*&lt;br /&gt;&lt;br /&gt;A ...</td>\n",
       "    </tr>\n",
       "    <tr>\n",
       "      <th>24997</th>\n",
       "      <td>1</td>\n",
       "      <td>I saw this originally on Channel 4 (UK) and it...</td>\n",
       "    </tr>\n",
       "    <tr>\n",
       "      <th>24998</th>\n",
       "      <td>1</td>\n",
       "      <td>To anyone who is interested, I have managed to...</td>\n",
       "    </tr>\n",
       "    <tr>\n",
       "      <th>24999</th>\n",
       "      <td>1</td>\n",
       "      <td>Norma Shearer dazzles as she is transformed fr...</td>\n",
       "    </tr>\n",
       "  </tbody>\n",
       "</table>\n",
       "<p>25000 rows × 2 columns</p>\n",
       "</div>"
      ],
      "text/plain": [
       "       labels                                              texts\n",
       "0           0  Oh, how I laughed during those first couple of...\n",
       "1           0  Upon renting this, I wasn't expecting to be bl...\n",
       "2           0  It's not easy to find Judas Kiss on VHS (it's ...\n",
       "3           0  There's nothing to say except I want my time b...\n",
       "4           0  I'm amazed that \"The Hospital\" has been so wel...\n",
       "...       ...                                                ...\n",
       "24995       1  A couple of years before SCREAM spoofed the sl...\n",
       "24996       1  *BE WARNED OF POSSIBLE SPOILERS*<br /><br />A ...\n",
       "24997       1  I saw this originally on Channel 4 (UK) and it...\n",
       "24998       1  To anyone who is interested, I have managed to...\n",
       "24999       1  Norma Shearer dazzles as she is transformed fr...\n",
       "\n",
       "[25000 rows x 2 columns]"
      ]
     },
     "execution_count": 17,
     "metadata": {},
     "output_type": "execute_result"
    }
   ],
   "source": [
    "df_test = pd.read_csv('df_test.csv')\n",
    "df_test"
   ]
  },
  {
   "cell_type": "code",
   "execution_count": 18,
   "metadata": {},
   "outputs": [],
   "source": [
    "df_test = df_test.sample(frac = 1.0, random_state=33)\n",
    "df_test['texts_norm'] = df_test['texts'].str.lower()"
   ]
  },
  {
   "cell_type": "code",
   "execution_count": 19,
   "metadata": {},
   "outputs": [
    {
     "data": {
      "text/html": [
       "<div>\n",
       "<style scoped>\n",
       "    .dataframe tbody tr th:only-of-type {\n",
       "        vertical-align: middle;\n",
       "    }\n",
       "\n",
       "    .dataframe tbody tr th {\n",
       "        vertical-align: top;\n",
       "    }\n",
       "\n",
       "    .dataframe thead th {\n",
       "        text-align: right;\n",
       "    }\n",
       "</style>\n",
       "<table border=\"1\" class=\"dataframe\">\n",
       "  <thead>\n",
       "    <tr style=\"text-align: right;\">\n",
       "      <th></th>\n",
       "      <th>labels</th>\n",
       "      <th>texts</th>\n",
       "      <th>texts_norm</th>\n",
       "    </tr>\n",
       "  </thead>\n",
       "  <tbody>\n",
       "    <tr>\n",
       "      <th>17797</th>\n",
       "      <td>1</td>\n",
       "      <td>A film that deserved theatrical release. This ...</td>\n",
       "      <td>a film that deserved theatrical release. this ...</td>\n",
       "    </tr>\n",
       "    <tr>\n",
       "      <th>6458</th>\n",
       "      <td>0</td>\n",
       "      <td>What a drawn out painful experience.&lt;br /&gt;&lt;br ...</td>\n",
       "      <td>what a drawn out painful experience.&lt;br /&gt;&lt;br ...</td>\n",
       "    </tr>\n",
       "    <tr>\n",
       "      <th>14478</th>\n",
       "      <td>1</td>\n",
       "      <td>Every American who thinks he or she understand...</td>\n",
       "      <td>every american who thinks he or she understand...</td>\n",
       "    </tr>\n",
       "    <tr>\n",
       "      <th>14825</th>\n",
       "      <td>1</td>\n",
       "      <td>I think a person would be well-advised to read...</td>\n",
       "      <td>i think a person would be well-advised to read...</td>\n",
       "    </tr>\n",
       "    <tr>\n",
       "      <th>7523</th>\n",
       "      <td>0</td>\n",
       "      <td>this is horrible film. it is past dumb. first,...</td>\n",
       "      <td>this is horrible film. it is past dumb. first,...</td>\n",
       "    </tr>\n",
       "    <tr>\n",
       "      <th>...</th>\n",
       "      <td>...</td>\n",
       "      <td>...</td>\n",
       "      <td>...</td>\n",
       "    </tr>\n",
       "    <tr>\n",
       "      <th>57</th>\n",
       "      <td>0</td>\n",
       "      <td>HOW MANY MOVIES ARE THERE GOING TO BE IN WHICH...</td>\n",
       "      <td>how many movies are there going to be in which...</td>\n",
       "    </tr>\n",
       "    <tr>\n",
       "      <th>578</th>\n",
       "      <td>0</td>\n",
       "      <td>Worst pile of drivel to date! Everyone involve...</td>\n",
       "      <td>worst pile of drivel to date! everyone involve...</td>\n",
       "    </tr>\n",
       "    <tr>\n",
       "      <th>5848</th>\n",
       "      <td>0</td>\n",
       "      <td>A heist film with Jean Reno, Matt Damon and La...</td>\n",
       "      <td>a heist film with jean reno, matt damon and la...</td>\n",
       "    </tr>\n",
       "    <tr>\n",
       "      <th>2439</th>\n",
       "      <td>0</td>\n",
       "      <td>Though a fan of shock and gore, I found this m...</td>\n",
       "      <td>though a fan of shock and gore, i found this m...</td>\n",
       "    </tr>\n",
       "    <tr>\n",
       "      <th>23572</th>\n",
       "      <td>1</td>\n",
       "      <td>Although this film changes reality to make it ...</td>\n",
       "      <td>although this film changes reality to make it ...</td>\n",
       "    </tr>\n",
       "  </tbody>\n",
       "</table>\n",
       "<p>25000 rows × 3 columns</p>\n",
       "</div>"
      ],
      "text/plain": [
       "       labels                                              texts  \\\n",
       "17797       1  A film that deserved theatrical release. This ...   \n",
       "6458        0  What a drawn out painful experience.<br /><br ...   \n",
       "14478       1  Every American who thinks he or she understand...   \n",
       "14825       1  I think a person would be well-advised to read...   \n",
       "7523        0  this is horrible film. it is past dumb. first,...   \n",
       "...       ...                                                ...   \n",
       "57          0  HOW MANY MOVIES ARE THERE GOING TO BE IN WHICH...   \n",
       "578         0  Worst pile of drivel to date! Everyone involve...   \n",
       "5848        0  A heist film with Jean Reno, Matt Damon and La...   \n",
       "2439        0  Though a fan of shock and gore, I found this m...   \n",
       "23572       1  Although this film changes reality to make it ...   \n",
       "\n",
       "                                              texts_norm  \n",
       "17797  a film that deserved theatrical release. this ...  \n",
       "6458   what a drawn out painful experience.<br /><br ...  \n",
       "14478  every american who thinks he or she understand...  \n",
       "14825  i think a person would be well-advised to read...  \n",
       "7523   this is horrible film. it is past dumb. first,...  \n",
       "...                                                  ...  \n",
       "57     how many movies are there going to be in which...  \n",
       "578    worst pile of drivel to date! everyone involve...  \n",
       "5848   a heist film with jean reno, matt damon and la...  \n",
       "2439   though a fan of shock and gore, i found this m...  \n",
       "23572  although this film changes reality to make it ...  \n",
       "\n",
       "[25000 rows x 3 columns]"
      ]
     },
     "execution_count": 19,
     "metadata": {},
     "output_type": "execute_result"
    }
   ],
   "source": [
    "df_test.iloc[:25000]"
   ]
  },
  {
   "cell_type": "code",
   "execution_count": 20,
   "metadata": {},
   "outputs": [
    {
     "data": {
      "text/plain": [
       "'this is horrible film. it is past dumb. first, the only thing the twins care about is how they look and what boys like them. they are in 7th grade. not to say i am a prude or anything but it sends the wrong message to girls of all ages. being pretty and popular is not everything. but that is what the twins make it out to be. the plot is even worse. the girl\\'s grandpa just happens to be the ambasitor(sp?) to france. he has a co-worker take the girls around paris and they meet two \"cute french boys\" with motorcycles. they sneek out to meet the boys start to really like them etc.....they meet a supermodel in process and go around paris with total strangers they think are cute. need i say more? this movie may be cute to 8&9 year olds. the twins play ditsy losers that want boyfriends. it makes sends the wrong idea to girls. the film itself is not great either. i don\\'t recomend this to anyone. i give passport to paris 2/10'"
      ]
     },
     "execution_count": 20,
     "metadata": {},
     "output_type": "execute_result"
    }
   ],
   "source": [
    "#let's take an example\n",
    "df_test.iloc[4]['texts_norm']"
   ]
  },
  {
   "cell_type": "code",
   "execution_count": 21,
   "metadata": {},
   "outputs": [
    {
     "data": {
      "image/png": "[encoded data removed]",
      "text/plain": [
       "<Figure size 640x480 with 1 Axes>"
      ]
     },
     "metadata": {},
     "output_type": "display_data"
    }
   ],
   "source": [
    "df_test.iloc[:25000]['labels'].value_counts(normalize=True).plot(kind='bar');"
   ]
  },
  {
   "cell_type": "code",
   "execution_count": 22,
   "metadata": {},
   "outputs": [],
   "source": [
    "y = df_test.iloc[:25000]['labels']\n",
    "y1 = df_test.iloc[:25000]['labels'].values.tolist()\n",
    "\n",
    "### NOTE!!! df and df_test both had the same sample seed = 33, so the same samples are in the same order in both dataframes"
   ]
  },
  {
   "cell_type": "code",
   "execution_count": 23,
   "metadata": {},
   "outputs": [],
   "source": [
    "import pandas as pd\n",
    "# We choose a priori 50 as the number of dimensions we will use for classification\n",
    "# X = get_df_topn( df['texts_norm'], 50, counter_tokens=cntr).values\n",
    "\n",
    "max_features = 50\n",
    "\n",
    "X = get_df_topn( df['texts_norm'], max_features, counter_tokens=cntr)\n",
    "# Replace the special characters in the column names\n",
    "new_columns = [col.replace('[', '').replace(']', '').replace('<', '') for col in X.columns]\n",
    "\n",
    "# Rename the columns in the DataFrame\n",
    "X.rename(columns=dict(zip(X.columns, new_columns)), inplace=True)\n",
    "\n",
    "\n",
    "#y = (df['target'] == 'spam').astype(np.int8).values\n",
    "#y = df['labels'].factorize()[0]"
   ]
  },
  {
   "cell_type": "markdown",
   "metadata": {},
   "source": [
    "<span style=\"color:#ffff00\">A bit of data review</span>"
   ]
  },
  {
   "cell_type": "code",
   "execution_count": 24,
   "metadata": {},
   "outputs": [],
   "source": [
    "def get_models2(use_dummy):\n",
    "    \n",
    "    models = [('dummy', DummyClassifier(strategy='stratified'))] if use_dummy else []\n",
    "    \n",
    "    models += [\n",
    "        ('catboost', ctb.CatBoostClassifier(n_estimators=50, max_depth=5, random_state=0, verbose=0)),\n",
    "        ('xgboost', xgb.XGBClassifier(n_estimators=50, max_depth=5, random_state=0)),\n",
    "        ('LogisticRegression', LogisticRegression(random_state=0))\n",
    "    ] \n",
    "    return models"
   ]
  },
  {
   "cell_type": "code",
   "execution_count": 25,
   "metadata": {},
   "outputs": [],
   "source": [
    "def run_models2(X, y, use_dummy=True, scoring='accuracy', plot_result=False, show_confusion_matrix=True):\n",
    "    result = []\n",
    "    #cv = StratifiedKFold(n_splits=cv, shuffle=True, random_state=0)\n",
    "    \n",
    "    num_cols = 4\n",
    "    if show_confusion_matrix:\n",
    "        fig, axes = plt.subplots(nrows=1, ncols=num_cols, figsize=(15,10))\n",
    "\n",
    "\n",
    "    for it, (model_name, model) in enumerate(get_models2(use_dummy)):\n",
    "        clf = model\n",
    "        clf.fit(X,y)\n",
    "        y_pred = clf.predict(X)\n",
    "        score = accuracy_score(y, y_pred)\n",
    "        print(\"model={}, accuracy={}\".format(model_name, score))\n",
    "\n",
    "        if show_confusion_matrix:\n",
    "            ax = axes[it]\n",
    "            disp = ConfusionMatrixDisplay.from_predictions(y,y_pred,ax=ax,colorbar=None)\n",
    "            disp.ax_.set_title('model: {}'.format(model_name))"
   ]
  },
  {
   "cell_type": "code",
   "execution_count": 26,
   "metadata": {},
   "outputs": [
    {
     "name": "stdout",
     "output_type": "stream",
     "text": [
      "model=dummy, accuracy=0.49584\n",
      "model=catboost, accuracy=0.6648\n",
      "model=xgboost, accuracy=0.69864\n",
      "model=LogisticRegression, accuracy=0.61944\n"
     ]
    },
    {
     "data": {
      "image/png": "[encoded data removed]",
      "text/plain": [
       "<Figure size 1500x1000 with 4 Axes>"
      ]
     },
     "metadata": {},
     "output_type": "display_data"
    }
   ],
   "source": [
    "run_models2(X,y1)"
   ]
  },
  {
   "cell_type": "code",
   "execution_count": 27,
   "metadata": {},
   "outputs": [
    {
     "data": {
      "text/plain": [
       "0.69864"
      ]
     },
     "execution_count": 27,
     "metadata": {},
     "output_type": "execute_result"
    }
   ],
   "source": [
    "# Let's take a classifier giving the best results\n",
    "xgboost_clf = xgb.XGBClassifier(n_estimators=50, max_depth=5, random_state=0)\n",
    "xgboost_clf.fit(X,y1)\n",
    "\n",
    "y_pred = xgboost_clf.predict(X)\n",
    "accuracy_score(y1, y_pred)"
   ]
  },
  {
   "cell_type": "code",
   "execution_count": 28,
   "metadata": {},
   "outputs": [
    {
     "data": {
      "text/plain": [
       "25000"
      ]
     },
     "execution_count": 28,
     "metadata": {},
     "output_type": "execute_result"
    }
   ],
   "source": [
    "len(y_pred)"
   ]
  },
  {
   "cell_type": "code",
   "execution_count": 29,
   "metadata": {},
   "outputs": [],
   "source": [
    "def predicta(text):\n",
    "    # del dft\n",
    "    # text = purify(text)\n",
    "    dft = pd.DataFrame({'texts':[text]})\n",
    "    dft['texts_norm'] = dft['texts'].str.lower()\n",
    "    return xgboost_clf.predict(get_df_topn(dft[\"texts_norm\"], max_features, counter_tokens=cntr).values)[0]\n",
    "    # return dft"
   ]
  },
  {
   "cell_type": "code",
   "execution_count": 30,
   "metadata": {},
   "outputs": [],
   "source": [
    "cat=[\"negative\", \"positive\"]"
   ]
  },
  {
   "cell_type": "code",
   "execution_count": 31,
   "metadata": {},
   "outputs": [
    {
     "data": {
      "text/plain": [
       "'negative'"
      ]
     },
     "execution_count": 31,
     "metadata": {},
     "output_type": "execute_result"
    }
   ],
   "source": [
    "cat[predicta(df_test.iloc[0]['texts_norm'])]"
   ]
  },
  {
   "cell_type": "markdown",
   "metadata": {},
   "source": [
    "### <span style=\"color:yellow\">Scikit-learn built-in tokenization</span>"
   ]
  },
  {
   "cell_type": "code",
   "execution_count": 32,
   "metadata": {},
   "outputs": [
    {
     "data": {
      "text/plain": [
       "array(['about', 'all', 'an', 'and', 'are', 'as', 'at', 'be', 'br', 'but',\n",
       "       'by', 'can', 'film', 'for', 'from', 'good', 'has', 'have', 'he',\n",
       "       'his', 'if', 'in', 'is', 'it', 'just', 'like', 'more', 'movie',\n",
       "       'not', 'of', 'on', 'one', 'or', 'out', 'so', 'some', 'that', 'the',\n",
       "       'there', 'they', 'this', 'time', 'to', 'up', 'was', 'what', 'when',\n",
       "       'who', 'with', 'you'], dtype=object)"
      ]
     },
     "execution_count": 32,
     "metadata": {},
     "output_type": "execute_result"
    }
   ],
   "source": [
    "vectorizer = CountVectorizer(binary=True, max_features=max_features)\n",
    "XV = vectorizer.fit_transform(df['texts'])\n",
    "vectorizer.get_feature_names_out()"
   ]
  },
  {
   "cell_type": "code",
   "execution_count": 33,
   "metadata": {},
   "outputs": [
    {
     "name": "stdout",
     "output_type": "stream",
     "text": [
      "model=dummy, accuracy=0.49972\n",
      "model=catboost, accuracy=0.66248\n",
      "model=xgboost, accuracy=0.69272\n",
      "model=LogisticRegression, accuracy=0.61552\n"
     ]
    },
    {
     "data": {
      "image/png": "[encoded data removed]",
      "text/plain": [
       "<Figure size 1500x1000 with 4 Axes>"
      ]
     },
     "metadata": {},
     "output_type": "display_data"
    }
   ],
   "source": [
    "run_models2(XV.toarray(), y1)"
   ]
  },
  {
   "cell_type": "code",
   "execution_count": 34,
   "metadata": {},
   "outputs": [
    {
     "data": {
      "text/plain": [
       "0.69272"
      ]
     },
     "execution_count": 34,
     "metadata": {},
     "output_type": "execute_result"
    }
   ],
   "source": [
    "# Let's take xgboost once again \n",
    "xgboost_clf_v = xgb.XGBClassifier(n_estimators=50, max_depth=5, random_state=0)\n",
    "xgboost_clf_v.fit(XV.toarray(),y1)\n",
    "y_pred_v = xgboost_clf_v.predict(XV.toarray())\n",
    "accuracy_score(y1, y_pred_v)"
   ]
  },
  {
   "cell_type": "code",
   "execution_count": 35,
   "metadata": {},
   "outputs": [],
   "source": [
    "def predictv(text):\n",
    "    #del dft\n",
    "    return xgboost_clf_v.predict(vectorizer.transform([text]).toarray())[0]"
   ]
  },
  {
   "cell_type": "code",
   "execution_count": 36,
   "metadata": {},
   "outputs": [
    {
     "data": {
      "text/plain": [
       "'negative'"
      ]
     },
     "execution_count": 36,
     "metadata": {},
     "output_type": "execute_result"
    }
   ],
   "source": [
    "cat[predictv(df_test.iloc[0]['texts'])]"
   ]
  },
  {
   "cell_type": "markdown",
   "metadata": {},
   "source": [
    "### <span style=\"color:yellow\">Now: A weighted tokenization with TfidfVectorizer (Scikit-learn)</span>"
   ]
  },
  {
   "cell_type": "code",
   "execution_count": 37,
   "metadata": {},
   "outputs": [],
   "source": [
    "vectorizer = TfidfVectorizer(binary=True, max_features=max_features)\n",
    "XT = vectorizer.fit_transform(df['texts'])"
   ]
  },
  {
   "cell_type": "code",
   "execution_count": 38,
   "metadata": {},
   "outputs": [
    {
     "name": "stdout",
     "output_type": "stream",
     "text": [
      "model=dummy, accuracy=0.49716\n",
      "model=catboost, accuracy=0.66452\n",
      "model=xgboost, accuracy=0.71796\n",
      "model=LogisticRegression, accuracy=0.6154\n"
     ]
    },
    {
     "data": {
      "image/png": "[encoded data removed]",
      "text/plain": [
       "<Figure size 1500x1000 with 4 Axes>"
      ]
     },
     "metadata": {},
     "output_type": "display_data"
    }
   ],
   "source": [
    "run_models2(XT.toarray(), y1)"
   ]
  },
  {
   "cell_type": "code",
   "execution_count": 39,
   "metadata": {},
   "outputs": [
    {
     "data": {
      "text/plain": [
       "0.71796"
      ]
     },
     "execution_count": 39,
     "metadata": {},
     "output_type": "execute_result"
    }
   ],
   "source": [
    "# Who is the winner?\n",
    "xgboost_clf_tfidf = xgb.XGBClassifier(n_estimators=50, max_depth=5, random_state=0)\n",
    "xgboost_clf_tfidf.fit(XT.toarray(),y1)\n",
    "y_pred_tfidf = xgboost_clf_tfidf.predict(XT.toarray())\n",
    "accuracy_score(y1, y_pred_tfidf)"
   ]
  },
  {
   "cell_type": "code",
   "execution_count": 40,
   "metadata": {},
   "outputs": [],
   "source": [
    "def predicttfidf(text):\n",
    "    return xgboost_clf_tfidf.predict(vectorizer.transform([text]).toarray())[0]"
   ]
  },
  {
   "cell_type": "code",
   "execution_count": 41,
   "metadata": {},
   "outputs": [
    {
     "data": {
      "text/plain": [
       "'negative'"
      ]
     },
     "execution_count": 41,
     "metadata": {},
     "output_type": "execute_result"
    }
   ],
   "source": [
    "cat[predicttfidf(df_test.iloc[0]['texts'])]"
   ]
  },
  {
   "cell_type": "markdown",
   "metadata": {},
   "source": [
    "# Our own take"
   ]
  },
  {
   "cell_type": "code",
   "execution_count": 42,
   "metadata": {},
   "outputs": [
    {
     "name": "stdout",
     "output_type": "stream",
     "text": [
      "Requirement already satisfied: nltk in /opt/conda/envs/Python-RT23.1/lib/python3.10/site-packages (3.8.1)\n",
      "Requirement already satisfied: click in /opt/conda/envs/Python-RT23.1/lib/python3.10/site-packages (from nltk) (8.0.4)\n",
      "Requirement already satisfied: joblib in /opt/conda/envs/Python-RT23.1/lib/python3.10/site-packages (from nltk) (1.1.1)\n",
      "Requirement already satisfied: regex>=2021.8.3 in /opt/conda/envs/Python-RT23.1/lib/python3.10/site-packages (from nltk) (2024.5.10)\n",
      "Requirement already satisfied: tqdm in /opt/conda/envs/Python-RT23.1/lib/python3.10/site-packages (from nltk) (4.65.0)\n"
     ]
    }
   ],
   "source": [
    "!pip install nltk"
   ]
  },
  {
   "cell_type": "code",
   "execution_count": 43,
   "metadata": {},
   "outputs": [
    {
     "name": "stderr",
     "output_type": "stream",
     "text": [
      "[nltk_data] Downloading package punkt to /home/wsuser/nltk_data...\n",
      "[nltk_data]   Package punkt is already up-to-date!\n",
      "[nltk_data] Downloading package stopwords to /home/wsuser/nltk_data...\n",
      "[nltk_data]   Package stopwords is already up-to-date!\n"
     ]
    },
    {
     "data": {
      "text/plain": [
       "True"
      ]
     },
     "execution_count": 43,
     "metadata": {},
     "output_type": "execute_result"
    }
   ],
   "source": [
    "import re\n",
    "import nltk\n",
    "import string\n",
    "from nltk.tokenize import word_tokenize\n",
    "from nltk.corpus import stopwords\n",
    "from nltk.stem.porter import PorterStemmer\n",
    "import pandas as pd\n",
    "import matplotlib.pyplot as plt\n",
    "from collections import Counter\n",
    "\n",
    "\n",
    "nltk.download('punkt')\n",
    "nltk.download('stopwords')"
   ]
  },
  {
   "cell_type": "code",
   "execution_count": 44,
   "metadata": {},
   "outputs": [],
   "source": [
    "# FULL DATABASE\n",
    "\n",
    "df1 = pd.read_csv('df.csv')\n",
    "df2 = pd.read_csv('df_test.csv')\n",
    "\n",
    "# combine the dataframes into one\n",
    "df = pd.concat([df1, df2], ignore_index=True)\n",
    "df = df.sample(frac = 1.0, random_state=33)\n",
    "del df1, df2"
   ]
  },
  {
   "cell_type": "code",
   "execution_count": 45,
   "metadata": {},
   "outputs": [],
   "source": [
    "# ONLY TRAINING DATABASE\n",
    "\n",
    "# df = pd.read_csv('df.csv')\n",
    "# df = df.sample(frac = 1.0, random_state=33)"
   ]
  },
  {
   "cell_type": "markdown",
   "metadata": {},
   "source": [
    "### Improvement in the pre-processing of the text"
   ]
  },
  {
   "cell_type": "code",
   "execution_count": 46,
   "metadata": {
    "scrolled": false
   },
   "outputs": [
    {
     "name": "stdout",
     "output_type": "stream",
     "text": [
      "{'re', 'does', 'couldn', 'hasn', 'on', \"you'd\", 'doesn', 'there', 'myself', 'have', 'about', 'some', 'a', 'weren', 'aren', 'and', 'if', 'wasn', 'haven', 'hers', 'o', 'll', 'that', 'don', 'whom', 'in', 'up', 'here', 'most', \"won't\", 'i', \"hadn't\", \"you've\", 'didn', \"didn't\", 'had', 'ma', 'for', 'she', 'ourselves', \"wasn't\", \"doesn't\", 'the', \"hasn't\", 'with', 'when', \"that'll\", 'is', 'now', 'an', 'of', 't', 'mightn', 'needn', 'ain', \"wouldn't\", 'herself', 'it', 'itself', 'he', \"it's\", 'will', 'out', 'once', 'my', \"mustn't\", 'by', 'through', 'before', 'because', 'off', 'ours', 'having', 'between', 'only', 'd', 'where', 'or', \"shouldn't\", 'hadn', \"isn't\", 'any', 'isn', 'these', 'few', \"aren't\", 'then', 'themselves', \"haven't\", \"weren't\", 'our', \"you'll\", 'until', 'this', 'were', 's', 'yours', 'but', 'at', 'after', 'should', \"shan't\", 'your', 'against', 'y', 'are', 'm', 'them', 'mustn', 'was', 'being', 'nor', 'did', 'what', \"couldn't\", 'down', 'can', 'won', 'why', 'theirs', 'all', 'doing', 'as', 'from', 'while', 'other', 'to', 'yourselves', 'been', 'shan', 'wouldn', 'you', 'more', 'yourself', 'her', 'they', 'am', 'which', 'we', 'above', 'just', 've', 'be', \"you're\", \"mightn't\", 'how', 'both', \"don't\", 'into', 'no', \"she's\", 'its', 'same', 'during', \"should've\", 'him', 'such', 'very', 'those', 'again', 'who', 'shouldn', 'their', 'under', 'further', 'below', 'too', 'himself', 'over', 'his', 'each', 'do', 'so', 'own', \"needn't\", 'me', 'than', 'has'}\n"
     ]
    }
   ],
   "source": [
    "lines = df[\"texts\"].values.tolist()\n",
    "\n",
    "# Define a function to purify the lines of text\n",
    "def purify(lines):\n",
    "    all_reviews = list()\n",
    "    stop_words = set(stopwords.words(\"english\"))\n",
    "    stop_words.discard(\"not\")\n",
    "    print(stop_words)\n",
    "    for text in lines:\n",
    "        # Convert the text to lowercase\n",
    "        text = text.lower()\n",
    "        \n",
    "        # Remove URLs from the text\n",
    "        pattern = re.compile('http[s]?://(?:[a-zA-Z]|[0-9]|[$-_@.&+]|[!*\\(\\),]|(?:%[0-9a-fA-F][0-9a-fA-F]))+')\n",
    "        text = pattern.sub(' ', text)\n",
    "        \n",
    "        # Replace '<br />' with a space\n",
    "        text = text.replace('<br />', ' ')\n",
    "        \n",
    "        # Remove punctuation marks from the text\n",
    "        text = re.sub(r\"[,.\\\"!@#$%^&*(){}?/;`~:<>+=]\", \" \", text)\n",
    "        \n",
    "        # Tokenize the text into words\n",
    "        tokens = word_tokenize(text)\n",
    "        \n",
    "        # Remove non-alphabetic words\n",
    "        words = [word for word in tokens if word.isalpha()]\n",
    "        \n",
    "        # Remove stop words, excluding the word \"not\"\n",
    "        words = [w for w in words if not w in stop_words]\n",
    "        \n",
    "        # Join the words back into a single string\n",
    "        words = ' '.join(words)\n",
    "        \n",
    "        # Append the purified text to the list of all reviews\n",
    "        all_reviews.append(words)\n",
    "    \n",
    "    # Return the list of purified reviews\n",
    "    return all_reviews\n",
    "\n",
    "df[\"texts_norm\"] = purify(lines)"
   ]
  },
  {
   "cell_type": "code",
   "execution_count": 47,
   "metadata": {},
   "outputs": [
    {
     "data": {
      "text/plain": [
       "97631"
      ]
     },
     "execution_count": 47,
     "metadata": {},
     "output_type": "execute_result"
    }
   ],
   "source": [
    "# tokenization\n",
    "tokens_set = set()\n",
    "df['texts_norm'].str.split(\" \").map(tokens_set.update)\n",
    "\n",
    "len(tokens_set)"
   ]
  },
  {
   "cell_type": "code",
   "execution_count": 48,
   "metadata": {},
   "outputs": [
    {
     "data": {
      "text/plain": [
       "[('movie', 86799),\n",
       " ('film', 78503),\n",
       " ('not', 62533),\n",
       " ('one', 52297),\n",
       " ('like', 39257)]"
      ]
     },
     "execution_count": 48,
     "metadata": {},
     "output_type": "execute_result"
    }
   ],
   "source": [
    "# what are the most frequent tokens? -> Counter(tokens_set).most_common()\n",
    "cntr = Counter()\n",
    "df[\"texts_norm\"].str.split(\" \").map(cntr.update)\n",
    "cntr.most_common(n=5)"
   ]
  },
  {
   "cell_type": "code",
   "execution_count": 49,
   "metadata": {},
   "outputs": [],
   "source": [
    "def get_df_topn(text: pd.Series, topn: int, counter_tokens: Counter):\n",
    "\n",
    "    top_tokens = [x[0] for x in counter_tokens.most_common(n=topn)]\n",
    "\n",
    "    def check_top_n(sent_tokens):\n",
    "        return [int(token in sent_tokens) for token in top_tokens]\n",
    "\n",
    "    df_topn = text.str.split(\" \").map(set).map(check_top_n).apply(pd.Series) # .apply: If func returns a Series object the result will be a DataFrame.\n",
    "    df_topn.columns = top_tokens\n",
    "\n",
    "    return df_topn"
   ]
  },
  {
   "cell_type": "code",
   "execution_count": 50,
   "metadata": {},
   "outputs": [
    {
     "data": {
      "text/html": [
       "<div>\n",
       "<style scoped>\n",
       "    .dataframe tbody tr th:only-of-type {\n",
       "        vertical-align: middle;\n",
       "    }\n",
       "\n",
       "    .dataframe tbody tr th {\n",
       "        vertical-align: top;\n",
       "    }\n",
       "\n",
       "    .dataframe thead th {\n",
       "        text-align: right;\n",
       "    }\n",
       "</style>\n",
       "<table border=\"1\" class=\"dataframe\">\n",
       "  <thead>\n",
       "    <tr style=\"text-align: right;\">\n",
       "      <th></th>\n",
       "      <th>movie</th>\n",
       "      <th>film</th>\n",
       "      <th>not</th>\n",
       "      <th>one</th>\n",
       "      <th>like</th>\n",
       "      <th>good</th>\n",
       "      <th>would</th>\n",
       "      <th>even</th>\n",
       "      <th>time</th>\n",
       "      <th>really</th>\n",
       "      <th>...</th>\n",
       "      <th>little</th>\n",
       "      <th>life</th>\n",
       "      <th>ever</th>\n",
       "      <th>better</th>\n",
       "      <th>man</th>\n",
       "      <th>end</th>\n",
       "      <th>scene</th>\n",
       "      <th>still</th>\n",
       "      <th>say</th>\n",
       "      <th>scenes</th>\n",
       "    </tr>\n",
       "  </thead>\n",
       "  <tbody>\n",
       "    <tr>\n",
       "      <th>31809</th>\n",
       "      <td>0</td>\n",
       "      <td>1</td>\n",
       "      <td>1</td>\n",
       "      <td>1</td>\n",
       "      <td>1</td>\n",
       "      <td>0</td>\n",
       "      <td>0</td>\n",
       "      <td>0</td>\n",
       "      <td>0</td>\n",
       "      <td>1</td>\n",
       "      <td>...</td>\n",
       "      <td>0</td>\n",
       "      <td>0</td>\n",
       "      <td>1</td>\n",
       "      <td>0</td>\n",
       "      <td>0</td>\n",
       "      <td>1</td>\n",
       "      <td>1</td>\n",
       "      <td>0</td>\n",
       "      <td>1</td>\n",
       "      <td>1</td>\n",
       "    </tr>\n",
       "    <tr>\n",
       "      <th>34702</th>\n",
       "      <td>1</td>\n",
       "      <td>1</td>\n",
       "      <td>1</td>\n",
       "      <td>1</td>\n",
       "      <td>1</td>\n",
       "      <td>1</td>\n",
       "      <td>0</td>\n",
       "      <td>1</td>\n",
       "      <td>1</td>\n",
       "      <td>1</td>\n",
       "      <td>...</td>\n",
       "      <td>0</td>\n",
       "      <td>0</td>\n",
       "      <td>0</td>\n",
       "      <td>0</td>\n",
       "      <td>1</td>\n",
       "      <td>0</td>\n",
       "      <td>0</td>\n",
       "      <td>1</td>\n",
       "      <td>0</td>\n",
       "      <td>1</td>\n",
       "    </tr>\n",
       "    <tr>\n",
       "      <th>14222</th>\n",
       "      <td>0</td>\n",
       "      <td>1</td>\n",
       "      <td>1</td>\n",
       "      <td>1</td>\n",
       "      <td>0</td>\n",
       "      <td>0</td>\n",
       "      <td>0</td>\n",
       "      <td>1</td>\n",
       "      <td>0</td>\n",
       "      <td>0</td>\n",
       "      <td>...</td>\n",
       "      <td>0</td>\n",
       "      <td>0</td>\n",
       "      <td>0</td>\n",
       "      <td>1</td>\n",
       "      <td>0</td>\n",
       "      <td>0</td>\n",
       "      <td>0</td>\n",
       "      <td>0</td>\n",
       "      <td>0</td>\n",
       "      <td>0</td>\n",
       "    </tr>\n",
       "    <tr>\n",
       "      <th>26294</th>\n",
       "      <td>0</td>\n",
       "      <td>1</td>\n",
       "      <td>1</td>\n",
       "      <td>0</td>\n",
       "      <td>1</td>\n",
       "      <td>1</td>\n",
       "      <td>1</td>\n",
       "      <td>0</td>\n",
       "      <td>1</td>\n",
       "      <td>1</td>\n",
       "      <td>...</td>\n",
       "      <td>0</td>\n",
       "      <td>1</td>\n",
       "      <td>0</td>\n",
       "      <td>0</td>\n",
       "      <td>0</td>\n",
       "      <td>0</td>\n",
       "      <td>0</td>\n",
       "      <td>0</td>\n",
       "      <td>1</td>\n",
       "      <td>0</td>\n",
       "    </tr>\n",
       "    <tr>\n",
       "      <th>9876</th>\n",
       "      <td>0</td>\n",
       "      <td>1</td>\n",
       "      <td>1</td>\n",
       "      <td>1</td>\n",
       "      <td>1</td>\n",
       "      <td>1</td>\n",
       "      <td>1</td>\n",
       "      <td>0</td>\n",
       "      <td>0</td>\n",
       "      <td>1</td>\n",
       "      <td>...</td>\n",
       "      <td>0</td>\n",
       "      <td>0</td>\n",
       "      <td>0</td>\n",
       "      <td>0</td>\n",
       "      <td>0</td>\n",
       "      <td>0</td>\n",
       "      <td>0</td>\n",
       "      <td>0</td>\n",
       "      <td>0</td>\n",
       "      <td>0</td>\n",
       "    </tr>\n",
       "    <tr>\n",
       "      <th>...</th>\n",
       "      <td>...</td>\n",
       "      <td>...</td>\n",
       "      <td>...</td>\n",
       "      <td>...</td>\n",
       "      <td>...</td>\n",
       "      <td>...</td>\n",
       "      <td>...</td>\n",
       "      <td>...</td>\n",
       "      <td>...</td>\n",
       "      <td>...</td>\n",
       "      <td>...</td>\n",
       "      <td>...</td>\n",
       "      <td>...</td>\n",
       "      <td>...</td>\n",
       "      <td>...</td>\n",
       "      <td>...</td>\n",
       "      <td>...</td>\n",
       "      <td>...</td>\n",
       "      <td>...</td>\n",
       "      <td>...</td>\n",
       "      <td>...</td>\n",
       "    </tr>\n",
       "    <tr>\n",
       "      <th>27282</th>\n",
       "      <td>1</td>\n",
       "      <td>0</td>\n",
       "      <td>1</td>\n",
       "      <td>0</td>\n",
       "      <td>0</td>\n",
       "      <td>0</td>\n",
       "      <td>0</td>\n",
       "      <td>0</td>\n",
       "      <td>0</td>\n",
       "      <td>1</td>\n",
       "      <td>...</td>\n",
       "      <td>0</td>\n",
       "      <td>0</td>\n",
       "      <td>0</td>\n",
       "      <td>0</td>\n",
       "      <td>0</td>\n",
       "      <td>1</td>\n",
       "      <td>0</td>\n",
       "      <td>0</td>\n",
       "      <td>0</td>\n",
       "      <td>0</td>\n",
       "    </tr>\n",
       "    <tr>\n",
       "      <th>578</th>\n",
       "      <td>1</td>\n",
       "      <td>0</td>\n",
       "      <td>1</td>\n",
       "      <td>0</td>\n",
       "      <td>0</td>\n",
       "      <td>1</td>\n",
       "      <td>0</td>\n",
       "      <td>1</td>\n",
       "      <td>0</td>\n",
       "      <td>0</td>\n",
       "      <td>...</td>\n",
       "      <td>0</td>\n",
       "      <td>0</td>\n",
       "      <td>0</td>\n",
       "      <td>0</td>\n",
       "      <td>0</td>\n",
       "      <td>0</td>\n",
       "      <td>0</td>\n",
       "      <td>0</td>\n",
       "      <td>0</td>\n",
       "      <td>1</td>\n",
       "    </tr>\n",
       "    <tr>\n",
       "      <th>38616</th>\n",
       "      <td>1</td>\n",
       "      <td>1</td>\n",
       "      <td>0</td>\n",
       "      <td>1</td>\n",
       "      <td>0</td>\n",
       "      <td>1</td>\n",
       "      <td>0</td>\n",
       "      <td>0</td>\n",
       "      <td>0</td>\n",
       "      <td>1</td>\n",
       "      <td>...</td>\n",
       "      <td>0</td>\n",
       "      <td>0</td>\n",
       "      <td>0</td>\n",
       "      <td>0</td>\n",
       "      <td>0</td>\n",
       "      <td>0</td>\n",
       "      <td>0</td>\n",
       "      <td>0</td>\n",
       "      <td>0</td>\n",
       "      <td>0</td>\n",
       "    </tr>\n",
       "    <tr>\n",
       "      <th>2439</th>\n",
       "      <td>1</td>\n",
       "      <td>1</td>\n",
       "      <td>1</td>\n",
       "      <td>1</td>\n",
       "      <td>1</td>\n",
       "      <td>0</td>\n",
       "      <td>1</td>\n",
       "      <td>0</td>\n",
       "      <td>1</td>\n",
       "      <td>1</td>\n",
       "      <td>...</td>\n",
       "      <td>0</td>\n",
       "      <td>0</td>\n",
       "      <td>0</td>\n",
       "      <td>0</td>\n",
       "      <td>0</td>\n",
       "      <td>1</td>\n",
       "      <td>0</td>\n",
       "      <td>0</td>\n",
       "      <td>1</td>\n",
       "      <td>0</td>\n",
       "    </tr>\n",
       "    <tr>\n",
       "      <th>23572</th>\n",
       "      <td>0</td>\n",
       "      <td>0</td>\n",
       "      <td>0</td>\n",
       "      <td>0</td>\n",
       "      <td>1</td>\n",
       "      <td>0</td>\n",
       "      <td>1</td>\n",
       "      <td>0</td>\n",
       "      <td>0</td>\n",
       "      <td>1</td>\n",
       "      <td>...</td>\n",
       "      <td>0</td>\n",
       "      <td>1</td>\n",
       "      <td>0</td>\n",
       "      <td>0</td>\n",
       "      <td>1</td>\n",
       "      <td>0</td>\n",
       "      <td>0</td>\n",
       "      <td>1</td>\n",
       "      <td>0</td>\n",
       "      <td>0</td>\n",
       "    </tr>\n",
       "  </tbody>\n",
       "</table>\n",
       "<p>50000 rows × 50 columns</p>\n",
       "</div>"
      ],
      "text/plain": [
       "       movie  film  not  one  like  good  would  even  time  really  ...  \\\n",
       "31809      0     1    1    1     1     0      0     0     0       1  ...   \n",
       "34702      1     1    1    1     1     1      0     1     1       1  ...   \n",
       "14222      0     1    1    1     0     0      0     1     0       0  ...   \n",
       "26294      0     1    1    0     1     1      1     0     1       1  ...   \n",
       "9876       0     1    1    1     1     1      1     0     0       1  ...   \n",
       "...      ...   ...  ...  ...   ...   ...    ...   ...   ...     ...  ...   \n",
       "27282      1     0    1    0     0     0      0     0     0       1  ...   \n",
       "578        1     0    1    0     0     1      0     1     0       0  ...   \n",
       "38616      1     1    0    1     0     1      0     0     0       1  ...   \n",
       "2439       1     1    1    1     1     0      1     0     1       1  ...   \n",
       "23572      0     0    0    0     1     0      1     0     0       1  ...   \n",
       "\n",
       "       little  life  ever  better  man  end  scene  still  say  scenes  \n",
       "31809       0     0     1       0    0    1      1      0    1       1  \n",
       "34702       0     0     0       0    1    0      0      1    0       1  \n",
       "14222       0     0     0       1    0    0      0      0    0       0  \n",
       "26294       0     1     0       0    0    0      0      0    1       0  \n",
       "9876        0     0     0       0    0    0      0      0    0       0  \n",
       "...       ...   ...   ...     ...  ...  ...    ...    ...  ...     ...  \n",
       "27282       0     0     0       0    0    1      0      0    0       0  \n",
       "578         0     0     0       0    0    0      0      0    0       1  \n",
       "38616       0     0     0       0    0    0      0      0    0       0  \n",
       "2439        0     0     0       0    0    1      0      0    1       0  \n",
       "23572       0     1     0       0    1    0      0      1    0       0  \n",
       "\n",
       "[50000 rows x 50 columns]"
      ]
     },
     "execution_count": 50,
     "metadata": {},
     "output_type": "execute_result"
    }
   ],
   "source": [
    "df_top50 = get_df_topn(df[\"texts_norm\"], topn=50, counter_tokens=cntr)\n",
    "\n",
    "df_top50"
   ]
  },
  {
   "cell_type": "code",
   "execution_count": 51,
   "metadata": {},
   "outputs": [],
   "source": [
    "y = df['labels']\n",
    "y1 = df['labels'].values.tolist()"
   ]
  },
  {
   "cell_type": "code",
   "execution_count": 52,
   "metadata": {},
   "outputs": [],
   "source": [
    "# We choose a priori 50 as the number of dimensions we will use for classification\n",
    "# X = get_df_topn( df['texts_norm'], 50, counter_tokens=cntr).values\n",
    "\n",
    "max_features = 50\n",
    "\n",
    "X = get_df_topn( df['texts_norm'], max_features, counter_tokens=cntr)\n",
    "# Replace the special characters in the column names\n",
    "new_columns = [col.replace('[', '').replace(']', '').replace('<', '') for col in X.columns]\n",
    "\n",
    "# Rename the columns in the DataFrame\n",
    "X.rename(columns=dict(zip(X.columns, new_columns)), inplace=True)\n",
    "\n",
    "#y = (df['target'] == 'spam').astype(np.int8).values\n",
    "#y = df['labels'].factorize()[0]"
   ]
  },
  {
   "cell_type": "code",
   "execution_count": 53,
   "metadata": {},
   "outputs": [],
   "source": [
    "def get_models2(use_dummy):\n",
    "    \n",
    "    models = [('dummy', DummyClassifier(strategy='stratified'))] if use_dummy else []\n",
    "    \n",
    "    models += [\n",
    "        ('catboost', ctb.CatBoostClassifier(n_estimators=50, max_depth=5, random_state=0, verbose=0)),\n",
    "        ('xgboost', xgb.XGBClassifier(n_estimators=50, max_depth=5, random_state=0)),\n",
    "        ('LogisticRegression', LogisticRegression(random_state=0))\n",
    "    ] \n",
    "    return models"
   ]
  },
  {
   "cell_type": "code",
   "execution_count": 54,
   "metadata": {},
   "outputs": [],
   "source": [
    "def run_models2(X, y, use_dummy=True, scoring='accuracy', plot_result=False, show_confusion_matrix=True):\n",
    "    result = []\n",
    "    #cv = StratifiedKFold(n_splits=cv, shuffle=True, random_state=0)\n",
    "    \n",
    "    num_cols = 4\n",
    "    if show_confusion_matrix:\n",
    "        fig, axes = plt.subplots(nrows=1, ncols=num_cols, figsize=(15,10))\n",
    "\n",
    "\n",
    "    for it, (model_name, model) in enumerate(get_models2(use_dummy)):\n",
    "        clf = model\n",
    "        clf.fit(X,y)\n",
    "        y_pred = clf.predict(X)\n",
    "        score = accuracy_score(y, y_pred)\n",
    "        print(\"model={}, accuracy={}\".format(model_name, score))\n",
    "\n",
    "        if show_confusion_matrix:\n",
    "            ax = axes[it]\n",
    "            disp = ConfusionMatrixDisplay.from_predictions(y,y_pred,ax=ax,colorbar=None)\n",
    "            disp.ax_.set_title('model: {}'.format(model_name))"
   ]
  },
  {
   "cell_type": "code",
   "execution_count": 55,
   "metadata": {},
   "outputs": [
    {
     "name": "stdout",
     "output_type": "stream",
     "text": [
      "model=dummy, accuracy=0.50334\n",
      "model=catboost, accuracy=0.71958\n",
      "model=xgboost, accuracy=0.73046\n",
      "model=LogisticRegression, accuracy=0.70206\n"
     ]
    },
    {
     "data": {
      "image/png": "[encoded data removed]",
      "text/plain": [
       "<Figure size 1500x1000 with 4 Axes>"
      ]
     },
     "metadata": {},
     "output_type": "display_data"
    }
   ],
   "source": [
    "run_models2(X,y1)"
   ]
  },
  {
   "cell_type": "markdown",
   "metadata": {},
   "source": [
    "### Feature importance of XGBoost"
   ]
  },
  {
   "cell_type": "code",
   "execution_count": 56,
   "metadata": {},
   "outputs": [
    {
     "data": {
      "image/png": "[encoded data removed]",
      "text/plain": [
       "<Figure size 1000x600 with 1 Axes>"
      ]
     },
     "metadata": {},
     "output_type": "display_data"
    },
    {
     "name": "stdout",
     "output_type": "stream",
     "text": [
      "Accuracy: 0.73046\n",
      "Precision: 0.7236693971039249\n",
      "Recall: 0.74564\n",
      "F1-score: 0.7344904351937587\n"
     ]
    }
   ],
   "source": [
    "import xgboost as xgb\n",
    "from sklearn.metrics import accuracy_score, precision_score, recall_score, f1_score\n",
    "\n",
    "# Initialize and fit XGBoost classifier\n",
    "xgboost_clf = xgb.XGBClassifier(n_estimators=50, max_depth=5, random_state=0)\n",
    "xgboost_clf.fit(X, y1)\n",
    "\n",
    "# Get feature importances\n",
    "feature_importance = xgboost_clf.feature_importances_\n",
    "\n",
    "# Create a DataFrame with feature names and importances\n",
    "feature_importance_df = pd.DataFrame({'Feature': X.columns,\n",
    "                                      'Importance': feature_importance})\n",
    "\n",
    "# Sort the DataFrame by importance values\n",
    "feature_importance_df = feature_importance_df.sort_values(by='Importance', ascending=False)\n",
    "\n",
    "# Select top N most important features\n",
    "top_n_features = 15  # Change this value to adjust the number of features shown\n",
    "top_n_feature_importance_df = feature_importance_df.head(top_n_features)\n",
    "\n",
    "# Plot feature importances\n",
    "plt.figure(figsize=(10, 6))\n",
    "plt.barh(top_n_feature_importance_df['Feature'], top_n_feature_importance_df['Importance'], color='skyblue')\n",
    "plt.xlabel('Importance')\n",
    "plt.ylabel('Feature')\n",
    "plt.title('Top {} Most Important Features'.format(top_n_features))\n",
    "plt.show()\n",
    "\n",
    "# Calculate and display additional metrics\n",
    "y_pred = xgboost_clf.predict(X)\n",
    "accuracy = accuracy_score(y1, y_pred)\n",
    "precision = precision_score(y1, y_pred)\n",
    "recall = recall_score(y1, y_pred)\n",
    "f1 = f1_score(y1, y_pred)\n",
    "\n",
    "print(\"Accuracy:\", accuracy)\n",
    "print(\"Precision:\", precision)\n",
    "print(\"Recall:\", recall)\n",
    "print(\"F1-score:\", f1)\n"
   ]
  },
  {
   "cell_type": "code",
   "execution_count": 57,
   "metadata": {},
   "outputs": [
    {
     "data": {
      "text/plain": [
       "0.71958"
      ]
     },
     "execution_count": 57,
     "metadata": {},
     "output_type": "execute_result"
    }
   ],
   "source": [
    "catboost_clf = ctb.CatBoostClassifier(n_estimators=50, max_depth=5, random_state=0, verbose=0)\n",
    "catboost_clf.fit(X,y1)\n",
    "\n",
    "y_pred = catboost_clf.predict(X)\n",
    "accuracy_score(y1, y_pred)"
   ]
  },
  {
   "cell_type": "markdown",
   "metadata": {},
   "source": [
    "### Feature importance of CATboost"
   ]
  },
  {
   "cell_type": "code",
   "execution_count": 58,
   "metadata": {},
   "outputs": [
    {
     "data": {
      "image/png": "[encoded data removed]",
      "text/plain": [
       "<Figure size 1000x600 with 1 Axes>"
      ]
     },
     "metadata": {},
     "output_type": "display_data"
    },
    {
     "name": "stdout",
     "output_type": "stream",
     "text": [
      "Accuracy: 0.71958\n",
      "Precision: 0.7129281253636399\n",
      "Recall: 0.7352\n",
      "F1-score: 0.7238927945491423\n"
     ]
    }
   ],
   "source": [
    "import catboost as ctb\n",
    "from catboost import Pool\n",
    "from sklearn.metrics import accuracy_score, precision_score, recall_score, f1_score\n",
    "\n",
    "# Convert DataFrame to Pool object\n",
    "train_pool = Pool(data=X, label=y1)\n",
    "\n",
    "# Initialize and fit CatBoost classifier using the Pool object\n",
    "catboost_clf = ctb.CatBoostClassifier(n_estimators=50, max_depth=5, random_state=0, verbose=0)\n",
    "catboost_clf.fit(train_pool)\n",
    "\n",
    "# Get feature importances\n",
    "feature_importance = catboost_clf.get_feature_importance(data=train_pool,\n",
    "                                                         type='PredictionValuesChange')\n",
    "\n",
    "# Create a DataFrame with feature names and importances\n",
    "feature_importance_df = pd.DataFrame({'Feature': X.columns,\n",
    "                                      'Importance': feature_importance})\n",
    "\n",
    "# Sort the DataFrame by importance values\n",
    "feature_importance_df = feature_importance_df.sort_values(by='Importance', ascending=False)\n",
    "\n",
    "# Select top N most important features\n",
    "top_n_features = 15  # Change this value to adjust the number of features shown\n",
    "top_n_feature_importance_df = feature_importance_df.head(top_n_features)\n",
    "\n",
    "# Plot feature importances\n",
    "plt.figure(figsize=(10, 6))\n",
    "plt.barh(top_n_feature_importance_df['Feature'], top_n_feature_importance_df['Importance'], color='skyblue')\n",
    "plt.xlabel('Importance')\n",
    "plt.ylabel('Feature')\n",
    "plt.title('Top {} Most Important Features'.format(top_n_features))\n",
    "plt.show()\n",
    "\n",
    "# Calculate and display additional metrics\n",
    "y_pred = catboost_clf.predict(train_pool)\n",
    "accuracy = accuracy_score(y1, y_pred)\n",
    "precision = precision_score(y1, y_pred)\n",
    "recall = recall_score(y1, y_pred)\n",
    "f1 = f1_score(y1, y_pred)\n",
    "\n",
    "print(\"Accuracy:\", accuracy)\n",
    "print(\"Precision:\", precision)\n",
    "print(\"Recall:\", recall)\n",
    "print(\"F1-score:\", f1)\n"
   ]
  },
  {
   "cell_type": "code",
   "execution_count": 59,
   "metadata": {},
   "outputs": [
    {
     "data": {
      "text/plain": [
       "50000"
      ]
     },
     "execution_count": 59,
     "metadata": {},
     "output_type": "execute_result"
    }
   ],
   "source": [
    "len(y_pred)"
   ]
  },
  {
   "cell_type": "code",
   "execution_count": 60,
   "metadata": {},
   "outputs": [],
   "source": [
    "def predicta(text):\n",
    "    # del dft\n",
    "    # text = purify(text)\n",
    "    dft = pd.DataFrame({'texts':[text]})\n",
    "    dft['texts_norm'] = dft['texts'].str.lower()\n",
    "    return xgboost_clf.predict(get_df_topn(dft[\"texts_norm\"], max_features, counter_tokens=cntr).values)[0]\n",
    "    # return dft"
   ]
  },
  {
   "cell_type": "code",
   "execution_count": 61,
   "metadata": {},
   "outputs": [],
   "source": [
    "cat=[\"negative\", \"positive\"]"
   ]
  },
  {
   "cell_type": "code",
   "execution_count": 62,
   "metadata": {},
   "outputs": [
    {
     "data": {
      "text/plain": [
       "'negative'"
      ]
     },
     "execution_count": 62,
     "metadata": {},
     "output_type": "execute_result"
    }
   ],
   "source": [
    "cat[predicta(df.iloc[0]['texts_norm'])]"
   ]
  }
 ],
 "metadata": {
  "interpreter": {
   "hash": "89f0d777c4a94be2bf2b804940f2dc095d999567ba7f70c79729be93bbb29d94"
  },
  "kernelspec": {
   "display_name": "Python 3.10",
   "language": "python",
   "name": "python3"
  },
  "language_info": {
   "codemirror_mode": {
    "name": "ipython",
    "version": 3
   },
   "file_extension": ".py",
   "mimetype": "text/x-python",
   "name": "python",
   "nbconvert_exporter": "python",
   "pygments_lexer": "ipython3",
   "version": "3.10.14"
  }
 },
 "nbformat": 4,
 "nbformat_minor": 2
}
