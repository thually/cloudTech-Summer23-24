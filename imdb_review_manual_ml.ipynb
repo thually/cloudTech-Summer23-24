{
 "cells": [
  {
   "cell_type": "code",
   "execution_count": 7,
   "metadata": {},
   "outputs": [
    {
     "name": "stdout",
     "output_type": "stream",
     "text": [
      "Requirement already satisfied: catboost in /opt/conda/envs/Python-RT23.1/lib/python3.10/site-packages (1.2.5)\n",
      "Requirement already satisfied: scikit-plot in /opt/conda/envs/Python-RT23.1/lib/python3.10/site-packages (0.3.7)\n",
      "Requirement already satisfied: graphviz in /opt/conda/envs/Python-RT23.1/lib/python3.10/site-packages (from catboost) (0.20.1)\n",
      "Requirement already satisfied: matplotlib in /opt/conda/envs/Python-RT23.1/lib/python3.10/site-packages (from catboost) (3.7.1)\n",
      "Requirement already satisfied: numpy>=1.16.0 in /opt/conda/envs/Python-RT23.1/lib/python3.10/site-packages (from catboost) (1.23.5)\n",
      "Requirement already satisfied: pandas>=0.24 in /opt/conda/envs/Python-RT23.1/lib/python3.10/site-packages (from catboost) (1.5.3)\n",
      "Requirement already satisfied: scipy in /opt/conda/envs/Python-RT23.1/lib/python3.10/site-packages (from catboost) (1.10.1)\n",
      "Requirement already satisfied: plotly in /opt/conda/envs/Python-RT23.1/lib/python3.10/site-packages (from catboost) (5.9.0)\n",
      "Requirement already satisfied: six in /opt/conda/envs/Python-RT23.1/lib/python3.10/site-packages (from catboost) (1.16.0)\n",
      "Requirement already satisfied: scikit-learn>=0.18 in /opt/conda/envs/Python-RT23.1/lib/python3.10/site-packages (from scikit-plot) (1.1.1)\n",
      "Requirement already satisfied: joblib>=0.10 in /opt/conda/envs/Python-RT23.1/lib/python3.10/site-packages (from scikit-plot) (1.1.1)\n",
      "Requirement already satisfied: contourpy>=1.0.1 in /opt/conda/envs/Python-RT23.1/lib/python3.10/site-packages (from matplotlib->catboost) (1.0.5)\n",
      "Requirement already satisfied: cycler>=0.10 in /opt/conda/envs/Python-RT23.1/lib/python3.10/site-packages (from matplotlib->catboost) (0.11.0)\n",
      "Requirement already satisfied: fonttools>=4.22.0 in /opt/conda/envs/Python-RT23.1/lib/python3.10/site-packages (from matplotlib->catboost) (4.51.0)\n",
      "Requirement already satisfied: kiwisolver>=1.0.1 in /opt/conda/envs/Python-RT23.1/lib/python3.10/site-packages (from matplotlib->catboost) (1.4.4)\n",
      "Requirement already satisfied: packaging>=20.0 in /opt/conda/envs/Python-RT23.1/lib/python3.10/site-packages (from matplotlib->catboost) (23.0)\n",
      "Requirement already satisfied: pillow>=6.2.0 in /opt/conda/envs/Python-RT23.1/lib/python3.10/site-packages (from matplotlib->catboost) (10.3.0)\n",
      "Requirement already satisfied: pyparsing>=2.3.1 in /opt/conda/envs/Python-RT23.1/lib/python3.10/site-packages (from matplotlib->catboost) (3.0.9)\n",
      "Requirement already satisfied: python-dateutil>=2.7 in /opt/conda/envs/Python-RT23.1/lib/python3.10/site-packages (from matplotlib->catboost) (2.8.2)\n",
      "Requirement already satisfied: pytz>=2020.1 in /opt/conda/envs/Python-RT23.1/lib/python3.10/site-packages (from pandas>=0.24->catboost) (2022.7)\n",
      "Requirement already satisfied: threadpoolctl>=2.0.0 in /opt/conda/envs/Python-RT23.1/lib/python3.10/site-packages (from scikit-learn>=0.18->scikit-plot) (2.2.0)\n",
      "Requirement already satisfied: tenacity>=6.2.0 in /opt/conda/envs/Python-RT23.1/lib/python3.10/site-packages (from plotly->catboost) (8.0.1)\n"
     ]
    }
   ],
   "source": [
    "!pip install catboost scikit-plot"
   ]
  },
  {
   "cell_type": "code",
   "execution_count": 9,
   "metadata": {},
   "outputs": [],
   "source": [
    "import pandas as pd\n",
    "import numpy as np\n",
    "\n",
    "import re, math, os\n",
    "\n",
    "from collections import Counter, defaultdict\n",
    "\n",
    "from sklearn.model_selection import cross_val_score, cross_val_predict, StratifiedKFold\n",
    "from sklearn.feature_extraction.text import CountVectorizer, TfidfVectorizer\n",
    "\n",
    "from sklearn.dummy import DummyClassifier\n",
    "from sklearn.linear_model import LogisticRegression\n",
    "from sklearn.svm import SVC\n",
    "from sklearn.model_selection import GridSearchCV\n",
    "from sklearn.pipeline import Pipeline\n",
    "from sklearn.naive_bayes import MultinomialNB\n",
    "from sklearn.tree import DecisionTreeClassifier\n",
    "from sklearn.ensemble import RandomForestClassifier\n",
    "import xgboost as xgb\n",
    "import catboost as ctb\n",
    "#import lightgbm as lgb\n",
    "\n",
    "from sklearn.metrics import accuracy_score, f1_score\n",
    "from scikitplot.metrics import plot_confusion_matrix\n",
    "from sklearn.metrics import ConfusionMatrixDisplay\n",
    "\n",
    "import matplotlib.pyplot as plt\n",
    "import seaborn as sns\n",
    "%matplotlib inline"
   ]
  },
  {
   "cell_type": "markdown",
   "metadata": {},
   "source": [
    "As we did previously e.g. in Lab.I.80, let's collect individual training reviews into a list of chains: one chain per review.\n",
    "We also collect review labels (positive/negative) for the labels list."
   ]
  },
  {
   "cell_type": "code",
   "execution_count": 10,
   "metadata": {},
   "outputs": [],
   "source": [
    "import os, sys, io\n",
    "import numpy as np\n",
    "from io import BytesIO, StringIO\n",
    "from project_lib import Project"
   ]
  },
  {
   "cell_type": "markdown",
   "metadata": {},
   "source": [
    "## Train DataFrame"
   ]
  },
  {
   "cell_type": "code",
   "execution_count": 11,
   "metadata": {},
   "outputs": [],
   "source": [
    "import os, types\n",
    "from botocore.client import Config\n",
    "import ibm_boto3\n",
    "\n",
    "def __iter__(self): return 0\n",
    "\n",
    "# @hidden_cell\n",
    "# The following code accesses a file in your IBM Cloud Object Storage. It includes your credentials.\n",
    "# You might want to remove those credentials before you share the notebook.\n",
    "\n",
    "if os.environ.get('RUNTIME_ENV_LOCATION_TYPE') == 'external':\n",
    "    endpoint_a205bd0ef67d4e43a20f54571521aa41 = 'https://s3-api.us-geo.objectstorage.softlayer.net'\n",
    "else:\n",
    "    endpoint_a205bd0ef67d4e43a20f54571521aa41 = 'https://s3-api.us-geo.objectstorage.service.networklayer.com'\n",
    "\n",
    "client_a205bd0ef67d4e43a20f54571521aa41 = ibm_boto3.client(service_name='s3',\n",
    "    ibm_api_key_id='3oTQ_GU9OAHXSgCgxR06S1CTzFOR44-4KvNuuoVgBqux',\n",
    "    ibm_auth_endpoint=\"https://iam.cloud.ibm.com/oidc/token\",\n",
    "    config=Config(signature_version='oauth'),\n",
    "    endpoint_url=endpoint_a205bd0ef67d4e43a20f54571521aa41)\n",
    "# Your data file was loaded into a botocore.response.StreamingBody object.\n",
    "# Please read the documentation of ibm_boto3 and pandas to learn more about the possibilities to load the data.\n",
    "# ibm_boto3 documentation: https://ibm.github.io/ibm-cos-sdk-python/\n",
    "# pandas documentation: http://pandas.pydata.org/\n",
    "streaming_body_4 = client_a205bd0ef67d4e43a20f54571521aa41.get_object(Bucket='2020l-donotdelete-pr-iya5gjhbhguf6w', Key='aclImdb.zip')['Body']\n",
    "# add missing __iter__ method so pandas accepts body as file-like object\n",
    "if not hasattr(streaming_body_4, \"__iter__\"): streaming_body_4.__iter__ = types.MethodType( __iter__, streaming_body_4 ) \n",
    "    \n",
    "data = streaming_body_4._raw_stream \n",
    "\n",
    "with open(\"imdb.zip\", \"wb\") as outfile:\n",
    "    # Copy the BytesIO stream to the output file\n",
    "    outfile.write(data.read())\n",
    "    \n",
    "\n",
    "import zipfile\n",
    "with zipfile.ZipFile('imdb.zip', 'r') as zip_ref:\n",
    "    zip_ref.extractall('.')"
   ]
  },
  {
   "cell_type": "code",
   "execution_count": 12,
   "metadata": {},
   "outputs": [],
   "source": [
    "imdb_dir = './aclImdb'\n",
    "train_dir = os.path.join(imdb_dir, 'train')\n",
    "\n",
    "labels = []\n",
    "texts = []\n",
    "\n",
    "for label_type in ['neg', 'pos']:\n",
    "    dir_name = os.path.join(train_dir, label_type)\n",
    "    for fname in os.listdir(dir_name):\n",
    "        if fname[-4:] == '.txt':\n",
    "            f = open(os.path.join(dir_name, fname))\n",
    "            texts.append(f.read())\n",
    "            f.close()\n",
    "            if label_type == 'neg':\n",
    "                labels.append(0)\n",
    "            else:\n",
    "                labels.append(1)"
   ]
  },
  {
   "cell_type": "code",
   "execution_count": 13,
   "metadata": {},
   "outputs": [],
   "source": [
    "# create and load df from lists 'labels' and 'texts'\n",
    "df = pd.DataFrame(columns=['labels', 'texts'])\n",
    "df['labels']=labels\n",
    "df['texts']=texts"
   ]
  },
  {
   "cell_type": "code",
   "execution_count": 14,
   "metadata": {},
   "outputs": [
    {
     "data": {
      "text/html": [
       "<div>\n",
       "<style scoped>\n",
       "    .dataframe tbody tr th:only-of-type {\n",
       "        vertical-align: middle;\n",
       "    }\n",
       "\n",
       "    .dataframe tbody tr th {\n",
       "        vertical-align: top;\n",
       "    }\n",
       "\n",
       "    .dataframe thead th {\n",
       "        text-align: right;\n",
       "    }\n",
       "</style>\n",
       "<table border=\"1\" class=\"dataframe\">\n",
       "  <thead>\n",
       "    <tr style=\"text-align: right;\">\n",
       "      <th></th>\n",
       "      <th>labels</th>\n",
       "      <th>texts</th>\n",
       "    </tr>\n",
       "  </thead>\n",
       "  <tbody>\n",
       "    <tr>\n",
       "      <th>0</th>\n",
       "      <td>0</td>\n",
       "      <td>Thanks to a dull, dimensionless screenplay by ...</td>\n",
       "    </tr>\n",
       "    <tr>\n",
       "      <th>1</th>\n",
       "      <td>0</td>\n",
       "      <td>First of all, the big named actors must need t...</td>\n",
       "    </tr>\n",
       "    <tr>\n",
       "      <th>2</th>\n",
       "      <td>0</td>\n",
       "      <td>Yep, the topic is a straight quote from the mo...</td>\n",
       "    </tr>\n",
       "    <tr>\n",
       "      <th>3</th>\n",
       "      <td>0</td>\n",
       "      <td>I've always been enthusiastic about period dra...</td>\n",
       "    </tr>\n",
       "    <tr>\n",
       "      <th>4</th>\n",
       "      <td>0</td>\n",
       "      <td>Seeing all of the negative reviews for this mo...</td>\n",
       "    </tr>\n",
       "    <tr>\n",
       "      <th>...</th>\n",
       "      <td>...</td>\n",
       "      <td>...</td>\n",
       "    </tr>\n",
       "    <tr>\n",
       "      <th>24995</th>\n",
       "      <td>1</td>\n",
       "      <td>This movie is great fun to watch if you love f...</td>\n",
       "    </tr>\n",
       "    <tr>\n",
       "      <th>24996</th>\n",
       "      <td>1</td>\n",
       "      <td>Enchanted April is a tone poem, an impressioni...</td>\n",
       "    </tr>\n",
       "    <tr>\n",
       "      <th>24997</th>\n",
       "      <td>1</td>\n",
       "      <td>I thoroughly enjoyed the first part of this tw...</td>\n",
       "    </tr>\n",
       "    <tr>\n",
       "      <th>24998</th>\n",
       "      <td>1</td>\n",
       "      <td>Presenting Lily Mars is a real pleasant little...</td>\n",
       "    </tr>\n",
       "    <tr>\n",
       "      <th>24999</th>\n",
       "      <td>1</td>\n",
       "      <td>Jacknife is a masterpiece of the 80's. It's a ...</td>\n",
       "    </tr>\n",
       "  </tbody>\n",
       "</table>\n",
       "<p>25000 rows × 2 columns</p>\n",
       "</div>"
      ],
      "text/plain": [
       "       labels                                              texts\n",
       "0           0  Thanks to a dull, dimensionless screenplay by ...\n",
       "1           0  First of all, the big named actors must need t...\n",
       "2           0  Yep, the topic is a straight quote from the mo...\n",
       "3           0  I've always been enthusiastic about period dra...\n",
       "4           0  Seeing all of the negative reviews for this mo...\n",
       "...       ...                                                ...\n",
       "24995       1  This movie is great fun to watch if you love f...\n",
       "24996       1  Enchanted April is a tone poem, an impressioni...\n",
       "24997       1  I thoroughly enjoyed the first part of this tw...\n",
       "24998       1  Presenting Lily Mars is a real pleasant little...\n",
       "24999       1  Jacknife is a masterpiece of the 80's. It's a ...\n",
       "\n",
       "[25000 rows x 2 columns]"
      ]
     },
     "execution_count": 14,
     "metadata": {},
     "output_type": "execute_result"
    }
   ],
   "source": [
    "df"
   ]
  },
  {
   "cell_type": "code",
   "execution_count": 15,
   "metadata": {},
   "outputs": [],
   "source": [
    "# mixing\n",
    "df = df.sample(frac = 1.0, random_state=33)"
   ]
  },
  {
   "cell_type": "code",
   "execution_count": 16,
   "metadata": {
    "scrolled": true
   },
   "outputs": [
    {
     "data": {
      "image/png": "[encoded data removed]",
      "text/plain": [
       "<Figure size 640x480 with 1 Axes>"
      ]
     },
     "metadata": {},
     "output_type": "display_data"
    }
   ],
   "source": [
    "# distribution of labels in the training set\n",
    "df['labels'].value_counts(normalize=True).plot(kind='bar');"
   ]
  },
  {
   "cell_type": "markdown",
   "metadata": {},
   "source": [
    "## Test DataFrame"
   ]
  },
  {
   "cell_type": "code",
   "execution_count": 17,
   "metadata": {},
   "outputs": [],
   "source": [
    "imdb_dir = './aclImdb'\n",
    "test_dir = os.path.join(imdb_dir, 'test')\n",
    "\n",
    "labels_test = []\n",
    "texts_test = []\n",
    "\n",
    "for label_type in ['neg', 'pos']:\n",
    "    dir_name = os.path.join(test_dir, label_type)\n",
    "    for fname in os.listdir(dir_name):\n",
    "        if fname[-4:] == '.txt':\n",
    "            f = open(os.path.join(dir_name, fname))\n",
    "            texts_test.append(f.read())\n",
    "            f.close()\n",
    "            if label_type == 'neg':\n",
    "                labels_test.append(0)\n",
    "            else:\n",
    "                labels_test.append(1)"
   ]
  },
  {
   "cell_type": "code",
   "execution_count": 18,
   "metadata": {},
   "outputs": [],
   "source": [
    "df_test = pd.DataFrame(columns=['labels', 'texts'])\n",
    "df_test['labels']=labels_test\n",
    "df_test['texts']=texts_test"
   ]
  },
  {
   "cell_type": "code",
   "execution_count": 19,
   "metadata": {
    "scrolled": true
   },
   "outputs": [
    {
     "data": {
      "text/html": [
       "<div>\n",
       "<style scoped>\n",
       "    .dataframe tbody tr th:only-of-type {\n",
       "        vertical-align: middle;\n",
       "    }\n",
       "\n",
       "    .dataframe tbody tr th {\n",
       "        vertical-align: top;\n",
       "    }\n",
       "\n",
       "    .dataframe thead th {\n",
       "        text-align: right;\n",
       "    }\n",
       "</style>\n",
       "<table border=\"1\" class=\"dataframe\">\n",
       "  <thead>\n",
       "    <tr style=\"text-align: right;\">\n",
       "      <th></th>\n",
       "      <th>labels</th>\n",
       "      <th>texts</th>\n",
       "    </tr>\n",
       "  </thead>\n",
       "  <tbody>\n",
       "    <tr>\n",
       "      <th>0</th>\n",
       "      <td>0</td>\n",
       "      <td>I rented this film for $5 and felt sorry I did...</td>\n",
       "    </tr>\n",
       "    <tr>\n",
       "      <th>1</th>\n",
       "      <td>0</td>\n",
       "      <td>It's boring.&lt;br /&gt;&lt;br /&gt;It's slow.&lt;br /&gt;&lt;br /&gt;...</td>\n",
       "    </tr>\n",
       "    <tr>\n",
       "      <th>2</th>\n",
       "      <td>0</td>\n",
       "      <td>I have to admit, I'm not a big fan of Satanic ...</td>\n",
       "    </tr>\n",
       "    <tr>\n",
       "      <th>3</th>\n",
       "      <td>0</td>\n",
       "      <td>Hmmm! is it worst film ever? well sort of, for...</td>\n",
       "    </tr>\n",
       "    <tr>\n",
       "      <th>4</th>\n",
       "      <td>0</td>\n",
       "      <td>This is a terrible film. Angie Dickenson is a ...</td>\n",
       "    </tr>\n",
       "    <tr>\n",
       "      <th>...</th>\n",
       "      <td>...</td>\n",
       "      <td>...</td>\n",
       "    </tr>\n",
       "    <tr>\n",
       "      <th>24995</th>\n",
       "      <td>1</td>\n",
       "      <td>this movie may not have seemed like much to so...</td>\n",
       "    </tr>\n",
       "    <tr>\n",
       "      <th>24996</th>\n",
       "      <td>1</td>\n",
       "      <td>Jean Renoir's homage to the Paris of the late ...</td>\n",
       "    </tr>\n",
       "    <tr>\n",
       "      <th>24997</th>\n",
       "      <td>1</td>\n",
       "      <td>If there is such a thing as beautiful horror, ...</td>\n",
       "    </tr>\n",
       "    <tr>\n",
       "      <th>24998</th>\n",
       "      <td>1</td>\n",
       "      <td>This was a really interesting Halloween film. ...</td>\n",
       "    </tr>\n",
       "    <tr>\n",
       "      <th>24999</th>\n",
       "      <td>1</td>\n",
       "      <td>...dislike this movie and everyone would under...</td>\n",
       "    </tr>\n",
       "  </tbody>\n",
       "</table>\n",
       "<p>25000 rows × 2 columns</p>\n",
       "</div>"
      ],
      "text/plain": [
       "       labels                                              texts\n",
       "0           0  I rented this film for $5 and felt sorry I did...\n",
       "1           0  It's boring.<br /><br />It's slow.<br /><br />...\n",
       "2           0  I have to admit, I'm not a big fan of Satanic ...\n",
       "3           0  Hmmm! is it worst film ever? well sort of, for...\n",
       "4           0  This is a terrible film. Angie Dickenson is a ...\n",
       "...       ...                                                ...\n",
       "24995       1  this movie may not have seemed like much to so...\n",
       "24996       1  Jean Renoir's homage to the Paris of the late ...\n",
       "24997       1  If there is such a thing as beautiful horror, ...\n",
       "24998       1  This was a really interesting Halloween film. ...\n",
       "24999       1  ...dislike this movie and everyone would under...\n",
       "\n",
       "[25000 rows x 2 columns]"
      ]
     },
     "execution_count": 19,
     "metadata": {},
     "output_type": "execute_result"
    }
   ],
   "source": [
    "df_test"
   ]
  },
  {
   "cell_type": "markdown",
   "metadata": {},
   "source": [
    "### Embedding reviews with gensim's word2vec"
   ]
  },
  {
   "cell_type": "code",
   "execution_count": 20,
   "metadata": {
    "scrolled": true
   },
   "outputs": [
    {
     "name": "stdout",
     "output_type": "stream",
     "text": [
      "Requirement already satisfied: gensim in /opt/conda/envs/Python-RT23.1/lib/python3.10/site-packages (4.1.2)\n",
      "Collecting nltk\n",
      "  Downloading nltk-3.8.1-py3-none-any.whl.metadata (2.8 kB)\n",
      "Requirement already satisfied: numpy>=1.17.0 in /opt/conda/envs/Python-RT23.1/lib/python3.10/site-packages (from gensim) (1.23.5)\n",
      "Requirement already satisfied: scipy>=0.18.1 in /opt/conda/envs/Python-RT23.1/lib/python3.10/site-packages (from gensim) (1.10.1)\n",
      "Requirement already satisfied: smart-open>=1.8.1 in /opt/conda/envs/Python-RT23.1/lib/python3.10/site-packages (from gensim) (6.1.0)\n",
      "Requirement already satisfied: click in /opt/conda/envs/Python-RT23.1/lib/python3.10/site-packages (from nltk) (8.0.4)\n",
      "Requirement already satisfied: joblib in /opt/conda/envs/Python-RT23.1/lib/python3.10/site-packages (from nltk) (1.1.1)\n",
      "Collecting regex>=2021.8.3 (from nltk)\n",
      "  Downloading regex-2024.5.10-cp310-cp310-manylinux_2_17_x86_64.manylinux2014_x86_64.whl.metadata (40 kB)\n",
      "\u001b[2K     \u001b[90m━━━━━━━━━━━━━━━━━━━━━━━━━━━━━━━━━━━━━━━━\u001b[0m \u001b[32m40.9/40.9 kB\u001b[0m \u001b[31m2.8 MB/s\u001b[0m eta \u001b[36m0:00:00\u001b[0m\n",
      "\u001b[?25hRequirement already satisfied: tqdm in /opt/conda/envs/Python-RT23.1/lib/python3.10/site-packages (from nltk) (4.65.0)\n",
      "Downloading nltk-3.8.1-py3-none-any.whl (1.5 MB)\n",
      "\u001b[2K   \u001b[90m━━━━━━━━━━━━━━━━━━━━━━━━━━━━━━━━━━━━━━━━\u001b[0m \u001b[32m1.5/1.5 MB\u001b[0m \u001b[31m25.5 MB/s\u001b[0m eta \u001b[36m0:00:00\u001b[0ma \u001b[36m0:00:01\u001b[0m\n",
      "\u001b[?25hDownloading regex-2024.5.10-cp310-cp310-manylinux_2_17_x86_64.manylinux2014_x86_64.whl (774 kB)\n",
      "\u001b[2K   \u001b[90m━━━━━━━━━━━━━━━━━━━━━━━━━━━━━━━━━━━━━━━━\u001b[0m \u001b[32m774.1/774.1 kB\u001b[0m \u001b[31m35.1 MB/s\u001b[0m eta \u001b[36m0:00:00\u001b[0m\n",
      "\u001b[?25hInstalling collected packages: regex, nltk\n",
      "Successfully installed nltk-3.8.1 regex-2024.5.10\n"
     ]
    }
   ],
   "source": [
    "!pip install gensim nltk"
   ]
  },
  {
   "cell_type": "code",
   "execution_count": 23,
   "metadata": {
    "scrolled": true
   },
   "outputs": [
    {
     "name": "stderr",
     "output_type": "stream",
     "text": [
      "[nltk_data] Downloading package stopwords to /home/wsuser/nltk_data...\n",
      "[nltk_data]   Unzipping corpora/stopwords.zip.\n",
      "[nltk_data] Downloading package punkt to /home/wsuser/nltk_data...\n",
      "[nltk_data]   Unzipping tokenizers/punkt.zip.\n"
     ]
    },
    {
     "name": "stdout",
     "output_type": "stream",
     "text": [
      "[[-0.49444049  0.65185212 -0.20262805 ... -0.29978586  0.1130101\n",
      "  -0.06768045]\n",
      " [-0.70744927  0.24700383  0.00751413 ... -0.24356746  0.08839179\n",
      "  -0.21531266]\n",
      " [-0.11401234  0.38412384  0.02248525 ... -0.06024845 -0.19606876\n",
      "  -0.15946892]\n",
      " ...\n",
      " [-0.33544414  0.78503942 -0.11779283 ... -0.18386177 -0.09160256\n",
      "  -0.4021806 ]\n",
      " [-0.54796047  0.5345536  -0.15771393 ... -0.23536184 -0.01190805\n",
      "  -0.0207341 ]\n",
      " [-0.29860489  0.4610348  -0.08098738 ... -0.17980758  0.0598852\n",
      "  -0.11437131]]\n"
     ]
    }
   ],
   "source": [
    "import pandas as pd\n",
    "import numpy as np\n",
    "import gensim\n",
    "from gensim.models import Word2Vec\n",
    "import nltk\n",
    "nltk.download('stopwords')\n",
    "nltk.download('punkt')\n",
    "from nltk.tokenize import word_tokenize\n",
    "from nltk.corpus import stopwords\n",
    "\n",
    "import string\n",
    "\n",
    "# Function for text preprocessing\n",
    "def preprocess_text(text):\n",
    "    # Tokenization\n",
    "    tokens = word_tokenize(text)\n",
    "    # Lowercasing\n",
    "    tokens = [word.lower() for word in tokens]\n",
    "    # Removing punctuation\n",
    "    tokens = [word for word in tokens if word not in string.punctuation]\n",
    "    # Removing stopwords\n",
    "    stop_words = set(stopwords.words('english'))\n",
    "    tokens = [word for word in tokens if word not in stop_words]\n",
    "    return tokens\n",
    "\n",
    "# Apply preprocessing to each review\n",
    "df['processed_text'] = df['texts'].apply(preprocess_text)\n",
    "\n",
    "# Train Word2Vec model\n",
    "model = Word2Vec(sentences=df['processed_text'], vector_size=100, window=5, min_count=1, workers=4)\n",
    "\n",
    "# Function to get vector representation of a review\n",
    "def review_to_vec(review):\n",
    "    vec = np.zeros(model.vector_size)\n",
    "    count = 0\n",
    "    for word in review:\n",
    "        if word in model.wv:\n",
    "            vec += model.wv[word]\n",
    "            count += 1\n",
    "    if count != 0:\n",
    "        vec /= count\n",
    "    return vec\n",
    "\n",
    "# Transform reviews to vectors\n",
    "vectors = np.array([review_to_vec(review) for review in df['processed_text']])\n",
    "\n",
    "print(vectors)\n"
   ]
  },
  {
   "cell_type": "code",
   "execution_count": 24,
   "metadata": {},
   "outputs": [
    {
     "name": "stdout",
     "output_type": "stream",
     "text": [
      "(25000, 100)\n"
     ]
    }
   ],
   "source": [
    "X_train_emb = vectors\n",
    "\n",
    "df_test['processed_text'] = df_test['texts'].apply(preprocess_text)\n",
    "X_test_emb = np.array([review_to_vec(review) for review in df_test['processed_text']])\n",
    "print(X_test_emb.shape)"
   ]
  },
  {
   "cell_type": "code",
   "execution_count": 26,
   "metadata": {},
   "outputs": [
    {
     "name": "stdout",
     "output_type": "stream",
     "text": [
      "model=dummy, accuracy=0.50228\n",
      "Fitting 3 folds for each of 16 candidates, totalling 48 fits\n",
      "[CV 1/3] END l2_leaf_reg=1, learning_rate=0.01, max_depth=5, n_estimators=50;, score=0.772 total time=   1.2s\n",
      "[CV 2/3] END l2_leaf_reg=1, learning_rate=0.01, max_depth=5, n_estimators=50;, score=0.760 total time=   1.0s\n",
      "[CV 3/3] END l2_leaf_reg=1, learning_rate=0.01, max_depth=5, n_estimators=50;, score=0.762 total time=   1.0s\n",
      "[CV 1/3] END l2_leaf_reg=1, learning_rate=0.01, max_depth=5, n_estimators=150;, score=0.787 total time=   1.7s\n",
      "[CV 2/3] END l2_leaf_reg=1, learning_rate=0.01, max_depth=5, n_estimators=150;, score=0.780 total time=   1.8s\n",
      "[CV 3/3] END l2_leaf_reg=1, learning_rate=0.01, max_depth=5, n_estimators=150;, score=0.784 total time=   1.7s\n",
      "[CV 1/3] END l2_leaf_reg=1, learning_rate=0.01, max_depth=10, n_estimators=50;, score=0.786 total time=   4.4s\n",
      "[CV 2/3] END l2_leaf_reg=1, learning_rate=0.01, max_depth=10, n_estimators=50;, score=0.780 total time=   4.3s\n",
      "[CV 3/3] END l2_leaf_reg=1, learning_rate=0.01, max_depth=10, n_estimators=50;, score=0.787 total time=   4.4s\n",
      "[CV 1/3] END l2_leaf_reg=1, learning_rate=0.01, max_depth=10, n_estimators=150;, score=0.800 total time=  11.6s\n",
      "[CV 2/3] END l2_leaf_reg=1, learning_rate=0.01, max_depth=10, n_estimators=150;, score=0.796 total time=  11.7s\n",
      "[CV 3/3] END l2_leaf_reg=1, learning_rate=0.01, max_depth=10, n_estimators=150;, score=0.797 total time=  12.0s\n",
      "[CV 1/3] END l2_leaf_reg=1, learning_rate=0.5, max_depth=5, n_estimators=50;, score=0.818 total time=   0.9s\n",
      "[CV 2/3] END l2_leaf_reg=1, learning_rate=0.5, max_depth=5, n_estimators=50;, score=0.814 total time=   1.0s\n",
      "[CV 3/3] END l2_leaf_reg=1, learning_rate=0.5, max_depth=5, n_estimators=50;, score=0.814 total time=   1.0s\n",
      "[CV 1/3] END l2_leaf_reg=1, learning_rate=0.5, max_depth=5, n_estimators=150;, score=0.820 total time=   1.8s\n",
      "[CV 2/3] END l2_leaf_reg=1, learning_rate=0.5, max_depth=5, n_estimators=150;, score=0.811 total time=   1.9s\n",
      "[CV 3/3] END l2_leaf_reg=1, learning_rate=0.5, max_depth=5, n_estimators=150;, score=0.812 total time=   1.8s\n",
      "[CV 1/3] END l2_leaf_reg=1, learning_rate=0.5, max_depth=10, n_estimators=50;, score=0.798 total time=   4.9s\n",
      "[CV 2/3] END l2_leaf_reg=1, learning_rate=0.5, max_depth=10, n_estimators=50;, score=0.803 total time=   4.6s\n",
      "[CV 3/3] END l2_leaf_reg=1, learning_rate=0.5, max_depth=10, n_estimators=50;, score=0.794 total time=   4.3s\n",
      "[CV 1/3] END l2_leaf_reg=1, learning_rate=0.5, max_depth=10, n_estimators=150;, score=0.809 total time=  11.9s\n",
      "[CV 2/3] END l2_leaf_reg=1, learning_rate=0.5, max_depth=10, n_estimators=150;, score=0.816 total time=  12.2s\n",
      "[CV 3/3] END l2_leaf_reg=1, learning_rate=0.5, max_depth=10, n_estimators=150;, score=0.806 total time=  12.1s\n",
      "[CV 1/3] END l2_leaf_reg=5, learning_rate=0.01, max_depth=5, n_estimators=50;, score=0.767 total time=   1.0s\n",
      "[CV 2/3] END l2_leaf_reg=5, learning_rate=0.01, max_depth=5, n_estimators=50;, score=0.762 total time=   1.0s\n",
      "[CV 3/3] END l2_leaf_reg=5, learning_rate=0.01, max_depth=5, n_estimators=50;, score=0.761 total time=   1.0s\n",
      "[CV 1/3] END l2_leaf_reg=5, learning_rate=0.01, max_depth=5, n_estimators=150;, score=0.785 total time=   1.8s\n",
      "[CV 2/3] END l2_leaf_reg=5, learning_rate=0.01, max_depth=5, n_estimators=150;, score=0.778 total time=   1.9s\n",
      "[CV 3/3] END l2_leaf_reg=5, learning_rate=0.01, max_depth=5, n_estimators=150;, score=0.782 total time=   1.8s\n",
      "[CV 1/3] END l2_leaf_reg=5, learning_rate=0.01, max_depth=10, n_estimators=50;, score=0.785 total time=   4.4s\n",
      "[CV 2/3] END l2_leaf_reg=5, learning_rate=0.01, max_depth=10, n_estimators=50;, score=0.778 total time=   4.5s\n",
      "[CV 3/3] END l2_leaf_reg=5, learning_rate=0.01, max_depth=10, n_estimators=50;, score=0.783 total time=   4.7s\n",
      "[CV 1/3] END l2_leaf_reg=5, learning_rate=0.01, max_depth=10, n_estimators=150;, score=0.799 total time=  11.4s\n",
      "[CV 2/3] END l2_leaf_reg=5, learning_rate=0.01, max_depth=10, n_estimators=150;, score=0.793 total time=  11.4s\n",
      "[CV 3/3] END l2_leaf_reg=5, learning_rate=0.01, max_depth=10, n_estimators=150;, score=0.797 total time=  12.1s\n",
      "[CV 1/3] END l2_leaf_reg=5, learning_rate=0.5, max_depth=5, n_estimators=50;, score=0.818 total time=   1.0s\n",
      "[CV 2/3] END l2_leaf_reg=5, learning_rate=0.5, max_depth=5, n_estimators=50;, score=0.816 total time=   1.0s\n",
      "[CV 3/3] END l2_leaf_reg=5, learning_rate=0.5, max_depth=5, n_estimators=50;, score=0.809 total time=   1.0s\n",
      "[CV 1/3] END l2_leaf_reg=5, learning_rate=0.5, max_depth=5, n_estimators=150;, score=0.817 total time=   1.8s\n",
      "[CV 2/3] END l2_leaf_reg=5, learning_rate=0.5, max_depth=5, n_estimators=150;, score=0.818 total time=   1.7s\n",
      "[CV 3/3] END l2_leaf_reg=5, learning_rate=0.5, max_depth=5, n_estimators=150;, score=0.810 total time=   1.8s\n",
      "[CV 1/3] END l2_leaf_reg=5, learning_rate=0.5, max_depth=10, n_estimators=50;, score=0.808 total time=   4.4s\n",
      "[CV 2/3] END l2_leaf_reg=5, learning_rate=0.5, max_depth=10, n_estimators=50;, score=0.800 total time=   4.3s\n",
      "[CV 3/3] END l2_leaf_reg=5, learning_rate=0.5, max_depth=10, n_estimators=50;, score=0.797 total time=   4.4s\n",
      "[CV 1/3] END l2_leaf_reg=5, learning_rate=0.5, max_depth=10, n_estimators=150;, score=0.818 total time=  11.5s\n",
      "[CV 2/3] END l2_leaf_reg=5, learning_rate=0.5, max_depth=10, n_estimators=150;, score=0.814 total time=  11.3s\n",
      "[CV 3/3] END l2_leaf_reg=5, learning_rate=0.5, max_depth=10, n_estimators=150;, score=0.809 total time=  11.9s\n",
      "model=catboost, accuracy=0.91888\n",
      "Fitting 3 folds for each of 24 candidates, totalling 72 fits\n",
      "[CV 1/3] END gamma=0, learning_rate=0.01, max_depth=5, n_estimators=50;, score=0.765 total time=   3.3s\n",
      "[CV 2/3] END gamma=0, learning_rate=0.01, max_depth=5, n_estimators=50;, score=0.763 total time=   3.3s\n",
      "[CV 3/3] END gamma=0, learning_rate=0.01, max_depth=5, n_estimators=50;, score=0.762 total time=   3.3s\n",
      "[CV 1/3] END gamma=0, learning_rate=0.01, max_depth=5, n_estimators=150;, score=0.785 total time=   9.5s\n",
      "[CV 2/3] END gamma=0, learning_rate=0.01, max_depth=5, n_estimators=150;, score=0.777 total time=   9.7s\n",
      "[CV 3/3] END gamma=0, learning_rate=0.01, max_depth=5, n_estimators=150;, score=0.783 total time=  10.1s\n",
      "[CV 1/3] END gamma=0, learning_rate=0.01, max_depth=10, n_estimators=50;, score=0.786 total time=   7.8s\n",
      "[CV 2/3] END gamma=0, learning_rate=0.01, max_depth=10, n_estimators=50;, score=0.783 total time=   7.7s\n",
      "[CV 3/3] END gamma=0, learning_rate=0.01, max_depth=10, n_estimators=50;, score=0.784 total time=   7.7s\n",
      "[CV 1/3] END gamma=0, learning_rate=0.01, max_depth=10, n_estimators=150;, score=0.801 total time=  23.7s\n",
      "[CV 2/3] END gamma=0, learning_rate=0.01, max_depth=10, n_estimators=150;, score=0.799 total time=  22.3s\n",
      "[CV 3/3] END gamma=0, learning_rate=0.01, max_depth=10, n_estimators=150;, score=0.800 total time=  22.5s\n",
      "[CV 1/3] END gamma=0, learning_rate=0.5, max_depth=5, n_estimators=50;, score=0.816 total time=   3.0s\n",
      "[CV 2/3] END gamma=0, learning_rate=0.5, max_depth=5, n_estimators=50;, score=0.814 total time=   3.0s\n",
      "[CV 3/3] END gamma=0, learning_rate=0.5, max_depth=5, n_estimators=50;, score=0.809 total time=   3.0s\n",
      "[CV 1/3] END gamma=0, learning_rate=0.5, max_depth=5, n_estimators=150;, score=0.817 total time=   8.8s\n",
      "[CV 2/3] END gamma=0, learning_rate=0.5, max_depth=5, n_estimators=150;, score=0.818 total time=   8.8s\n",
      "[CV 3/3] END gamma=0, learning_rate=0.5, max_depth=5, n_estimators=150;, score=0.812 total time=   8.7s\n",
      "[CV 1/3] END gamma=0, learning_rate=0.5, max_depth=10, n_estimators=50;, score=0.814 total time=   6.2s\n",
      "[CV 2/3] END gamma=0, learning_rate=0.5, max_depth=10, n_estimators=50;, score=0.814 total time=   6.2s\n",
      "[CV 3/3] END gamma=0, learning_rate=0.5, max_depth=10, n_estimators=50;, score=0.814 total time=   6.5s\n",
      "[CV 1/3] END gamma=0, learning_rate=0.5, max_depth=10, n_estimators=150;, score=0.820 total time=  15.0s\n",
      "[CV 2/3] END gamma=0, learning_rate=0.5, max_depth=10, n_estimators=150;, score=0.820 total time=  15.0s\n",
      "[CV 3/3] END gamma=0, learning_rate=0.5, max_depth=10, n_estimators=150;, score=0.820 total time=  14.8s\n",
      "[CV 1/3] END gamma=0.1, learning_rate=0.01, max_depth=5, n_estimators=50;, score=0.765 total time=   3.2s\n",
      "[CV 2/3] END gamma=0.1, learning_rate=0.01, max_depth=5, n_estimators=50;, score=0.763 total time=   3.1s\n",
      "[CV 3/3] END gamma=0.1, learning_rate=0.01, max_depth=5, n_estimators=50;, score=0.762 total time=   3.1s\n",
      "[CV 1/3] END gamma=0.1, learning_rate=0.01, max_depth=5, n_estimators=150;, score=0.785 total time=   9.4s\n",
      "[CV 2/3] END gamma=0.1, learning_rate=0.01, max_depth=5, n_estimators=150;, score=0.777 total time=   9.5s\n",
      "[CV 3/3] END gamma=0.1, learning_rate=0.01, max_depth=5, n_estimators=150;, score=0.783 total time=   9.4s\n",
      "[CV 1/3] END gamma=0.1, learning_rate=0.01, max_depth=10, n_estimators=50;, score=0.786 total time=   7.4s\n",
      "[CV 2/3] END gamma=0.1, learning_rate=0.01, max_depth=10, n_estimators=50;, score=0.784 total time=   7.1s\n",
      "[CV 3/3] END gamma=0.1, learning_rate=0.01, max_depth=10, n_estimators=50;, score=0.784 total time=   7.5s\n",
      "[CV 1/3] END gamma=0.1, learning_rate=0.01, max_depth=10, n_estimators=150;, score=0.801 total time=  23.7s\n",
      "[CV 2/3] END gamma=0.1, learning_rate=0.01, max_depth=10, n_estimators=150;, score=0.799 total time=  22.6s\n",
      "[CV 3/3] END gamma=0.1, learning_rate=0.01, max_depth=10, n_estimators=150;, score=0.799 total time=  22.9s\n",
      "[CV 1/3] END gamma=0.1, learning_rate=0.5, max_depth=5, n_estimators=50;, score=0.813 total time=   3.1s\n",
      "[CV 2/3] END gamma=0.1, learning_rate=0.5, max_depth=5, n_estimators=50;, score=0.808 total time=   3.1s\n",
      "[CV 3/3] END gamma=0.1, learning_rate=0.5, max_depth=5, n_estimators=50;, score=0.806 total time=   3.0s\n",
      "[CV 1/3] END gamma=0.1, learning_rate=0.5, max_depth=5, n_estimators=150;, score=0.816 total time=   8.9s\n",
      "[CV 2/3] END gamma=0.1, learning_rate=0.5, max_depth=5, n_estimators=150;, score=0.818 total time=   8.8s\n",
      "[CV 3/3] END gamma=0.1, learning_rate=0.5, max_depth=5, n_estimators=150;, score=0.813 total time=   8.8s\n",
      "[CV 1/3] END gamma=0.1, learning_rate=0.5, max_depth=10, n_estimators=50;, score=0.817 total time=   6.3s\n",
      "[CV 2/3] END gamma=0.1, learning_rate=0.5, max_depth=10, n_estimators=50;, score=0.815 total time=   6.3s\n",
      "[CV 3/3] END gamma=0.1, learning_rate=0.5, max_depth=10, n_estimators=50;, score=0.810 total time=   6.6s\n",
      "[CV 1/3] END gamma=0.1, learning_rate=0.5, max_depth=10, n_estimators=150;, score=0.819 total time=  16.0s\n",
      "[CV 2/3] END gamma=0.1, learning_rate=0.5, max_depth=10, n_estimators=150;, score=0.816 total time=  15.7s\n",
      "[CV 3/3] END gamma=0.1, learning_rate=0.5, max_depth=10, n_estimators=150;, score=0.813 total time=  15.8s\n",
      "[CV 1/3] END gamma=0.2, learning_rate=0.01, max_depth=5, n_estimators=50;, score=0.765 total time=   3.1s\n",
      "[CV 2/3] END gamma=0.2, learning_rate=0.01, max_depth=5, n_estimators=50;, score=0.763 total time=   3.2s\n",
      "[CV 3/3] END gamma=0.2, learning_rate=0.01, max_depth=5, n_estimators=50;, score=0.762 total time=   3.9s\n",
      "[CV 1/3] END gamma=0.2, learning_rate=0.01, max_depth=5, n_estimators=150;, score=0.785 total time=   9.4s\n",
      "[CV 2/3] END gamma=0.2, learning_rate=0.01, max_depth=5, n_estimators=150;, score=0.777 total time=   9.7s\n",
      "[CV 3/3] END gamma=0.2, learning_rate=0.01, max_depth=5, n_estimators=150;, score=0.783 total time=  10.0s\n",
      "[CV 1/3] END gamma=0.2, learning_rate=0.01, max_depth=10, n_estimators=50;, score=0.786 total time=   7.6s\n",
      "[CV 2/3] END gamma=0.2, learning_rate=0.01, max_depth=10, n_estimators=50;, score=0.784 total time=   7.6s\n",
      "[CV 3/3] END gamma=0.2, learning_rate=0.01, max_depth=10, n_estimators=50;, score=0.783 total time=   7.6s\n",
      "[CV 1/3] END gamma=0.2, learning_rate=0.01, max_depth=10, n_estimators=150;, score=0.802 total time=  23.1s\n",
      "[CV 2/3] END gamma=0.2, learning_rate=0.01, max_depth=10, n_estimators=150;, score=0.798 total time=  23.3s\n",
      "[CV 3/3] END gamma=0.2, learning_rate=0.01, max_depth=10, n_estimators=150;, score=0.800 total time=  22.8s\n",
      "[CV 1/3] END gamma=0.2, learning_rate=0.5, max_depth=5, n_estimators=50;, score=0.813 total time=   3.1s\n",
      "[CV 2/3] END gamma=0.2, learning_rate=0.5, max_depth=5, n_estimators=50;, score=0.810 total time=   3.1s\n",
      "[CV 3/3] END gamma=0.2, learning_rate=0.5, max_depth=5, n_estimators=50;, score=0.805 total time=   3.2s\n",
      "[CV 1/3] END gamma=0.2, learning_rate=0.5, max_depth=5, n_estimators=150;, score=0.820 total time=   9.1s\n",
      "[CV 2/3] END gamma=0.2, learning_rate=0.5, max_depth=5, n_estimators=150;, score=0.816 total time=   9.1s\n",
      "[CV 3/3] END gamma=0.2, learning_rate=0.5, max_depth=5, n_estimators=150;, score=0.810 total time=   8.8s\n",
      "[CV 1/3] END gamma=0.2, learning_rate=0.5, max_depth=10, n_estimators=50;, score=0.816 total time=   6.4s\n",
      "[CV 2/3] END gamma=0.2, learning_rate=0.5, max_depth=10, n_estimators=50;, score=0.815 total time=   6.3s\n",
      "[CV 3/3] END gamma=0.2, learning_rate=0.5, max_depth=10, n_estimators=50;, score=0.804 total time=   6.1s\n",
      "[CV 1/3] END gamma=0.2, learning_rate=0.5, max_depth=10, n_estimators=150;, score=0.818 total time=  17.1s\n",
      "[CV 2/3] END gamma=0.2, learning_rate=0.5, max_depth=10, n_estimators=150;, score=0.817 total time=  16.7s\n",
      "[CV 3/3] END gamma=0.2, learning_rate=0.5, max_depth=10, n_estimators=150;, score=0.808 total time=  18.7s\n",
      "model=xgboost, accuracy=1.0\n",
      "Fitting 3 folds for each of 5 candidates, totalling 15 fits\n",
      "[CV 1/3] END ...............C=0.001, penalty=l2;, score=0.781 total time=   0.1s\n",
      "[CV 2/3] END ...............C=0.001, penalty=l2;, score=0.776 total time=   0.0s\n",
      "[CV 3/3] END ...............C=0.001, penalty=l2;, score=0.778 total time=   0.0s\n",
      "[CV 1/3] END ................C=0.01, penalty=l2;, score=0.826 total time=   0.1s\n",
      "[CV 2/3] END ................C=0.01, penalty=l2;, score=0.821 total time=   0.1s\n",
      "[CV 3/3] END ................C=0.01, penalty=l2;, score=0.823 total time=   0.1s\n",
      "[CV 1/3] END .................C=0.1, penalty=l2;, score=0.842 total time=   0.2s\n",
      "[CV 2/3] END .................C=0.1, penalty=l2;, score=0.835 total time=   0.1s\n",
      "[CV 3/3] END .................C=0.1, penalty=l2;, score=0.831 total time=   0.1s\n"
     ]
    },
    {
     "name": "stderr",
     "output_type": "stream",
     "text": [
      "/opt/conda/envs/Python-RT23.1/lib/python3.10/site-packages/sklearn/linear_model/_logistic.py:444: ConvergenceWarning: lbfgs failed to converge (status=1):\n",
      "STOP: TOTAL NO. of ITERATIONS REACHED LIMIT.\n",
      "\n",
      "Increase the number of iterations (max_iter) or scale the data as shown in:\n",
      "    https://scikit-learn.org/stable/modules/preprocessing.html\n",
      "Please also refer to the documentation for alternative solver options:\n",
      "    https://scikit-learn.org/stable/modules/linear_model.html#logistic-regression\n",
      "  n_iter_i = _check_optimize_result(\n",
      "/opt/conda/envs/Python-RT23.1/lib/python3.10/site-packages/sklearn/linear_model/_logistic.py:444: ConvergenceWarning: lbfgs failed to converge (status=1):\n",
      "STOP: TOTAL NO. of ITERATIONS REACHED LIMIT.\n",
      "\n",
      "Increase the number of iterations (max_iter) or scale the data as shown in:\n",
      "    https://scikit-learn.org/stable/modules/preprocessing.html\n",
      "Please also refer to the documentation for alternative solver options:\n",
      "    https://scikit-learn.org/stable/modules/linear_model.html#logistic-regression\n",
      "  n_iter_i = _check_optimize_result(\n"
     ]
    },
    {
     "name": "stdout",
     "output_type": "stream",
     "text": [
      "[CV 1/3] END .................C=1.0, penalty=l2;, score=0.843 total time=   0.2s\n",
      "[CV 2/3] END .................C=1.0, penalty=l2;, score=0.841 total time=   0.2s\n"
     ]
    },
    {
     "name": "stderr",
     "output_type": "stream",
     "text": [
      "/opt/conda/envs/Python-RT23.1/lib/python3.10/site-packages/sklearn/linear_model/_logistic.py:444: ConvergenceWarning: lbfgs failed to converge (status=1):\n",
      "STOP: TOTAL NO. of ITERATIONS REACHED LIMIT.\n",
      "\n",
      "Increase the number of iterations (max_iter) or scale the data as shown in:\n",
      "    https://scikit-learn.org/stable/modules/preprocessing.html\n",
      "Please also refer to the documentation for alternative solver options:\n",
      "    https://scikit-learn.org/stable/modules/linear_model.html#logistic-regression\n",
      "  n_iter_i = _check_optimize_result(\n",
      "/opt/conda/envs/Python-RT23.1/lib/python3.10/site-packages/sklearn/linear_model/_logistic.py:444: ConvergenceWarning: lbfgs failed to converge (status=1):\n",
      "STOP: TOTAL NO. of ITERATIONS REACHED LIMIT.\n",
      "\n",
      "Increase the number of iterations (max_iter) or scale the data as shown in:\n",
      "    https://scikit-learn.org/stable/modules/preprocessing.html\n",
      "Please also refer to the documentation for alternative solver options:\n",
      "    https://scikit-learn.org/stable/modules/linear_model.html#logistic-regression\n",
      "  n_iter_i = _check_optimize_result(\n"
     ]
    },
    {
     "name": "stdout",
     "output_type": "stream",
     "text": [
      "[CV 3/3] END .................C=1.0, penalty=l2;, score=0.835 total time=   0.2s\n",
      "[CV 1/3] END ................C=10.0, penalty=l2;, score=0.843 total time=   0.2s\n"
     ]
    },
    {
     "name": "stderr",
     "output_type": "stream",
     "text": [
      "/opt/conda/envs/Python-RT23.1/lib/python3.10/site-packages/sklearn/linear_model/_logistic.py:444: ConvergenceWarning: lbfgs failed to converge (status=1):\n",
      "STOP: TOTAL NO. of ITERATIONS REACHED LIMIT.\n",
      "\n",
      "Increase the number of iterations (max_iter) or scale the data as shown in:\n",
      "    https://scikit-learn.org/stable/modules/preprocessing.html\n",
      "Please also refer to the documentation for alternative solver options:\n",
      "    https://scikit-learn.org/stable/modules/linear_model.html#logistic-regression\n",
      "  n_iter_i = _check_optimize_result(\n",
      "/opt/conda/envs/Python-RT23.1/lib/python3.10/site-packages/sklearn/linear_model/_logistic.py:444: ConvergenceWarning: lbfgs failed to converge (status=1):\n",
      "STOP: TOTAL NO. of ITERATIONS REACHED LIMIT.\n",
      "\n",
      "Increase the number of iterations (max_iter) or scale the data as shown in:\n",
      "    https://scikit-learn.org/stable/modules/preprocessing.html\n",
      "Please also refer to the documentation for alternative solver options:\n",
      "    https://scikit-learn.org/stable/modules/linear_model.html#logistic-regression\n",
      "  n_iter_i = _check_optimize_result(\n"
     ]
    },
    {
     "name": "stdout",
     "output_type": "stream",
     "text": [
      "[CV 2/3] END ................C=10.0, penalty=l2;, score=0.841 total time=   0.2s\n",
      "[CV 3/3] END ................C=10.0, penalty=l2;, score=0.839 total time=   0.2s\n"
     ]
    },
    {
     "name": "stderr",
     "output_type": "stream",
     "text": [
      "/opt/conda/envs/Python-RT23.1/lib/python3.10/site-packages/sklearn/linear_model/_logistic.py:444: ConvergenceWarning: lbfgs failed to converge (status=1):\n",
      "STOP: TOTAL NO. of ITERATIONS REACHED LIMIT.\n",
      "\n",
      "Increase the number of iterations (max_iter) or scale the data as shown in:\n",
      "    https://scikit-learn.org/stable/modules/preprocessing.html\n",
      "Please also refer to the documentation for alternative solver options:\n",
      "    https://scikit-learn.org/stable/modules/linear_model.html#logistic-regression\n",
      "  n_iter_i = _check_optimize_result(\n"
     ]
    },
    {
     "name": "stdout",
     "output_type": "stream",
     "text": [
      "model=LogisticRegression, accuracy=0.84448\n"
     ]
    },
    {
     "data": {
      "image/png": "[encoded data removed]",
      "text/plain": [
       "<Figure size 1500x1000 with 4 Axes>"
      ]
     },
     "metadata": {},
     "output_type": "display_data"
    }
   ],
   "source": [
    "def get_models2(use_dummy):\n",
    "    \n",
    "    models = [('dummy', DummyClassifier(strategy='stratified'))] if use_dummy else []\n",
    "    \n",
    "    models += [\n",
    "        ('catboost', ctb.CatBoostClassifier(random_state=0, verbose=0)),\n",
    "        ('xgboost', xgb.XGBClassifier(random_state=0)),\n",
    "        ('LogisticRegression', LogisticRegression(random_state=0))\n",
    "    ] \n",
    "\n",
    "    parameters = {\n",
    "        'LogisticRegression': {\n",
    "            'C': [0.001, 0.01, 0.1, 1.0, 10.0],\n",
    "            'penalty': ['l2'],\n",
    "        },\n",
    "        'catboost': {\n",
    "            'n_estimators': [50, 150],\n",
    "            'max_depth': [5, 10],\n",
    "            'learning_rate': [0.01, 0.5],\n",
    "            'l2_leaf_reg': [1, 5],\n",
    "        },\n",
    "        'xgboost': {\n",
    "            'n_estimators': [50, 150],\n",
    "            'max_depth': [5, 10],\n",
    "            'learning_rate': [0.01, 0.5],\n",
    "            'gamma': [0, 0.1, 0.2],\n",
    "        }\n",
    "        \n",
    "    }\n",
    "\n",
    "    models_with_grid_search = []\n",
    "    for name, model in models:\n",
    "        if name in parameters:\n",
    "            grid_search = GridSearchCV(model, parameters[name], scoring='accuracy', n_jobs=1, verbose=5, cv=3)\n",
    "            models_with_grid_search.append((name, grid_search))\n",
    "        else:\n",
    "            models_with_grid_search.append((name, model))\n",
    "\n",
    "    return models_with_grid_search\n",
    "\n",
    "def run_models2(X, y, use_dummy=True, scoring='accuracy', plot_result=False, show_confusion_matrix=True):\n",
    "    result = []\n",
    "    #cv = StratifiedKFold(n_splits=cv, shuffle=True, random_state=0)\n",
    "    \n",
    "    num_cols = 4\n",
    "    if show_confusion_matrix:\n",
    "        fig, axes = plt.subplots(nrows=1, ncols=num_cols, figsize=(15,10))\n",
    "    models=get_models2(use_dummy)\n",
    "\n",
    "    for it, (model_name, model) in enumerate(models):\n",
    "        clf = model\n",
    "        clf.fit(X,y)\n",
    "        y_pred = clf.predict(X)\n",
    "        score = accuracy_score(y, y_pred)\n",
    "        print(\"model={}, accuracy={}\".format(model_name, score))\n",
    "\n",
    "        if show_confusion_matrix:\n",
    "            ax = axes[it]\n",
    "            disp = ConfusionMatrixDisplay.from_predictions(y,y_pred,ax=ax,colorbar=None)\n",
    "            disp.ax_.set_title('model: {}'.format(model_name))\n",
    "    return models\n",
    "\n",
    "models = run_models2(X_train_emb ,y_train)"
   ]
  },
  {
   "cell_type": "code",
   "execution_count": 37,
   "metadata": {},
   "outputs": [
    {
     "name": "stdout",
     "output_type": "stream",
     "text": [
      "Model: dummy, Accuracy: 0.5006, ROC AUC: 0.5006\n",
      "Model: catboost, Accuracy: 0.8194, ROC AUC: 0.8194\n",
      "Model: xgboost, Accuracy: 0.8231, ROC AUC: 0.8231\n",
      "Model: logistic regression, Accuracy: 0.8417, ROC AUC: 0.8417\n"
     ]
    },
    {
     "data": {
      "image/png": "[encoded data removed]",
      "text/plain": [
       "<Figure size 1500x1000 with 4 Axes>"
      ]
     },
     "metadata": {},
     "output_type": "display_data"
    }
   ],
   "source": [
    "from sklearn.metrics import accuracy_score, roc_auc_score, roc_curve\n",
    "\n",
    "y_test = df_test['labels']\n",
    "fig, axes = plt.subplots(nrows=1, ncols=4, figsize=(15,10))\n",
    "for i, (model_name, model) in enumerate(models):\n",
    "    ax = axes[i]\n",
    "    y_pred = model.predict(X_test_emb)\n",
    "    \n",
    "    # Calculate accuracy\n",
    "    accuracy = accuracy_score(y_test, y_pred)\n",
    "    \n",
    "    # Calculate ROC AUC\n",
    "    if len(np.unique(y_pred)) > 1:  # Ensure at least two classes are present\n",
    "        roc_auc = roc_auc_score(y_test, y_pred)\n",
    "        fpr, tpr, _ = roc_curve(y_test, y_pred)\n",
    "        \n",
    "    if 'Logistic' in model_name:\n",
    "        model_name = 'logistic regression'\n",
    "        \n",
    "    print(\"Model: {}, Accuracy: {:.4f}, ROC AUC: {:.4f}\".format(model_name, accuracy, roc_auc))\n",
    "    \n",
    "    disp = ConfusionMatrixDisplay.from_predictions(y_test, y_pred, ax=ax, colorbar=None)\n",
    "    disp.ax_.set_title('Model: {}'.format(model_name))\n",
    "    \n",
    "plt.tight_layout()\n",
    "plt.show()\n"
   ]
  },
  {
   "cell_type": "code",
   "execution_count": null,
   "metadata": {},
   "outputs": [],
   "source": []
  },
  {
   "cell_type": "code",
   "execution_count": null,
   "metadata": {},
   "outputs": [],
   "source": []
  },
  {
   "cell_type": "code",
   "execution_count": 87,
   "metadata": {},
   "outputs": [
    {
     "name": "stdout",
     "output_type": "stream",
     "text": [
      "dummy\n",
      "{'constant': None, 'random_state': None, 'strategy': 'stratified'}\n",
      "catboost\n",
      "{'cv': 3, 'error_score': nan, 'estimator__verbose': 0, 'estimator__random_state': 0, 'estimator': <catboost.core.CatBoostClassifier object at 0x7fbeb9195ab0>, 'n_jobs': 1, 'param_grid': {'n_estimators': [50, 150], 'max_depth': [5, 10], 'learning_rate': [0.01, 0.5], 'l2_leaf_reg': [1, 5]}, 'pre_dispatch': '2*n_jobs', 'refit': True, 'return_train_score': False, 'scoring': 'accuracy', 'verbose': 5}\n",
      "xgboost\n",
      "{'cv': 3, 'error_score': nan, 'estimator__objective': 'binary:logistic', 'estimator__use_label_encoder': False, 'estimator__base_score': None, 'estimator__booster': None, 'estimator__callbacks': None, 'estimator__colsample_bylevel': None, 'estimator__colsample_bynode': None, 'estimator__colsample_bytree': None, 'estimator__early_stopping_rounds': None, 'estimator__enable_categorical': False, 'estimator__eval_metric': None, 'estimator__gamma': None, 'estimator__gpu_id': None, 'estimator__grow_policy': None, 'estimator__importance_type': None, 'estimator__interaction_constraints': None, 'estimator__learning_rate': None, 'estimator__max_bin': None, 'estimator__max_cat_to_onehot': None, 'estimator__max_delta_step': None, 'estimator__max_depth': None, 'estimator__max_leaves': None, 'estimator__min_child_weight': None, 'estimator__missing': nan, 'estimator__monotone_constraints': None, 'estimator__n_estimators': 100, 'estimator__n_jobs': None, 'estimator__num_parallel_tree': None, 'estimator__predictor': None, 'estimator__random_state': 0, 'estimator__reg_alpha': None, 'estimator__reg_lambda': None, 'estimator__sampling_method': None, 'estimator__scale_pos_weight': None, 'estimator__subsample': None, 'estimator__tree_method': None, 'estimator__validate_parameters': None, 'estimator__verbosity': None, 'estimator': XGBClassifier(base_score=None, booster=None, callbacks=None,\n",
      "              colsample_bylevel=None, colsample_bynode=None,\n",
      "              colsample_bytree=None, early_stopping_rounds=None,\n",
      "              enable_categorical=False, eval_metric=None, gamma=None,\n",
      "              gpu_id=None, grow_policy=None, importance_type=None,\n",
      "              interaction_constraints=None, learning_rate=None, max_bin=None,\n",
      "              max_cat_to_onehot=None, max_delta_step=None, max_depth=None,\n",
      "              max_leaves=None, min_child_weight=None, missing=nan,\n",
      "              monotone_constraints=None, n_estimators=100, n_jobs=None,\n",
      "              num_parallel_tree=None, predictor=None, random_state=0,\n",
      "              reg_alpha=None, reg_lambda=None, ...), 'n_jobs': 1, 'param_grid': {'n_estimators': [50, 150], 'max_depth': [5, 10], 'learning_rate': [0.01, 0.5], 'gamma': [0, 0.1, 0.2]}, 'pre_dispatch': '2*n_jobs', 'refit': True, 'return_train_score': False, 'scoring': 'accuracy', 'verbose': 5}\n",
      "LogisticRegression\n",
      "{'cv': 3, 'error_score': nan, 'estimator__C': 1.0, 'estimator__class_weight': None, 'estimator__dual': False, 'estimator__fit_intercept': True, 'estimator__intercept_scaling': 1, 'estimator__l1_ratio': None, 'estimator__max_iter': 100, 'estimator__multi_class': 'auto', 'estimator__n_jobs': None, 'estimator__penalty': 'l2', 'estimator__random_state': 0, 'estimator__solver': 'lbfgs', 'estimator__tol': 0.0001, 'estimator__verbose': 0, 'estimator__warm_start': False, 'estimator': LogisticRegression(random_state=0), 'n_jobs': 1, 'param_grid': {'C': [0.001, 0.01, 0.1, 1.0, 10.0], 'penalty': ['l2']}, 'pre_dispatch': '2*n_jobs', 'refit': True, 'return_train_score': False, 'scoring': 'accuracy', 'verbose': 5}\n"
     ]
    }
   ],
   "source": [
    "for m in models:\n",
    "    print(m[0])\n",
    "    print(m[1].get_params())\n",
    "    "
   ]
  },
  {
   "cell_type": "code",
   "execution_count": null,
   "metadata": {},
   "outputs": [],
   "source": []
  }
 ],
 "metadata": {
  "interpreter": {
   "hash": "89f0d777c4a94be2bf2b804940f2dc095d999567ba7f70c79729be93bbb29d94"
  },
  "kernelspec": {
   "display_name": "Python 3.10",
   "language": "python",
   "name": "python3"
  },
  "language_info": {
   "codemirror_mode": {
    "name": "ipython",
    "version": 3
   },
   "file_extension": ".py",
   "mimetype": "text/x-python",
   "name": "python",
   "nbconvert_exporter": "python",
   "pygments_lexer": "ipython3",
   "version": "3.10.14"
  }
 },
 "nbformat": 4,
 "nbformat_minor": 2
}
